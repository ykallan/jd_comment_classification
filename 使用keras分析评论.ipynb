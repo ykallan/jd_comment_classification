{
 "cells": [
  {
   "cell_type": "code",
   "execution_count": 1,
   "metadata": {},
   "outputs": [],
   "source": [
    "import pandas as pd\n",
    "import numpy as np\n",
    "import matplotlib.pyplot as plt\n",
    "import matplotlib as mpl\n",
    "import tensorflow as tf\n",
    "from tensorflow import keras\n",
    "from tensorflow.keras.models import Sequential\n",
    "from tensorflow.keras.layers import Embedding, Flatten, Dense, LSTM\n",
    "from tensorflow.keras.preprocessing.text import Tokenizer\n",
    "from tensorflow.keras.preprocessing.sequence import pad_sequences\n",
    "import jieba\n"
   ]
  },
  {
   "cell_type": "code",
   "execution_count": 2,
   "metadata": {},
   "outputs": [
    {
     "data": {
      "text/html": [
       "<div>\n",
       "<style scoped>\n",
       "    .dataframe tbody tr th:only-of-type {\n",
       "        vertical-align: middle;\n",
       "    }\n",
       "\n",
       "    .dataframe tbody tr th {\n",
       "        vertical-align: top;\n",
       "    }\n",
       "\n",
       "    .dataframe thead th {\n",
       "        text-align: right;\n",
       "    }\n",
       "</style>\n",
       "<table border=\"1\" class=\"dataframe\">\n",
       "  <thead>\n",
       "    <tr style=\"text-align: right;\">\n",
       "      <th></th>\n",
       "      <th>txt</th>\n",
       "    </tr>\n",
       "  </thead>\n",
       "  <tbody>\n",
       "    <tr>\n",
       "      <td>0</td>\n",
       "      <td>外观挺好看?，特别漂亮的，拍照效果特别好，特别清晰，放大来拍也特别清晰。曲面的手感很好，充电...</td>\n",
       "    </tr>\n",
       "    <tr>\n",
       "      <td>1</td>\n",
       "      <td>老公非常满意，充电快，耗电慢，屏幕是曲面屏幕，看着很有画面感，手感也好，大小合适，不宽但是不...</td>\n",
       "    </tr>\n",
       "    <tr>\n",
       "      <td>2</td>\n",
       "      <td>超级闪超级闪的天空之境，连晚上都闪闪发光bulingbuling哦。本来交了另外一款的定金，...</td>\n",
       "    </tr>\n",
       "    <tr>\n",
       "      <td>3</td>\n",
       "      <td>信号超好，辐射低，通话声音清楚信号强弱可以通过数字显示来查看，这样就更加清楚明了，手机运行速...</td>\n",
       "    </tr>\n",
       "    <tr>\n",
       "      <td>4</td>\n",
       "      <td>手机拿到很惊艳，外观大气，「天空之境」很好看。拿在手里质感一流，做工精细，电池耐用，基本上可...</td>\n",
       "    </tr>\n",
       "  </tbody>\n",
       "</table>\n",
       "</div>"
      ],
      "text/plain": [
       "                                                 txt\n",
       "0  外观挺好看?，特别漂亮的，拍照效果特别好，特别清晰，放大来拍也特别清晰。曲面的手感很好，充电...\n",
       "1  老公非常满意，充电快，耗电慢，屏幕是曲面屏幕，看着很有画面感，手感也好，大小合适，不宽但是不...\n",
       "2  超级闪超级闪的天空之境，连晚上都闪闪发光bulingbuling哦。本来交了另外一款的定金，...\n",
       "3  信号超好，辐射低，通话声音清楚信号强弱可以通过数字显示来查看，这样就更加清楚明了，手机运行速...\n",
       "4  手机拿到很惊艳，外观大气，「天空之境」很好看。拿在手里质感一流，做工精细，电池耐用，基本上可..."
      ]
     },
     "execution_count": 2,
     "metadata": {},
     "output_type": "execute_result"
    }
   ],
   "source": [
    "# 导入好评\n",
    "hao = pd.read_csv('好评.txt',sep='\\n')\n",
    "hao.head()"
   ]
  },
  {
   "cell_type": "code",
   "execution_count": 3,
   "metadata": {},
   "outputs": [
    {
     "data": {
      "text/html": [
       "<div>\n",
       "<style scoped>\n",
       "    .dataframe tbody tr th:only-of-type {\n",
       "        vertical-align: middle;\n",
       "    }\n",
       "\n",
       "    .dataframe tbody tr th {\n",
       "        vertical-align: top;\n",
       "    }\n",
       "\n",
       "    .dataframe thead th {\n",
       "        text-align: right;\n",
       "    }\n",
       "</style>\n",
       "<table border=\"1\" class=\"dataframe\">\n",
       "  <thead>\n",
       "    <tr style=\"text-align: right;\">\n",
       "      <th></th>\n",
       "      <th>txt</th>\n",
       "      <th>score</th>\n",
       "    </tr>\n",
       "  </thead>\n",
       "  <tbody>\n",
       "    <tr>\n",
       "      <td>0</td>\n",
       "      <td>外观挺好看?，特别漂亮的，拍照效果特别好，特别清晰，放大来拍也特别清晰。曲面的手感很好，充电...</td>\n",
       "      <td>1</td>\n",
       "    </tr>\n",
       "    <tr>\n",
       "      <td>1</td>\n",
       "      <td>老公非常满意，充电快，耗电慢，屏幕是曲面屏幕，看着很有画面感，手感也好，大小合适，不宽但是不...</td>\n",
       "      <td>1</td>\n",
       "    </tr>\n",
       "    <tr>\n",
       "      <td>2</td>\n",
       "      <td>超级闪超级闪的天空之境，连晚上都闪闪发光bulingbuling哦。本来交了另外一款的定金，...</td>\n",
       "      <td>1</td>\n",
       "    </tr>\n",
       "    <tr>\n",
       "      <td>3</td>\n",
       "      <td>信号超好，辐射低，通话声音清楚信号强弱可以通过数字显示来查看，这样就更加清楚明了，手机运行速...</td>\n",
       "      <td>1</td>\n",
       "    </tr>\n",
       "    <tr>\n",
       "      <td>4</td>\n",
       "      <td>手机拿到很惊艳，外观大气，「天空之境」很好看。拿在手里质感一流，做工精细，电池耐用，基本上可...</td>\n",
       "      <td>1</td>\n",
       "    </tr>\n",
       "    <tr>\n",
       "      <td>...</td>\n",
       "      <td>...</td>\n",
       "      <td>...</td>\n",
       "    </tr>\n",
       "    <tr>\n",
       "      <td>10713</td>\n",
       "      <td>刚到手，一个月后回来加评。目前总体来说，外观满分，手感满分。作为8年的果粉，直至今日，终于看...</td>\n",
       "      <td>1</td>\n",
       "    </tr>\n",
       "    <tr>\n",
       "      <td>10714</td>\n",
       "      <td>手机包装很好无破损，物流也快，手机外观漂亮，款式好看，质量很好，正品，做工精致，屏幕细腻够大...</td>\n",
       "      <td>1</td>\n",
       "    </tr>\n",
       "    <tr>\n",
       "      <td>10715</td>\n",
       "      <td>等这款手机很久了，京东的速度很赞。手机很棒，很惊艳，评测看了一堆，还是上手更真实。屏幕很棒很...</td>\n",
       "      <td>1</td>\n",
       "    </tr>\n",
       "    <tr>\n",
       "      <td>10716</td>\n",
       "      <td>近7年来用的是苹果手机，后来感觉苹果越来越不吸引了，直至华为mate30Pro4G的出现，就...</td>\n",
       "      <td>1</td>\n",
       "    </tr>\n",
       "    <tr>\n",
       "      <td>10717</td>\n",
       "      <td>货已收到，手感很好，外观漂亮，设计很人性化，运行速度超级赞，瀑布屏显得高端大气上档次。拍照效...</td>\n",
       "      <td>1</td>\n",
       "    </tr>\n",
       "  </tbody>\n",
       "</table>\n",
       "<p>10718 rows × 2 columns</p>\n",
       "</div>"
      ],
      "text/plain": [
       "                                                     txt  score\n",
       "0      外观挺好看?，特别漂亮的，拍照效果特别好，特别清晰，放大来拍也特别清晰。曲面的手感很好，充电...      1\n",
       "1      老公非常满意，充电快，耗电慢，屏幕是曲面屏幕，看着很有画面感，手感也好，大小合适，不宽但是不...      1\n",
       "2      超级闪超级闪的天空之境，连晚上都闪闪发光bulingbuling哦。本来交了另外一款的定金，...      1\n",
       "3      信号超好，辐射低，通话声音清楚信号强弱可以通过数字显示来查看，这样就更加清楚明了，手机运行速...      1\n",
       "4      手机拿到很惊艳，外观大气，「天空之境」很好看。拿在手里质感一流，做工精细，电池耐用，基本上可...      1\n",
       "...                                                  ...    ...\n",
       "10713  刚到手，一个月后回来加评。目前总体来说，外观满分，手感满分。作为8年的果粉，直至今日，终于看...      1\n",
       "10714  手机包装很好无破损，物流也快，手机外观漂亮，款式好看，质量很好，正品，做工精致，屏幕细腻够大...      1\n",
       "10715  等这款手机很久了，京东的速度很赞。手机很棒，很惊艳，评测看了一堆，还是上手更真实。屏幕很棒很...      1\n",
       "10716  近7年来用的是苹果手机，后来感觉苹果越来越不吸引了，直至华为mate30Pro4G的出现，就...      1\n",
       "10717  货已收到，手感很好，外观漂亮，设计很人性化，运行速度超级赞，瀑布屏显得高端大气上档次。拍照效...      1\n",
       "\n",
       "[10718 rows x 2 columns]"
      ]
     },
     "execution_count": 3,
     "metadata": {},
     "output_type": "execute_result"
    }
   ],
   "source": [
    "# 给好评设置评分为1\n",
    "hao['score']=1\n",
    "hao"
   ]
  },
  {
   "cell_type": "code",
   "execution_count": 4,
   "metadata": {},
   "outputs": [
    {
     "data": {
      "text/html": [
       "<div>\n",
       "<style scoped>\n",
       "    .dataframe tbody tr th:only-of-type {\n",
       "        vertical-align: middle;\n",
       "    }\n",
       "\n",
       "    .dataframe tbody tr th {\n",
       "        vertical-align: top;\n",
       "    }\n",
       "\n",
       "    .dataframe thead th {\n",
       "        text-align: right;\n",
       "    }\n",
       "</style>\n",
       "<table border=\"1\" class=\"dataframe\">\n",
       "  <thead>\n",
       "    <tr style=\"text-align: right;\">\n",
       "      <th></th>\n",
       "      <th>txt</th>\n",
       "    </tr>\n",
       "  </thead>\n",
       "  <tbody>\n",
       "    <tr>\n",
       "      <td>0</td>\n",
       "      <td>物流不错，手机一般</td>\n",
       "    </tr>\n",
       "    <tr>\n",
       "      <td>1</td>\n",
       "      <td>一星给京东 手机刚到手就减两百还12期免息</td>\n",
       "    </tr>\n",
       "    <tr>\n",
       "      <td>2</td>\n",
       "      <td>外形外观：外观出厂有问题  解决复杂</td>\n",
       "    </tr>\n",
       "    <tr>\n",
       "      <td>3</td>\n",
       "      <td>降价降的很好 我**原价买的</td>\n",
       "    </tr>\n",
       "    <tr>\n",
       "      <td>4</td>\n",
       "      <td>自己看吧 这包装</td>\n",
       "    </tr>\n",
       "    <tr>\n",
       "      <td>...</td>\n",
       "      <td>...</td>\n",
       "    </tr>\n",
       "    <tr>\n",
       "      <td>4065</td>\n",
       "      <td>垃圾 上不了Chrome</td>\n",
       "    </tr>\n",
       "    <tr>\n",
       "      <td>4066</td>\n",
       "      <td>京东这家店故意抬价，亲身经历，我朋友买的一样的手机6000块钱赠碎屏险还有无线充电宝，跟他们...</td>\n",
       "    </tr>\n",
       "    <tr>\n",
       "      <td>4067</td>\n",
       "      <td>给我的这个手机探针有明显划痕，二手机无疑，在找朋友查入网时间，晚点我再来评论</td>\n",
       "    </tr>\n",
       "    <tr>\n",
       "      <td>4068</td>\n",
       "      <td>不建议买华为，用不到一个月掉五百块，往出卖 赔三千 ，价格水分太大</td>\n",
       "    </tr>\n",
       "    <tr>\n",
       "      <td>4069</td>\n",
       "      <td>***的买没几天降价500，还各种理由说，去**的京东华为，**玩意，**华为买了七八款手机...</td>\n",
       "    </tr>\n",
       "  </tbody>\n",
       "</table>\n",
       "<p>4070 rows × 1 columns</p>\n",
       "</div>"
      ],
      "text/plain": [
       "                                                    txt\n",
       "0                                             物流不错，手机一般\n",
       "1                                 一星给京东 手机刚到手就减两百还12期免息\n",
       "2                                    外形外观：外观出厂有问题  解决复杂\n",
       "3                                        降价降的很好 我**原价买的\n",
       "4                                              自己看吧 这包装\n",
       "...                                                 ...\n",
       "4065                                       垃圾 上不了Chrome\n",
       "4066  京东这家店故意抬价，亲身经历，我朋友买的一样的手机6000块钱赠碎屏险还有无线充电宝，跟他们...\n",
       "4067             给我的这个手机探针有明显划痕，二手机无疑，在找朋友查入网时间，晚点我再来评论\n",
       "4068                  不建议买华为，用不到一个月掉五百块，往出卖 赔三千 ，价格水分太大\n",
       "4069  ***的买没几天降价500，还各种理由说，去**的京东华为，**玩意，**华为买了七八款手机...\n",
       "\n",
       "[4070 rows x 1 columns]"
      ]
     },
     "execution_count": 4,
     "metadata": {},
     "output_type": "execute_result"
    }
   ],
   "source": [
    "# 导入差评\n",
    "huai = pd.read_csv('差评.txt',sep='\\n')\n",
    "huai"
   ]
  },
  {
   "cell_type": "code",
   "execution_count": 5,
   "metadata": {},
   "outputs": [],
   "source": [
    "huai['score']=0"
   ]
  },
  {
   "cell_type": "code",
   "execution_count": 6,
   "metadata": {},
   "outputs": [
    {
     "data": {
      "text/html": [
       "<div>\n",
       "<style scoped>\n",
       "    .dataframe tbody tr th:only-of-type {\n",
       "        vertical-align: middle;\n",
       "    }\n",
       "\n",
       "    .dataframe tbody tr th {\n",
       "        vertical-align: top;\n",
       "    }\n",
       "\n",
       "    .dataframe thead th {\n",
       "        text-align: right;\n",
       "    }\n",
       "</style>\n",
       "<table border=\"1\" class=\"dataframe\">\n",
       "  <thead>\n",
       "    <tr style=\"text-align: right;\">\n",
       "      <th></th>\n",
       "      <th>txt</th>\n",
       "      <th>score</th>\n",
       "    </tr>\n",
       "  </thead>\n",
       "  <tbody>\n",
       "    <tr>\n",
       "      <td>0</td>\n",
       "      <td>物流不错，手机一般</td>\n",
       "      <td>0</td>\n",
       "    </tr>\n",
       "    <tr>\n",
       "      <td>1</td>\n",
       "      <td>一星给京东 手机刚到手就减两百还12期免息</td>\n",
       "      <td>0</td>\n",
       "    </tr>\n",
       "    <tr>\n",
       "      <td>2</td>\n",
       "      <td>外形外观：外观出厂有问题  解决复杂</td>\n",
       "      <td>0</td>\n",
       "    </tr>\n",
       "    <tr>\n",
       "      <td>3</td>\n",
       "      <td>降价降的很好 我**原价买的</td>\n",
       "      <td>0</td>\n",
       "    </tr>\n",
       "    <tr>\n",
       "      <td>4</td>\n",
       "      <td>自己看吧 这包装</td>\n",
       "      <td>0</td>\n",
       "    </tr>\n",
       "    <tr>\n",
       "      <td>...</td>\n",
       "      <td>...</td>\n",
       "      <td>...</td>\n",
       "    </tr>\n",
       "    <tr>\n",
       "      <td>4065</td>\n",
       "      <td>垃圾 上不了Chrome</td>\n",
       "      <td>0</td>\n",
       "    </tr>\n",
       "    <tr>\n",
       "      <td>4066</td>\n",
       "      <td>京东这家店故意抬价，亲身经历，我朋友买的一样的手机6000块钱赠碎屏险还有无线充电宝，跟他们...</td>\n",
       "      <td>0</td>\n",
       "    </tr>\n",
       "    <tr>\n",
       "      <td>4067</td>\n",
       "      <td>给我的这个手机探针有明显划痕，二手机无疑，在找朋友查入网时间，晚点我再来评论</td>\n",
       "      <td>0</td>\n",
       "    </tr>\n",
       "    <tr>\n",
       "      <td>4068</td>\n",
       "      <td>不建议买华为，用不到一个月掉五百块，往出卖 赔三千 ，价格水分太大</td>\n",
       "      <td>0</td>\n",
       "    </tr>\n",
       "    <tr>\n",
       "      <td>4069</td>\n",
       "      <td>***的买没几天降价500，还各种理由说，去**的京东华为，**玩意，**华为买了七八款手机...</td>\n",
       "      <td>0</td>\n",
       "    </tr>\n",
       "  </tbody>\n",
       "</table>\n",
       "<p>4070 rows × 2 columns</p>\n",
       "</div>"
      ],
      "text/plain": [
       "                                                    txt  score\n",
       "0                                             物流不错，手机一般      0\n",
       "1                                 一星给京东 手机刚到手就减两百还12期免息      0\n",
       "2                                    外形外观：外观出厂有问题  解决复杂      0\n",
       "3                                        降价降的很好 我**原价买的      0\n",
       "4                                              自己看吧 这包装      0\n",
       "...                                                 ...    ...\n",
       "4065                                       垃圾 上不了Chrome      0\n",
       "4066  京东这家店故意抬价，亲身经历，我朋友买的一样的手机6000块钱赠碎屏险还有无线充电宝，跟他们...      0\n",
       "4067             给我的这个手机探针有明显划痕，二手机无疑，在找朋友查入网时间，晚点我再来评论      0\n",
       "4068                  不建议买华为，用不到一个月掉五百块，往出卖 赔三千 ，价格水分太大      0\n",
       "4069  ***的买没几天降价500，还各种理由说，去**的京东华为，**玩意，**华为买了七八款手机...      0\n",
       "\n",
       "[4070 rows x 2 columns]"
      ]
     },
     "execution_count": 6,
     "metadata": {},
     "output_type": "execute_result"
    }
   ],
   "source": [
    "huai"
   ]
  },
  {
   "cell_type": "code",
   "execution_count": 7,
   "metadata": {},
   "outputs": [
    {
     "data": {
      "text/html": [
       "<div>\n",
       "<style scoped>\n",
       "    .dataframe tbody tr th:only-of-type {\n",
       "        vertical-align: middle;\n",
       "    }\n",
       "\n",
       "    .dataframe tbody tr th {\n",
       "        vertical-align: top;\n",
       "    }\n",
       "\n",
       "    .dataframe thead th {\n",
       "        text-align: right;\n",
       "    }\n",
       "</style>\n",
       "<table border=\"1\" class=\"dataframe\">\n",
       "  <thead>\n",
       "    <tr style=\"text-align: right;\">\n",
       "      <th></th>\n",
       "      <th>txt</th>\n",
       "      <th>score</th>\n",
       "    </tr>\n",
       "  </thead>\n",
       "  <tbody>\n",
       "    <tr>\n",
       "      <td>0</td>\n",
       "      <td>外观挺好看?，特别漂亮的，拍照效果特别好，特别清晰，放大来拍也特别清晰。曲面的手感很好，充电...</td>\n",
       "      <td>1</td>\n",
       "    </tr>\n",
       "    <tr>\n",
       "      <td>1</td>\n",
       "      <td>老公非常满意，充电快，耗电慢，屏幕是曲面屏幕，看着很有画面感，手感也好，大小合适，不宽但是不...</td>\n",
       "      <td>1</td>\n",
       "    </tr>\n",
       "    <tr>\n",
       "      <td>2</td>\n",
       "      <td>超级闪超级闪的天空之境，连晚上都闪闪发光bulingbuling哦。本来交了另外一款的定金，...</td>\n",
       "      <td>1</td>\n",
       "    </tr>\n",
       "    <tr>\n",
       "      <td>3</td>\n",
       "      <td>信号超好，辐射低，通话声音清楚信号强弱可以通过数字显示来查看，这样就更加清楚明了，手机运行速...</td>\n",
       "      <td>1</td>\n",
       "    </tr>\n",
       "    <tr>\n",
       "      <td>4</td>\n",
       "      <td>手机拿到很惊艳，外观大气，「天空之境」很好看。拿在手里质感一流，做工精细，电池耐用，基本上可...</td>\n",
       "      <td>1</td>\n",
       "    </tr>\n",
       "    <tr>\n",
       "      <td>...</td>\n",
       "      <td>...</td>\n",
       "      <td>...</td>\n",
       "    </tr>\n",
       "    <tr>\n",
       "      <td>4065</td>\n",
       "      <td>垃圾 上不了Chrome</td>\n",
       "      <td>0</td>\n",
       "    </tr>\n",
       "    <tr>\n",
       "      <td>4066</td>\n",
       "      <td>京东这家店故意抬价，亲身经历，我朋友买的一样的手机6000块钱赠碎屏险还有无线充电宝，跟他们...</td>\n",
       "      <td>0</td>\n",
       "    </tr>\n",
       "    <tr>\n",
       "      <td>4067</td>\n",
       "      <td>给我的这个手机探针有明显划痕，二手机无疑，在找朋友查入网时间，晚点我再来评论</td>\n",
       "      <td>0</td>\n",
       "    </tr>\n",
       "    <tr>\n",
       "      <td>4068</td>\n",
       "      <td>不建议买华为，用不到一个月掉五百块，往出卖 赔三千 ，价格水分太大</td>\n",
       "      <td>0</td>\n",
       "    </tr>\n",
       "    <tr>\n",
       "      <td>4069</td>\n",
       "      <td>***的买没几天降价500，还各种理由说，去**的京东华为，**玩意，**华为买了七八款手机...</td>\n",
       "      <td>0</td>\n",
       "    </tr>\n",
       "  </tbody>\n",
       "</table>\n",
       "<p>14788 rows × 2 columns</p>\n",
       "</div>"
      ],
      "text/plain": [
       "                                                    txt  score\n",
       "0     外观挺好看?，特别漂亮的，拍照效果特别好，特别清晰，放大来拍也特别清晰。曲面的手感很好，充电...      1\n",
       "1     老公非常满意，充电快，耗电慢，屏幕是曲面屏幕，看着很有画面感，手感也好，大小合适，不宽但是不...      1\n",
       "2     超级闪超级闪的天空之境，连晚上都闪闪发光bulingbuling哦。本来交了另外一款的定金，...      1\n",
       "3     信号超好，辐射低，通话声音清楚信号强弱可以通过数字显示来查看，这样就更加清楚明了，手机运行速...      1\n",
       "4     手机拿到很惊艳，外观大气，「天空之境」很好看。拿在手里质感一流，做工精细，电池耐用，基本上可...      1\n",
       "...                                                 ...    ...\n",
       "4065                                       垃圾 上不了Chrome      0\n",
       "4066  京东这家店故意抬价，亲身经历，我朋友买的一样的手机6000块钱赠碎屏险还有无线充电宝，跟他们...      0\n",
       "4067             给我的这个手机探针有明显划痕，二手机无疑，在找朋友查入网时间，晚点我再来评论      0\n",
       "4068                  不建议买华为，用不到一个月掉五百块，往出卖 赔三千 ，价格水分太大      0\n",
       "4069  ***的买没几天降价500，还各种理由说，去**的京东华为，**玩意，**华为买了七八款手机...      0\n",
       "\n",
       "[14788 rows x 2 columns]"
      ]
     },
     "execution_count": 7,
     "metadata": {},
     "output_type": "execute_result"
    }
   ],
   "source": [
    "# 把两个评论表合并在一起\n",
    "pinglun = hao.append(huai)\n",
    "pinglun"
   ]
  },
  {
   "cell_type": "code",
   "execution_count": 8,
   "metadata": {},
   "outputs": [
    {
     "data": {
      "text/plain": [
       "1    10718\n",
       "0     4070\n",
       "Name: score, dtype: int64"
      ]
     },
     "execution_count": 8,
     "metadata": {},
     "output_type": "execute_result"
    }
   ],
   "source": [
    "# 好评的数量\n",
    "pinglun['score'].value_counts()"
   ]
  },
  {
   "cell_type": "markdown",
   "metadata": {},
   "source": [
    "好评有10718条，差评有4070条"
   ]
  },
  {
   "cell_type": "code",
   "execution_count": 9,
   "metadata": {},
   "outputs": [
    {
     "name": "stderr",
     "output_type": "stream",
     "text": [
      "C:\\ProgramData\\Anaconda3\\lib\\site-packages\\ipykernel_launcher.py:2: FutureWarning: `Series.plot()` should not be called with positional arguments, only keyword arguments. The order of positional arguments will change in the future. Use `Series.plot(kind='bar')` instead of `Series.plot('bar',)`.\n",
      "  \n"
     ]
    },
    {
     "data": {
      "text/plain": [
       "Text(0, 0.5, '评论数量')"
      ]
     },
     "execution_count": 9,
     "metadata": {},
     "output_type": "execute_result"
    },
    {
     "data": {
      "image/png": "[encoded data removed]",
      "text/plain": [
       "<Figure size 432x288 with 1 Axes>"
      ]
     },
     "metadata": {
      "needs_background": "light"
     },
     "output_type": "display_data"
    }
   ],
   "source": [
    "mpl.rcParams['font.sans-serif']=['SimHei'] \n",
    "pinglun['score'].value_counts().plot('bar')\n",
    "plt.title('好评与差评的数量图')\n",
    "plt.xlabel('评论种类')\n",
    "plt.ylabel('评论数量')"
   ]
  },
  {
   "cell_type": "code",
   "execution_count": 10,
   "metadata": {},
   "outputs": [
    {
     "name": "stderr",
     "output_type": "stream",
     "text": [
      "C:\\ProgramData\\Anaconda3\\lib\\site-packages\\ipykernel_launcher.py:2: FutureWarning: `Series.plot()` should not be called with positional arguments, only keyword arguments. The order of positional arguments will change in the future. Use `Series.plot(kind='pie')` instead of `Series.plot('pie',)`.\n",
      "  \n"
     ]
    },
    {
     "data": {
      "text/plain": [
       "Text(0, 0.5, '评论数量')"
      ]
     },
     "execution_count": 10,
     "metadata": {},
     "output_type": "execute_result"
    },
    {
     "data": {
      "image/png": "[encoded data removed]",
      "text/plain": [
       "<Figure size 432x288 with 1 Axes>"
      ]
     },
     "metadata": {},
     "output_type": "display_data"
    }
   ],
   "source": [
    "mpl.rcParams['font.sans-serif']=['SimHei'] \n",
    "pinglun['score'].value_counts().plot('pie')\n",
    "plt.title('好评与差评的数量图')\n",
    "plt.xlabel('评论种类')\n",
    "plt.ylabel('评论数量')"
   ]
  },
  {
   "cell_type": "code",
   "execution_count": 11,
   "metadata": {},
   "outputs": [],
   "source": [
    "# 保存到csv文件中\n",
    "pinglun.to_csv('pingluns.csv')"
   ]
  },
  {
   "cell_type": "code",
   "execution_count": 12,
   "metadata": {},
   "outputs": [],
   "source": [
    "pinglun = pd.read_csv('pinglun.csv')"
   ]
  },
  {
   "cell_type": "code",
   "execution_count": 13,
   "metadata": {},
   "outputs": [
    {
     "data": {
      "text/plain": [
       "14788"
      ]
     },
     "execution_count": 13,
     "metadata": {},
     "output_type": "execute_result"
    }
   ],
   "source": [
    "pinglun['score'].count()"
   ]
  },
  {
   "cell_type": "code",
   "execution_count": 14,
   "metadata": {},
   "outputs": [
    {
     "name": "stderr",
     "output_type": "stream",
     "text": [
      "Building prefix dict from the default dictionary ...\n",
      "Loading model from cache C:\\Users\\ADMINI~1\\AppData\\Local\\Temp\\jieba.cache\n",
      "Loading model cost 0.614 seconds.\n",
      "Prefix dict has been built successfully.\n"
     ]
    }
   ],
   "source": [
    "# 使用结巴分词，对每一条评论进行分词操作\n",
    "pinglun['comment'] = pinglun.txt.apply(lambda x: ' '.join(jieba.cut(x)))"
   ]
  },
  {
   "cell_type": "code",
   "execution_count": 15,
   "metadata": {},
   "outputs": [
    {
     "data": {
      "text/html": [
       "<div>\n",
       "<style scoped>\n",
       "    .dataframe tbody tr th:only-of-type {\n",
       "        vertical-align: middle;\n",
       "    }\n",
       "\n",
       "    .dataframe tbody tr th {\n",
       "        vertical-align: top;\n",
       "    }\n",
       "\n",
       "    .dataframe thead th {\n",
       "        text-align: right;\n",
       "    }\n",
       "</style>\n",
       "<table border=\"1\" class=\"dataframe\">\n",
       "  <thead>\n",
       "    <tr style=\"text-align: right;\">\n",
       "      <th></th>\n",
       "      <th>Unnamed: 0</th>\n",
       "      <th>txt</th>\n",
       "      <th>score</th>\n",
       "      <th>comment</th>\n",
       "    </tr>\n",
       "  </thead>\n",
       "  <tbody>\n",
       "    <tr>\n",
       "      <td>0</td>\n",
       "      <td>0</td>\n",
       "      <td>外观挺好看?，特别漂亮的，拍照效果特别好，特别清晰，放大来拍也特别清晰。曲面的手感很好，充电...</td>\n",
       "      <td>1</td>\n",
       "      <td>外观 挺 好看 ? ， 特别 漂亮 的 ， 拍照 效果 特别 好 ， 特别 清晰 ， 放大 ...</td>\n",
       "    </tr>\n",
       "    <tr>\n",
       "      <td>1</td>\n",
       "      <td>1</td>\n",
       "      <td>老公非常满意，充电快，耗电慢，屏幕是曲面屏幕，看着很有画面感，手感也好，大小合适，不宽但是不...</td>\n",
       "      <td>1</td>\n",
       "      <td>老公 非常 满意 ， 充电 快 ， 耗电 慢 ， 屏幕 是 曲面 屏幕 ， 看着 很 有 画...</td>\n",
       "    </tr>\n",
       "    <tr>\n",
       "      <td>2</td>\n",
       "      <td>2</td>\n",
       "      <td>超级闪超级闪的天空之境，连晚上都闪闪发光bulingbuling哦。本来交了另外一款的定金，...</td>\n",
       "      <td>1</td>\n",
       "      <td>超级 闪 超级 闪 的 天空 之境 ， 连 晚上 都 闪闪发光 bulingbuling 哦...</td>\n",
       "    </tr>\n",
       "    <tr>\n",
       "      <td>3</td>\n",
       "      <td>3</td>\n",
       "      <td>信号超好，辐射低，通话声音清楚信号强弱可以通过数字显示来查看，这样就更加清楚明了，手机运行速...</td>\n",
       "      <td>1</td>\n",
       "      <td>信号 超好 ， 辐射 低 ， 通话 声音 清楚 信号 强弱 可以 通过 数字 显示 来 查看...</td>\n",
       "    </tr>\n",
       "    <tr>\n",
       "      <td>4</td>\n",
       "      <td>4</td>\n",
       "      <td>手机拿到很惊艳，外观大气，「天空之境」很好看。拿在手里质感一流，做工精细，电池耐用，基本上可...</td>\n",
       "      <td>1</td>\n",
       "      <td>手机 拿到 很 惊艳 ， 外观 大气 ， 「 天空 之境 」 很 好看 。 拿 在 手里 质...</td>\n",
       "    </tr>\n",
       "  </tbody>\n",
       "</table>\n",
       "</div>"
      ],
      "text/plain": [
       "   Unnamed: 0                                                txt  score  \\\n",
       "0           0  外观挺好看?，特别漂亮的，拍照效果特别好，特别清晰，放大来拍也特别清晰。曲面的手感很好，充电...      1   \n",
       "1           1  老公非常满意，充电快，耗电慢，屏幕是曲面屏幕，看着很有画面感，手感也好，大小合适，不宽但是不...      1   \n",
       "2           2  超级闪超级闪的天空之境，连晚上都闪闪发光bulingbuling哦。本来交了另外一款的定金，...      1   \n",
       "3           3  信号超好，辐射低，通话声音清楚信号强弱可以通过数字显示来查看，这样就更加清楚明了，手机运行速...      1   \n",
       "4           4  手机拿到很惊艳，外观大气，「天空之境」很好看。拿在手里质感一流，做工精细，电池耐用，基本上可...      1   \n",
       "\n",
       "                                             comment  \n",
       "0  外观 挺 好看 ? ， 特别 漂亮 的 ， 拍照 效果 特别 好 ， 特别 清晰 ， 放大 ...  \n",
       "1  老公 非常 满意 ， 充电 快 ， 耗电 慢 ， 屏幕 是 曲面 屏幕 ， 看着 很 有 画...  \n",
       "2  超级 闪 超级 闪 的 天空 之境 ， 连 晚上 都 闪闪发光 bulingbuling 哦...  \n",
       "3  信号 超好 ， 辐射 低 ， 通话 声音 清楚 信号 强弱 可以 通过 数字 显示 来 查看...  \n",
       "4  手机 拿到 很 惊艳 ， 外观 大气 ， 「 天空 之境 」 很 好看 。 拿 在 手里 质...  "
      ]
     },
     "execution_count": 15,
     "metadata": {},
     "output_type": "execute_result"
    }
   ],
   "source": [
    "pinglun.head()"
   ]
  },
  {
   "cell_type": "code",
   "execution_count": 16,
   "metadata": {},
   "outputs": [],
   "source": [
    "# 删除掉不需要的列\n",
    "df = pinglun[['comment','score']]"
   ]
  },
  {
   "cell_type": "code",
   "execution_count": 17,
   "metadata": {},
   "outputs": [
    {
     "data": {
      "text/html": [
       "<div>\n",
       "<style scoped>\n",
       "    .dataframe tbody tr th:only-of-type {\n",
       "        vertical-align: middle;\n",
       "    }\n",
       "\n",
       "    .dataframe tbody tr th {\n",
       "        vertical-align: top;\n",
       "    }\n",
       "\n",
       "    .dataframe thead th {\n",
       "        text-align: right;\n",
       "    }\n",
       "</style>\n",
       "<table border=\"1\" class=\"dataframe\">\n",
       "  <thead>\n",
       "    <tr style=\"text-align: right;\">\n",
       "      <th></th>\n",
       "      <th>comment</th>\n",
       "      <th>score</th>\n",
       "    </tr>\n",
       "  </thead>\n",
       "  <tbody>\n",
       "    <tr>\n",
       "      <td>0</td>\n",
       "      <td>外观 挺 好看 ? ， 特别 漂亮 的 ， 拍照 效果 特别 好 ， 特别 清晰 ， 放大 ...</td>\n",
       "      <td>1</td>\n",
       "    </tr>\n",
       "    <tr>\n",
       "      <td>1</td>\n",
       "      <td>老公 非常 满意 ， 充电 快 ， 耗电 慢 ， 屏幕 是 曲面 屏幕 ， 看着 很 有 画...</td>\n",
       "      <td>1</td>\n",
       "    </tr>\n",
       "    <tr>\n",
       "      <td>2</td>\n",
       "      <td>超级 闪 超级 闪 的 天空 之境 ， 连 晚上 都 闪闪发光 bulingbuling 哦...</td>\n",
       "      <td>1</td>\n",
       "    </tr>\n",
       "    <tr>\n",
       "      <td>3</td>\n",
       "      <td>信号 超好 ， 辐射 低 ， 通话 声音 清楚 信号 强弱 可以 通过 数字 显示 来 查看...</td>\n",
       "      <td>1</td>\n",
       "    </tr>\n",
       "    <tr>\n",
       "      <td>4</td>\n",
       "      <td>手机 拿到 很 惊艳 ， 外观 大气 ， 「 天空 之境 」 很 好看 。 拿 在 手里 质...</td>\n",
       "      <td>1</td>\n",
       "    </tr>\n",
       "  </tbody>\n",
       "</table>\n",
       "</div>"
      ],
      "text/plain": [
       "                                             comment  score\n",
       "0  外观 挺 好看 ? ， 特别 漂亮 的 ， 拍照 效果 特别 好 ， 特别 清晰 ， 放大 ...      1\n",
       "1  老公 非常 满意 ， 充电 快 ， 耗电 慢 ， 屏幕 是 曲面 屏幕 ， 看着 很 有 画...      1\n",
       "2  超级 闪 超级 闪 的 天空 之境 ， 连 晚上 都 闪闪发光 bulingbuling 哦...      1\n",
       "3  信号 超好 ， 辐射 低 ， 通话 声音 清楚 信号 强弱 可以 通过 数字 显示 来 查看...      1\n",
       "4  手机 拿到 很 惊艳 ， 外观 大气 ， 「 天空 之境 」 很 好看 。 拿 在 手里 质...      1"
      ]
     },
     "execution_count": 17,
     "metadata": {},
     "output_type": "execute_result"
    }
   ],
   "source": [
    "df.head()"
   ]
  },
  {
   "cell_type": "code",
   "execution_count": 18,
   "metadata": {},
   "outputs": [],
   "source": [
    "# 设置最大的长度，然后指定全局字典里面，一共保留多少个单词。我们设置为 10000 个\n",
    "maxlen = 100\n",
    "max_words = 10000"
   ]
  },
  {
   "cell_type": "code",
   "execution_count": 19,
   "metadata": {},
   "outputs": [],
   "source": [
    "# 下面的几条语句，会自动帮助我们，把分词之后的评论信息，转换成为一系列的数字组成的序列\n",
    "tokenizer = Tokenizer(num_words=max_words)\n",
    "tokenizer.fit_on_texts(df.comment)\n",
    "sequences = tokenizer.texts_to_sequences(df.comment)"
   ]
  },
  {
   "cell_type": "code",
   "execution_count": 20,
   "metadata": {},
   "outputs": [
    {
     "data": {
      "text/plain": [
       "list"
      ]
     },
     "execution_count": 20,
     "metadata": {},
     "output_type": "execute_result"
    }
   ],
   "source": [
    "# 看看转换后的数据类型\n",
    "type(sequences)"
   ]
  },
  {
   "cell_type": "code",
   "execution_count": 21,
   "metadata": {},
   "outputs": [
    {
     "data": {
      "text/plain": [
       "[[16,\n",
       "  86,\n",
       "  49,\n",
       "  1,\n",
       "  51,\n",
       "  67,\n",
       "  2,\n",
       "  1,\n",
       "  9,\n",
       "  15,\n",
       "  51,\n",
       "  10,\n",
       "  1,\n",
       "  51,\n",
       "  48,\n",
       "  1,\n",
       "  429,\n",
       "  134,\n",
       "  82,\n",
       "  13,\n",
       "  51,\n",
       "  48,\n",
       "  4,\n",
       "  97,\n",
       "  2,\n",
       "  54,\n",
       "  6,\n",
       "  10,\n",
       "  1,\n",
       "  59,\n",
       "  31,\n",
       "  1,\n",
       "  615,\n",
       "  414,\n",
       "  1,\n",
       "  21,\n",
       "  74,\n",
       "  277,\n",
       "  29,\n",
       "  83,\n",
       "  110,\n",
       "  184,\n",
       "  797,\n",
       "  4,\n",
       "  2260,\n",
       "  25,\n",
       "  3169,\n",
       "  2,\n",
       "  1,\n",
       "  14,\n",
       "  205,\n",
       "  13,\n",
       "  51,\n",
       "  10,\n",
       "  1,\n",
       "  6,\n",
       "  33,\n",
       "  54,\n",
       "  1,\n",
       "  161,\n",
       "  6,\n",
       "  570,\n",
       "  2,\n",
       "  8,\n",
       "  51,\n",
       "  179,\n",
       "  1,\n",
       "  120,\n",
       "  13,\n",
       "  336,\n",
       "  1,\n",
       "  714,\n",
       "  5,\n",
       "  423,\n",
       "  1665,\n",
       "  224,\n",
       "  110,\n",
       "  184,\n",
       "  4]]"
      ]
     },
     "execution_count": 21,
     "metadata": {},
     "output_type": "execute_result"
    }
   ],
   "source": [
    "# 看一下第一条的内容\n",
    "sequences[:1]"
   ]
  },
  {
   "cell_type": "markdown",
   "metadata": {},
   "source": [
    "评论语句中的每一个记号，都被转换成为了一个大字典中对应的序号。字典的长度我们前面已经规定了，最多10000条。\n",
    "我们探索一下，只看最前面5句话，包含多少个记号"
   ]
  },
  {
   "cell_type": "code",
   "execution_count": 22,
   "metadata": {},
   "outputs": [
    {
     "name": "stdout",
     "output_type": "stream",
     "text": [
      "79\n",
      "51\n",
      "81\n",
      "52\n",
      "98\n"
     ]
    }
   ],
   "source": [
    "for sequence in sequences[:5]:\n",
    "    print(len(sequence))"
   ]
  },
  {
   "cell_type": "code",
   "execution_count": 23,
   "metadata": {},
   "outputs": [],
   "source": [
    "# 使用pad_sequences方法使句子长短一致\n",
    "data = pad_sequences(sequences, maxlen=maxlen)"
   ]
  },
  {
   "cell_type": "code",
   "execution_count": 24,
   "metadata": {},
   "outputs": [
    {
     "data": {
      "text/plain": [
       "array([[   0,    0,    0, ...,  110,  184,    4],\n",
       "       [   0,    0,    0, ...,   19,   66,    8],\n",
       "       [   0,    0,    0, ...,    1,  356,  353],\n",
       "       ...,\n",
       "       [   0,    0,    0, ...,  110,  134,  484],\n",
       "       [   0,    0,    0, ..., 4223,   80,   81],\n",
       "       [   0,    0,    0, ...,   52,  961,    4]])"
      ]
     },
     "execution_count": 24,
     "metadata": {},
     "output_type": "execute_result"
    }
   ],
   "source": [
    "data"
   ]
  },
  {
   "cell_type": "code",
   "execution_count": 25,
   "metadata": {},
   "outputs": [],
   "source": [
    "# 长句子被裁剪 短句子前面补充了0\n",
    "# 如果还希望知道，这些序号分别代表什么单词，就把这个字典保存下来\n",
    "word_index = tokenizer.word_index"
   ]
  },
  {
   "cell_type": "code",
   "execution_count": 26,
   "metadata": {},
   "outputs": [
    {
     "data": {
      "text/plain": [
       "dict"
      ]
     },
     "execution_count": 26,
     "metadata": {},
     "output_type": "execute_result"
    }
   ],
   "source": [
    "type(word_index)"
   ]
  },
  {
   "cell_type": "code",
   "execution_count": 27,
   "metadata": {},
   "outputs": [
    {
     "name": "stdout",
     "output_type": "stream",
     "text": [
      "{'，': 1, '的': 2, '：': 3, '。': 4, '了': 5, '很': 6, '手机': 7, '！': 8, '拍照': 9, '好': 10, '速度': 11, '是': 12, '也': 13, '屏幕': 14, '效果': 15, '外观': 16, '运行': 17, '华为': 18, '非常': 19, '我': 20, '用': 21, '就': 22, '外形': 23, '音效': 24, '都': 25, '买': 26, '待机时间': 27, '不': 28, '还': 29, '不错': 30, '快': 31, '其他': 32, '有': 33, '没有': 34, '可以': 35, '喜欢': 36, '京东': 37, '没': 38, '特色': 39, '在': 40, '感觉': 41, '说': 42, '给': 43, '流畅': 44, '真的': 45, '很快': 46, '还是': 47, '清晰': 48, '好看': 49, '支持': 50, '特别': 51, '这': 52, '就是': 53, '手感': 54, '使用': 55, '苹果': 56, '和': 57, '这个': 58, '充电': 59, '功能': 60, '5g': 61, '比': 62, '到': 63, '问题': 64, '降价': 65, '满意': 66, '漂亮': 67, '上': 68, '一个': 69, '屏': 70, '超级': 71, '颜色': 72, '一直': 73, '一天': 74, '吧': 75, '？': 76, '多': 77, '体验': 78, '才': 79, '太': 80, '大': 81, '拍': 82, '能': 83, '看': 84, '高': 85, '挺': 86, '收到': 87, '但是': 88, '电池': 89, '客服': 90, '现在': 91, '系统': 92, '等': 93, '很漂亮': 94, '500': 95, '物流': 96, '曲面': 97, '很棒': 98, '还有': 99, '要': 100, '棒': 101, '而且': 102, '强大': 103, '不是': 104, '之前': 105, '让': 106, '惊艳': 107, '很多': 108, '后': 109, '再': 110, '人': 111, '会': 112, '什么': 113, '有点': 114, '比较': 115, '、': 116, '啊': 117, '快递': 118, '知道': 119, '一点': 120, '自己': 121, '下': 122, '个': 123, '着': 124, '声音': 125, '你': 126, '摄像头': 127, '送': 128, '大气': 129, '完美': 130, '时候': 131, '差评': 132, '一般': 133, '来': 134, '像素': 135, '确实': 136, '长': 137, '几天': 138, 'hellip': 139, '发货': 140, '第一次': 141, '操作': 142, '舒服': 143, '方面': 144, '设计': 145, '希望': 146, '一次': 147, '购买': 148, '天空': 149, '号': 150, '倍': 151, '月': 152, '款': 153, '中': 154, '从': 155, '去': 156, '觉得': 157, '一下': 158, '音质': 159, '起来': 160, '玩游戏': 161, '续航': 162, '差': 163, '不到': 164, '值得': 165, '视频': 166, '拿到': 167, '更': 168, '已经': 169, '性能': 170, '一样': 171, '想': 172, '最': 173, '以后': 174, '又': 175, '时间': 176, '价格': 177, '显示': 178, '方便': 179, '不用': 180, '相当': 181, '不会': 182, '换': 183, '玩': 184, '但': 185, '30': 186, '一': 187, '质量': 188, '过': 189, '天': 190, '东西': 191, '相机': 192, '国产': 193, '包装': 194, '1': 195, '完全': 196, '失望': 197, '不能': 198, '下单': 199, '小时': 200, '那么': 201, '照片': 202, '刚': 203, '国货': 204, '大小': 205, '一个月': 206, '手': 207, '指纹': 208, '目前': 209, '今天': 210, '拿': 211, '夜景': 212, '壳': 213, '很大': 214, '跟': 215, '晚上': 216, '颜值': 217, '终于': 218, '这么': 219, '拍摄': 220, '音量': 221, '2': 222, '打开': 223, '游戏': 224, '得': 225, '杠杠': 226, '快充': 227, '购物': 228, '瀑布': 229, '变焦': 230, '出来': 231, '评价': 232, '不好': 233, '10': 234, '垃圾': 235, '两天': 236, '卡': 237, 'p30': 238, '反应': 239, '真是': 240, '电': 241, '待机': 242, '刚买': 243, '发现': 244, '来说': 245, 'pro': 246, '因为': 247, '膜': 248, '耐用': 249, '以前': 250, '这次': 251, '真': 252, '小': 253, '这样': 254, '厉害': 255, '情况': 256, '感': 257, '3': 258, '对': 259, '降': 260, '开始': 261, '做': 262, '超': 263, '入手': 264, '所以': 265, '新': 266, '黑色': 267, '照相': 268, '耳机': 269, '质感': 270, '解锁': 271, '不要': 272, '想象': 273, '清楚': 274, '啦': 275, '到手': 276, '第二天': 277, '总体': 278, '吗': 279, '好评': 280, '强': 281, '不过': 282, '赞': 283, '选择': 284, '赠品': 285, '出现': 286, '他': 287, '软件': 288, '卡顿': 289, '超快': 290, '尤其': 291, '老婆': 292, '结果': 293, '大家': 294, '应该': 295, '好用': 296, '没得说': 297, '7': 298, '内存': 299, '越来越': 300, '货': 301, '给力': 302, '模式': 303, '把': 304, '信号': 305, '麒麟': 306, '色彩': 307, '被': 308, '需要': 309, 'mate30': 310, '适合': 311, '呢': 312, '啥': 313, '整体': 314, '11': 315, '电量': 316, '直接': 317, 'p30pro': 318, '高端': 319, '总之': 320, '之境': 321, '6': 322, '力': 323, '虽然': 324, '时尚': 325, '服务': 326, '期待': 327, '产品': 328, '合适': 329, '它': 330, '点': 331, '久': 332, '一款': 333, '细腻': 334, '50': 335, '不卡': 336, '处理器': 337, '不了': 338, '简直': 339, '无': 340, '明显': 341, '分辨率': 342, '看到': 343, '朋友': 344, '怎么': 345, '不如': 346, '990': 347, '无线': 348, '售后': 349, '那': 350, '够用': 351, 'mate30pro': 352, '一流': 353, '科技': 354, '5': 355, '绝对': 356, '充满': 357, '8': 358, '然后': 359, '隔空': 360, '下午': 361, '活动': 362, '推荐': 363, '一段时间': 364, '完': 365, '本来': 366, '（': 367, '）': 368, '第一': 369, '度': 370, '最后': 371, '这款': 372, '；': 373, '保价': 374, '自带': 375, '申请': 376, '看着': 377, '到货': 378, '各种': 379, '能力': 380, '个人': 381, '相信': 382, '元': 383, '灵敏': 384, '半个': 385, '一些': 386, '真心': 387, '为': 388, '只能': 389, '机子': 390, '双': 391, '哦': 392, '手里': 393, '开机': 394, '4': 395, '行': 396, '实体店': 397, '荣耀': 398, '正常': 399, '～': 400, '4000': 401, '镜头': 402, '主要': 403, '容易': 404, '可能': 405, '新手机': 406, '退货': 407, '做工': 408, '之镜': 409, '左右': 410, '万': 411, '基本': 412, '习惯': 413, '慢': 414, '的话': 415, '开': 416, 'mate': 417, '出': 418, '之后': 419, '好多': 420, '刚刚': 421, '功能强大': 422, '两个': 423, '毕竟': 424, '出色': 425, '慢慢': 426, '加油': 427, '很长': 428, '放大': 429, '双十': 430, '与': 431, '贴膜': 432, '系列': 433, '担心': 434, '新机': 435, '黑': 436, '送货': 437, '任何': 438, '机身': 439, '版': 440, '保护': 441, '网络': 442, '还好': 443, '时': 444, '掉': 445, '惊喜': 446, '如果': 447, '除了': 448, '三星': 449, '哈哈': 450, '图片': 451, '王者': 452, '感受': 453, '音乐': 454, '这是': 455, '品牌': 456, '像': 457, '性价比': 458, '不行': 459, '退': 460, '太快': 461, '听': 462, '自营': 463, '旗舰': 464, '再也': 465, '打游戏': 466, '谁': 467, '不想': 468, '你们': 469, '果然': 470, '机器': 471, '上档次': 472, '找': 473, '碎': 474, '国产手机': 475, '足够': 476, '我们': 477, '这种': 478, '调节': 479, '问': 480, '更是': 481, '试': 482, '电影': 483, '评论': 484, '贵': 485, '开心': 486, '对于': 487, '一星': 488, '只': 489, '背面': 490, '只是': 491, '单': 492, '高大': 493, '地方': 494, '充': 495, '爱': 496, '日常': 497, '够': 498, '人脸识别': 499, '手势': 500, '优秀': 501, '里面': 502, '原来': 503, '适应': 504, '全面': 505, '键': 506, '为什么': 507, '牛': 508, '还要': 509, '满足': 510, '早上': 511, '继续': 512, '不用说': 513, '居然': 514, '别人': 515, '最好': 516, '看起来': 517, '专业': 518, '20': 519, '年': 520, '机': 521, '便宜': 522, '用户': 523, '肯定': 524, '建议': 525, '上午': 526, '经常': 527, '美': 528, '首先': 529, '美观': 530, '精致': 531, '追评': 532, '只有': 533, '贴': 534, '吃': 535, '带': 536, '棒棒': 537, '当天': 538, '选': 539, '呀': 540, '无法': 541, '严重': 542, '清晰度': 543, '技术': 544, '很赞': 545, '摄影': 546, '必须': 547, '安卓': 548, '送到': 549, '自动': 550, '里': 551, '用过': 552, '十分': 553, '真实': 554, '要求': 555, '别的': 556, '各': 557, '尾款': 558, '后面': 559, '老公': 560, '不卡顿': 561, '一部': 562, '信赖': 563, '对比': 564, '分': 565, '差不多': 566, '星期': 567, '简单': 568, '亮': 569, '顺畅': 570, '人性化': 571, '果断': 572, '有些': 573, '看看': 574, '12': 575, '设置': 576, '充电器': 577, '联系': 578, '网上': 579, '更好': 580, '接受': 581, '前': 582, '影响': 583, '4g': 584, '反正': 585, '打': 586, '她': 587, '电话': 588, '月亮': 589, 'iphone': 590, '爱不释手': 591, '没用': 592, '画面': 593, '屏幕显示': 594, '挺快': 595, 'app': 596, '并': 597, '模糊': 598, '以为': 599, '打电话': 600, '另外': 601, '40w': 602, '识别': 603, '可': 604, '实用': 605, '送给': 606, '价保': 607, '高清': 608, '美颜': 609, '等到': 610, '坏': 611, '买手机': 612, '过来': 613, '截图': 614, '耗电': 615, '摄像': 616, '点赞': 617, '昨天': 618, '外观设计': 619, '哒': 620, '实在': 621, '边框': 622, '原因': 623, '作为': 624, '有时候': 625, '顺滑': 626, '坑': 627, '客户': 628, '待': 629, '980': 630, '配置': 631, '摸索': 632, '四摄': 633, '所有': 634, '为了': 635, '配送': 636, '付': 637, '五百': 638, '移动': 639, '后置': 640, '买来': 641, '鸡': 642, '态度': 643, '莱卡': 644, '超长': 645, '其它': 646, '是不是': 647, '其实': 648, '后悔': 649, '差价': 650, '扬声器': 651, '现象': 652, '靓丽': 653, '小哥': 654, '等待': 655, '套餐': 656, '紫色': 657, '唯一': 658, '芯片': 659, '应用': 660, '一周': 661, '尺寸': 662, '连': 663, '毫安': 664, '拥有': 665, '画质': 666, '抢': 667, '好久': 668, '没什么': 669, '下来': 670, '一般般': 671, '不愧': 672, '不怎么': 673, '一定': 674, '太棒了': 675, '预售': 676, '无敌': 677, '才能': 678, '后来': 679, '一台': 680, '震动': 681, '三天': 682, '发热': 683, '不够': 684, '震撼': 685, '小米': 686, '外放': 687, '88': 688, '辣鸡': 689, '搭载': 690, '或者': 691, '提升': 692, '智能': 693, '舒适': 694, '根本': 695, '曲屏': 696, '优惠': 697, '中国': 698, '付款': 699, '当': 700, '同时': 701, '暂时': 702, '本人': 703, '网速': 704, '那个': 705, '测试': 706, '盒子': 707, '夜拍': 708, '后续': 709, '版本': 710, '摔': 711, '挺不错': 712, '样子': 713, '下载': 714, '当然': 715, '一如既往': 716, 'x': 717, '重度': 718, '研究': 719, '快速': 720, '钱': 721, '单反': 722, '新颖': 723, '块': 724, '划痕': 725, '8g': 726, '消费者': 727, '玻璃': 728, '环境': 729, '哈哈哈': 730, '商品': 731, '试用': 732, '机型': 733, '秒': 734, '免息': 735, '迫不及待': 736, '没想到': 737, '买个': 738, '掉价': 739, '更加': 740, '搞': 741, '望远镜': 742, '100': 743, '不管': 744, '加上': 745, '9': 746, '宝': 747, '炫': 748, '字': 749, '这些': 750, '一充': 751, '青山': 752, '通话': 753, '达到': 754, '广角': 755, '好好': 756, '员': 757, '夜间': 758, '日': 759, '截屏': 760, '检测': 761, '自然': 762, '超赞': 763, '前置': 764, '考虑': 765, '老': 766, '而': 767, '以及': 768, '同事': 769, '很强': 770, '放心': 771, '刘海': 772, '放': 773, '突然': 774, '徕': 775, '下次': 776, '压力': 777, '解决': 778, '期': 779, '克隆': 780, '卖': 781, '几次': 782, '超高': 783, '进步': 784, '女生': 785, '顺手': 786, '误触': 787, '吹': 788, '最大': 789, '蛮': 790, '24': 791, '钢化': 792, '气': 793, '竟然': 794, '信息': 795, '回复': 796, '半天': 797, '也好': 798, '低': 799, '重要': 800, '关注': 801, '没话说': 802, '滴': 803, '侧边': 804, '纠结': 805, '一整天': 806, '正在': 807, '数据': 808, '图': 809, '不得不': 810, '订单': 811, '太差': 812, '成像': 813, '处理': 814, '旧': 815, '突出': 816, '礼品': 817, '大方': 818, '发声': 819, '好像': 820, '刚好': 821, '依然': 822, '细节': 823, '地': 824, '旗舰机': 825, '期间': 826, '大片': 827, '耐看': 828, '几个': 829, '中午': 830, '添加': 831, '发': 832, '说好': 833, '按键': 834, '超好': 835, '缺点': 836, '几乎': 837, '用到': 838, '毛病': 839, '15': 840, '试试': 841, 'p': 842, '妈妈': 843, '很爽': 844, '呵呵': 845, '刷': 846, '黛': 847, '环幕': 848, '秒杀': 849, '盖': 850, '花': 851, '差距': 852, '拍出': 853, 'ai': 854, '并且': 855, '超过': 856, '回来': 857, '商城': 858, '赠送': 859, '说实话': 860, '跑': 861, '特意': 862, '优点': 863, 'oled': 864, '太漂亮': 865, '想要': 866, '算': 867, '暗光': 868, '出门': 869, '心情': 870, '屏内': 871, '越做越': 872, '音响': 873, '未': 874, '还行': 875, '杂音': 876, '先': 877, '慢动作': 878, '难受': 879, '翡冷翠': 880, '星': 881, '恶心': 882, '怕': 883, '下手': 884, '贼': 885, '能够': 886, 'rdquo': 887, '电池容量': 888, '表现': 889, '关键': 890, '差劲': 891, '已': 892, '反向': 893, '两年': 894, 'mate9': 895, '这里': 896, '同样': 897, '准备': 898, '单手': 899, '这点': 900, '符合': 901, '大爱': 902, '重启': 903, '4500': 904, '太坑': 905, '公司': 906, '水平': 907, '感谢': 908, '爽': 909, '满': 910, '按': 911, '平时': 912, '需求': 913, '早': 914, '礼物': 915, '无论是': 916, '大屏': 917, '女朋友': 918, '五星': 919, '视觉': 920, '拆开': 921, '宣传': 922, '商家': 923, '不太': 924, '唉': 925, '不灵敏': 926, '官方': 927, '换货': 928, '配': 929, '听筒': 930, '四': 931, '媳妇': 932, '部分': 933, '宝贝': 934, '有待': 935, '估计': 936, '原装': 937, '正好': 938, '反应速度': 939, '商务': 940, '帮': 941, '爱国': 942, '全': 943, '200': 944, '块钱': 945, '没货': 946, '无语': 947, '双击': 948, '薄': 949, '灵敏度': 950, '相比': 951, 'ldquo': 952, '光学': 953, '面部': 954, '十足': 955, '透明': 956, '边缘': 957, '上手': 958, '我用': 959, '超出': 960, '服务态度': 961, '出厂': 962, '不比': 963, 'mate10': 964, '四个': 965, '决定': 966, '一级': 967, '半小时': 968, '稍微': 969, '是因为': 970, '转': 971, '调': 972, '星河': 973, '银': 974, '占': 975, '半': 976, '告诉': 977, '家里': 978, '毫无': 979, '白天': 980, '还会': 981, '触感': 982, '语音': 983, '的确': 984, '失真': 985, '艳丽': 986, '视觉效果': 987, '重新': 988, '好玩': 989, '后盖': 990, '果粉': 991, '橙色': 992, '于': 993, '微距': 994, '上面': 995, '优化': 996, '店': 997, '马上': 998, '配色': 999, '不仅': 1000, '老妈': 1001, '英寸': 1002, '换机': 1003, '迅速': 1004, '他们': 1005, 'huawei': 1006, '全屏': 1007, '算是': 1008, '疫情': 1009, '预定': 1010, '眼睛': 1011, '流畅性': 1012, '冲着': 1013, '不同': 1014, '价位': 1015, '写': 1016, '屏险': 1017, '黑屏': 1018, '简洁': 1019, '采用': 1020, '屏下': 1021, '省': 1022, '帧': 1023, '中度': 1024, '亮点': 1025, '不怕': 1026, '鲜艳': 1027, '加': 1028, '理由': 1029, '嘛': 1030, '一会': 1031, '一起': 1032, '即使': 1033, '懂': 1034, '堪比': 1035, '强悍': 1036, '一看': 1037, '品质': 1038, '几年': 1039, '水果': 1040, '实际': 1041, '平台': 1042, '飞': 1043, '手环': 1044, '麻烦': 1045, 'mate20pro': 1046, '买回来': 1047, '带来': 1048, '收货': 1049, '喇叭': 1050, '不值': 1051, '请': 1052, '炫酷': 1053, '美的': 1054, '正品': 1055, '感光': 1056, '很久': 1057, '生日礼物': 1058, '立体': 1059, '该': 1060, '不敢': 1061, '夜晚': 1062, 'ios': 1063, '0': 1064, '更新': 1065, '没试': 1066, '人像': 1067, '指纹识别': 1068, '贴心': 1069, '切换': 1070, '比如': 1071, '部手机': 1072, '多少': 1073, '很酷': 1074, 'p20': 1075, '不爽': 1076, '么': 1077, '家人': 1078, '本身': 1079, '投诉': 1080, '定金': 1081, '通过': 1082, '一种': 1083, '怀疑': 1084, '超乎': 1085, '搭配': 1086, '单手操作': 1087, '夸张': 1088, '可是': 1089, '随手': 1090, '总': 1091, '犹豫': 1092, '没电': 1093, '超棒': 1094, '划算': 1095, '烫': 1096, '中华': 1097, '听歌': 1098, '上网': 1099, '上下': 1100, '较': 1101, '适中': 1102, '时代': 1103, '水准': 1104, '飞快': 1105, '且': 1106, '偶尔': 1107, '白条': 1108, '每个': 1109, '强劲': 1110, '大概': 1111, '21': 1112, '后期': 1113, '破损': 1114, '两次': 1115, '学习': 1116, '23': 1117, '基本上': 1118, '没法': 1119, '款式': 1120, '外壳': 1121, '之': 1122, '瑕疵': 1123, '正面': 1124, '尝试': 1125, '还原': 1126, '内': 1127, '18': 1128, '升级': 1129, '激动': 1130, '愉快': 1131, '当时': 1132, '界面': 1133, '再说': 1134, '位置': 1135, '满分': 1136, '那样': 1137, '工作': 1138, 'mate20': 1139, '多年': 1140, '高级': 1141, '手上': 1142, '两边': 1143, '那种': 1144, '太慢': 1145, '心里': 1146, '观感': 1147, 'wifi': 1148, '十天': 1149, '卖家': 1150, '做到': 1151, '随便': 1152, '长时间': 1153, '优势': 1154, '60': 1155, '每次': 1156, '过程': 1157, '一个多月': 1158, '照': 1159, '40': 1160, '一代': 1161, '精美': 1162, '不带': 1163, '自拍': 1164, '蓝牙': 1165, '防抖': 1166, '高档': 1167, '具备': 1168, '滑动': 1169, '安装': 1170, '预期': 1171, '装': 1172, '骄傲': 1173, '办法': 1174, '256': 1175, '哪': 1176, '死机': 1177, '远': 1178, '吸引': 1179, '哈': 1180, '世界': 1181, '水滴': 1182, '重量': 1183, '追加': 1184, '分钟': 1185, '重': 1186, '太多': 1187, '要是': 1188, '发生': 1189, '防水': 1190, '就算': 1191, '心': 1192, '次': 1193, '早就': 1194, '价': 1195, '多次': 1196, '赶紧': 1197, 'oppo': 1198, '叫': 1199, '懒得': 1200, '反馈': 1201, '补': 1202, '解释': 1203, '维修': 1204, '等等': 1205, '硬件': 1206, '以': 1207, '没得': 1208, '延迟': 1209, '播放': 1210, '色': 1211, '仔细': 1212, '具体': 1213, '进行': 1214, '们': 1215, '控制': 1216, '开箱': 1217, '别': 1218, '浏览': 1219, '人脸': 1220, '怎么样': 1221, '便捷': 1222, '不少': 1223, '实力': 1224, '400': 1225, '破': 1226, '30pro': 1227, '广告': 1228, '花粉': 1229, '预订': 1230, '价钱': 1231, '回': 1232, '及': 1233, '属于': 1234, '丹霞': 1235, '醉': 1236, '语': 1237, '精细': 1238, '提高': 1239, '卡四摄': 1240, '至于': 1241, '导致': 1242, '满满的': 1243, '保护膜': 1244, '特': 1245, '形容': 1246, '保证': 1247, '神速': 1248, '相对': 1249, '稳定': 1250, '太好了': 1251, '一张': 1252, '无卡顿': 1253, '起': 1254, '好太多': 1255, '主打': 1256, '实物': 1257, '一句': 1258, '由于': 1259, '包装盒': 1260, '提前': 1261, '5000': 1262, '聚焦': 1263, '甚至': 1264, '头': 1265, '分期': 1266, '素皮': 1267, '覆盖': 1268, '加载': 1269, '27w': 1270, '最差': 1271, '一年': 1272, '保障': 1273, '五': 1274, '理想': 1275, '中规中矩': 1276, '描述': 1277, '吐槽': 1278, '内置': 1279, '存在': 1280, '超广角': 1281, '全家': 1282, '些': 1283, '售后服务': 1284, '拿在手上': 1285, '以上': 1286, '轻薄': 1287, '超强': 1288, '整个': 1289, '七天': 1290, '一块': 1291, '弄': 1292, '橙': 1293, '人家': 1294, '灯': 1295, '高清晰': 1296, '振动': 1297, '页面': 1298, '买不到': 1299, '128g': 1300, '谢谢': 1301, '将': 1302, '不得了': 1303, '第一眼': 1304, '达': 1305, '2k': 1306, '下面': 1307, '是否': 1308, '咨询': 1309, '颗粒感': 1310, '后壳': 1311, '空间': 1312, '每天': 1313, '22': 1314, '熟悉': 1315, '国产机': 1316, '256g': 1317, '挺长': 1318, '少': 1319, '事情': 1320, '某果': 1321, '实惠': 1322, '低调': 1323, '粉': 1324, '及时': 1325, '有个': 1326, '网购': 1327, '发烫': 1328, '提示': 1329, '保值': 1330, '总是': 1331, '服': 1332, '沟通': 1333, '呼吸': 1334, '增加': 1335, '十倍': 1336, '经过': 1337, '最新': 1338, '酷炫': 1339, '嗯': 1340, '长焦': 1341, '材质': 1342, '立马': 1343, '越': 1344, '程序': 1345, '注意': 1346, '档次': 1347, '区别': 1348, '那些': 1349, '总的来说': 1350, '今年': 1351, '屏颜值': 1352, '调整': 1353, '有没有': 1354, '看中': 1355, '走': 1356, '最近': 1357, '遗憾': 1358, '却': 1359, '忠实': 1360, '需': 1361, '确定': 1362, '有时': 1363, '话': 1364, '旗舰店': 1365, '赞赞': 1366, '小巧': 1367, '触屏': 1368, '刚用': 1369, '辨识': 1370, '生气': 1371, '插': 1372, '很差': 1373, '只要': 1374, '不足': 1375, '事': 1376, '美美': 1377, '第一个': 1378, '心心念念': 1379, '孩子': 1380, '真正': 1381, '美观大方': 1382, '真香': 1383, '最强': 1384, '清新': 1385, '冲': 1386, '对焦': 1387, '换成': 1388, '太强大': 1389, '超大': 1390, '29': 1391, '14': 1392, '第一部': 1393, 'nice': 1394, '理解': 1395, '修': 1396, '一批': 1397, '边': 1398, '女孩子': 1399, '光线': 1400, '挺好用': 1401, '裸机': 1402, '一半': 1403, '海思': 1404, '到位': 1405, '风格': 1406, '激活': 1407, '隔': 1408, '第一天': 1409, '第': 1410, '痕迹': 1411, '大大的': 1412, '补偿': 1413, '小伙伴': 1414, '享受': 1415, '近': 1416, '烂': 1417, '银色': 1418, '抢购': 1419, '1000': 1420, '千万': 1421, '死': 1422, '说明': 1423, '抓屏': 1424, '取代': 1425, '取消': 1426, '第二次': 1427, '身边': 1428, '看不到': 1429, '个人感觉': 1430, '远距离': 1431, '总结': 1432, '128': 1433, '普通': 1434, 'xr': 1435, '了解': 1436, '旅游': 1437, '真不错': 1438, '摸': 1439, '屏保': 1440, '广角镜头': 1441, '修长': 1442, '市面上': 1443, '能用': 1444, '合理': 1445, '成功': 1446, '首选': 1447, '美丽': 1448, '准确': 1449, '瞬间': 1450, 'plus': 1451, '支付': 1452, '外': 1453, '握': 1454, '返回': 1455, '清': 1456, '三个': 1457, '这块': 1458, '回家': 1459, '粉丝': 1460, '立体声': 1461, '28': 1462, '所': 1463, '最高': 1464, '以来': 1465, '市场': 1466, '店里': 1467, '卡机': 1468, '极佳': 1469, '握持': 1470, '非': 1471, '企业': 1472, '内容': 1473, '几分钟': 1474, '配件': 1475, '老是': 1476, '二手': 1477, '一步到位': 1478, '没多久': 1479, '中间': 1480, '告别': 1481, '00': 1482, '发票': 1483, 'deg': 1484, '极差': 1485, '欺骗': 1486, '提供': 1487, '3d': 1488, '场景': 1489, '多久': 1490, '来得及': 1491, '双卡': 1492, '显得': 1493, '出去': 1494, '介绍': 1495, '无论': 1496, '打算': 1497, '店家': 1498, '一方面': 1499, '正合适': 1500, '家': 1501, '关机': 1502, '老爸': 1503, '使': 1504, '努力': 1505, '不然': 1506, '认为': 1507, '最终': 1508, '保持': 1509, '香': 1510, 'p10': 1511, '偏': 1512, '电子产品': 1513, '信任': 1514, '300': 1515, '对华': 1516, '状态': 1517, '早晨': 1518, '度高': 1519, '开启': 1520, '饱和度': 1521, '翻新': 1522, '丰富': 1523, '如此': 1524, '不算': 1525, '配合': 1526, '手指': 1527, '级别': 1528, '讲': 1529, '拆': 1530, '真是太': 1531, '过度': 1532, '一点点': 1533, '操控': 1534, '大礼包': 1535, '一买': 1536, '全是': 1537, '更换': 1538, '触控': 1539, '遇到': 1540, '告知': 1541, '咋': 1542, '男士': 1543, '凌晨': 1544, '赶上': 1545, '顶级': 1546, '4200': 1547, '上市': 1548, '精品': 1549, '严实': 1550, '专门': 1551, '有线': 1552, '代替': 1553, '录像': 1554, '一切': 1555, '准时': 1556, '护眼': 1557, '哪里': 1558, '短': 1559, '一拍': 1560, '名不虚传': 1561, '神器': 1562, '品控': 1563, '得到': 1564, '不太好': 1565, 'ok': 1566, '上班': 1567, '帅气': 1568, '屏显': 1569, '网页': 1570, '再来': 1571, '【': 1572, '方法': 1573, '快快': 1574, '有意思': 1575, '素质': 1576, '无可挑剔': 1577, '全部': 1578, '可惜': 1579, '假': 1580, '京豆': 1581, '比较满意': 1582, '热': 1583, '没事': 1584, '刚到': 1585, '爸爸': 1586, '碰': 1587, '开通': 1588, '永远': 1589, '多月': 1590, '色彩鲜艳': 1591, '费电': 1592, '点击': 1593, '难道': 1594, '礼拜': 1595, '数量': 1596, '折腾': 1597, '此': 1598, '皮': 1599, '一颗': 1600, '意思': 1601, '800': 1602, '2019': 1603, '渐变': 1604, 'cpu': 1605, '转过': 1606, '主流': 1607, '令人': 1608, '光圈': 1609, '极其': 1610, '真机': 1611, '来看': 1612, '非常适合': 1613, '具有': 1614, '倒': 1615, '强烈推荐': 1616, '接近': 1617, '小心': 1618, '买过': 1619, '半年': 1620, '完成': 1621, '6s': 1622, '吐': 1623, '创新': 1624, '亮度': 1625, '比起': 1626, '追求': 1627, '好听': 1628, '看电视': 1629, '哈哈哈哈': 1630, '爆表': 1631, '爆': 1632, '成': 1633, '摄': 1634, '我要': 1635, '依旧': 1636, '】': 1637, '之一': 1638, '拆封': 1639, '送达': 1640, '轻': 1641, '逼真': 1642, '郁闷': 1643, '变成': 1644, '表示': 1645, '假货': 1646, '三': 1647, '通知': 1648, '期望': 1649, '手机卡': 1650, '办公': 1651, '使用率': 1652, '53': 1653, '根据': 1654, '虚拟': 1655, '9905g': 1656, '时延': 1657, '灭屏': 1658, '像是': 1659, '灰尘': 1660, '鸡肋': 1661, '13': 1662, '全款': 1663, '漆': 1664, '大型': 1665, '天才': 1666, '背部': 1667, '虚化': 1668, '滑': 1669, '独特': 1670, '发布': 1671, '远景': 1672, '期望值': 1673, '运送': 1674, '烦恼': 1675, '率': 1676, '立体感': 1677, '看上去': 1678, '牌子': 1679, '一冲': 1680, '天天': 1681, '握感': 1682, '妥妥': 1683, '有人': 1684, '没用过': 1685, '照相机': 1686, '电源': 1687, '三年': 1688, '手机套': 1689, '从来': 1690, '换个': 1691, '据说': 1692, '不知': 1693, '这么久': 1694, '不高': 1695, '看过': 1696, '之间': 1697, '段时间': 1698, '设备': 1699, '不像': 1700, '两三天': 1701, '很少': 1702, '圆润': 1703, '满电': 1704, '用惯': 1705, '丑': 1706, '极快': 1707, '想换': 1708, '特点': 1709, '两周': 1710, '吊打': 1711, '强多': 1712, '传说': 1713, '国人': 1714, '昨晚': 1715, '进一步': 1716, '快捷': 1717, '电脑': 1718, '极致': 1719, '经典': 1720, '至少': 1721, '会员': 1722, '图像': 1723, '好点': 1724, '前后': 1725, '放在': 1726, '哎': 1727, '卡死': 1728, '无比': 1729, '店铺': 1730, '差别': 1731, '由': 1732, '这边': 1733, '退出': 1734, '可息屏': 1735, '阅览': 1736, 'mate30pro5g': 1737, '检查': 1738, '侧面': 1739, '机器人': 1740, '明明': 1741, '不灵': 1742, '回答': 1743, '数字': 1744, '亮眼': 1745, '不怎么样': 1746, '操作系统': 1747, '不敢恭维': 1748, '男朋友': 1749, '助手': 1750, '晚': 1751, '太高': 1752, '省心': 1753, '距离': 1754, '保险': 1755, '08': 1756, '窄': 1757, '分享': 1758, '十二': 1759, '直降': 1760, '其次': 1761, '有种': 1762, '是从': 1763, '一只': 1764, '几张': 1765, '剩': 1766, '槽': 1767, '连接': 1768, '女儿': 1769, '变化': 1770, '噪点': 1771, '轻松': 1772, '看吧': 1773, '后台': 1774, 'p9': 1775, '奢华': 1776, '绚丽': 1777, '靠': 1778, '国产品牌': 1779, '就要': 1780, '失败': 1781, '十点': 1782, '两侧': 1783, '进去': 1784, '看来': 1785, '意外': 1786, '到底': 1787, '加持': 1788, '沉稳': 1789, '轻度': 1790, '闪退': 1791, '台': 1792, '下去': 1793, '程度': 1794, 'emui10': 1795, '或': 1796, '16': 1797, '坚持': 1798, '小艺': 1799, 'g': 1800, '套': 1801, '怎么回事': 1802, '为啥': 1803, '备货': 1804, '稳重': 1805, '环绕': 1806, '外包装': 1807, '简陋': 1808, '预计': 1809, '4500mah': 1810, '刮花': 1811, '套路': 1812, '6899': 1813, '赔偿': 1814, '拖': 1815, '6399': 1816, '闪': 1817, '下班': 1818, '持久': 1819, '用心': 1820, '参数': 1821, '背景': 1822, '再次': 1823, '物体': 1824, '拍人': 1825, '官网': 1826, '国内': 1827, '眼前一亮': 1828, '类型': 1829, '双待': 1830, '简约': 1831, '线条': 1832, '送个': 1833, '混合': 1834, '高颜值': 1835, '看见': 1836, '掉电': 1837, '贝母': 1838, '蓝色': 1839, '全新': 1840, '安卓机': 1841, '好几个': 1842, '嗖嗖': 1843, '各位': 1844, '值': 1845, '自动识别': 1846, '果': 1847, '良心': 1848, '进': 1849, '角度': 1850, '不输': 1851, '技巧': 1852, '糟糕': 1853, '关闭': 1854, '一步': 1855, '618': 1856, '改变': 1857, '预约': 1858, '成为': 1859, '来讲': 1860, '每': 1861, '领先': 1862, '原': 1863, '干净': 1864, '容量': 1865, '运存': 1866, '隔天': 1867, '崛起': 1868, '变': 1869, '孔': 1870, '昨天晚上': 1871, '防': 1872, '改进': 1873, '响应': 1874, '放弃': 1875, '开发': 1876, '摔坏': 1877, '今天上午': 1878, '生活': 1879, '外面': 1880, '极好': 1881, '很远': 1882, '拉近': 1883, '骗人': 1884, '所谓': 1885, '看不清': 1886, '丝滑': 1887, '录': 1888, '这才': 1889, '好几部': 1890, '印象': 1891, '下载速度': 1892, '收': 1893, '想着': 1894, '往': 1895, '一号': 1896, 'iphone11': 1897, '方向': 1898, '说法': 1899, '首超': 1900, '600': 1901, '再也不会': 1902, '指关节': 1903, '一项': 1904, '27': 1905, '不买': 1906, '不理': 1907, '玩意': 1908, '折痕': 1909, '买到': 1910, '存储': 1911, '很正': 1912, '追剧': 1913, '验证': 1914, '1080p': 1915, '听说': 1916, '完全一致': 1917, '完好': 1918, '齐全': 1919, '拍照片': 1920, '太给力': 1921, '闪光灯': 1922, '成熟': 1923, 'quot': 1924, '女性': 1925, '厚重': 1926, '目前为止': 1927, '人工': 1928, '比例': 1929, '细长': 1930, '用来': 1931, '这方面': 1932, '卸载': 1933, '型号': 1934, '够快': 1935, '先用': 1936, '观察': 1937, 'nb': 1938, '连续': 1939, '日期': 1940, '次日': 1941, '当初': 1942, '过后': 1943, '复制': 1944, '同一个': 1945, 'emui': 1946, '没买': 1947, '现货': 1948, '体会': 1949, '物有所值': 1950, '强烈': 1951, '媳妇儿': 1952, '出众': 1953, '这台': 1954, '预想': 1955, '俩': 1956, '超清': 1957, '躺': 1958, '将近': 1959, '比不上': 1960, '流量': 1961, '太贵': 1962, '色彩艳丽': 1963, 'p20pro': 1964, '超越': 1965, 'dxo': 1966, '没人': 1967, '强项': 1968, '天气': 1969, '7p': 1970, '导航': 1971, '民族': 1972, '城市': 1973, '盒': 1974, '美好': 1975, '太大': 1976, '一层': 1977, '清脆': 1978, '大洋': 1979, '忍住': 1980, '持续': 1981, '找到': 1982, '音箱': 1983, '本': 1984, '同': 1985, '流程': 1986, '3000': 1987, '想想': 1988, '偏色': 1989, '大声': 1990, '新买': 1991, '显然': 1992, '浴霸': 1993, '低音': 1994, '而已': 1995, '双模': 1996, '动画': 1997, '39': 1998, '还余': 1999, '一堆': 2000, '三次': 2001, '购机': 2002, '好几百': 2003, '多花': 2004, '没收': 2005, '推': 2006, '鬼': 2007, '承诺': 2008, '袋子': 2009, '标配': 2010, '组合': 2011, '手机电池': 2012, '手持': 2013, '3200': 2014, '一个多': 2015, '阳光': 2016, '高科技': 2017, '用后': 2018, '也许': 2019, '造型': 2020, '第二': 2021, '大赞': 2022, '47': 2023, '隐藏': 2024, '逆光': 2025, '珠光': 2026, '色差': 2027, '赞赞赞': 2028, '逊色': 2029, '铃声': 2030, '米': 2031, '渣': 2032, '风景': 2033, '我会': 2034, '五千多': 2035, '一分货': 2036, '式': 2037, '辛苦': 2038, '先说': 2039, '酷': 2040, '新闻': 2041, '百分之': 2042, '当中': 2043, '很靓': 2044, '只用': 2045, '肉眼': 2046, '壁纸': 2047, '抖动': 2048, '换过来': 2049, '重点': 2050, '消耗': 2051, '备用机': 2052, '堪称': 2053, '666': 2054, '不失': 2055, '之光': 2056, '多个': 2057, '新款': 2058, '街': 2059, '点多': 2060, '碾压': 2061, '网': 2062, '普及': 2063, '碰到': 2064, '差点': 2065, '壳子': 2066, '很难': 2067, '点个': 2068, 'xsmax': 2069, '17': 2070, '坐等': 2071, '两台': 2072, '十几天': 2073, '线': 2074, '完整': 2075, '办': 2076, '多天': 2077, '金属': 2078, '高兴': 2079, '玩机': 2080, '一分': 2081, '25': 2082, '万徕': 2083, '忍': 2084, '神奇': 2085, '手机信号': 2086, '一下子': 2087, '45': 2088, '外表': 2089, '那里': 2090, '用久': 2091, '冷': 2092, '一边': 2093, '党': 2094, '接': 2095, '强太多': 2096, '这家': 2097, '打着': 2098, '再用': 2099, '奥利': 2100, '办理': 2101, '交': 2102, '评测': 2103, '货已': 2104, '度超': 2105, '月份': 2106, '面容': 2107, '难': 2108, '7000': 2109, '解决问题': 2110, '解决不了': 2111, '不让': 2112, '既然': 2113, '消息': 2114, '对不起': 2115, '失灵': 2116, '忽悠': 2117, '退换': 2118, '要么': 2119, '磕碰': 2120, '扣': 2121, '毫不犹豫': 2122, '2000': 2123, '大部分': 2124, '挑': 2125, '挺大': 2126, '眼球': 2127, '地址': 2128, '杜比': 2129, '电用': 2130, '宽度': 2131, '剩下': 2132, '感应': 2133, '喷': 2134, '太赞': 2135, '磨砂': 2136, '热情': 2137, '套装': 2138, '我家': 2139, '美国': 2140, '没错': 2141, '颇为': 2142, 'xs': 2143, 'max': 2144, '免费': 2145, '挑剔': 2146, '害怕': 2147, '抖': 2148, '5488': 2149, '白色': 2150, '部': 2151, '拉': 2152, '过瘾': 2153, '货后': 2154, '亮丽': 2155, '常用': 2156, '完爆': 2157, '渐变色': 2158, '要不是': 2159, '定': 2160, '送来': 2161, '相当于': 2162, '灵活': 2163, '担当': 2164, '前面': 2165, '预装': 2166, '一眼': 2167, '滤镜': 2168, '满满': 2169, '噱头': 2170, '系统优化': 2171, '柔和': 2172, '动听': 2173, '充好': 2174, '很帅': 2175, '媲美': 2176, '频繁': 2177, '男生': 2178, 'mate8': 2179, '感到': 2180, '谱': 2181, '甩': 2182, '大屏幕': 2183, '不太会': 2184, '某': 2185, '塑料': 2186, '中粮': 2187, '资料': 2188, '包括': 2189, '方式': 2190, '拿出': 2191, '看好': 2192, '显示屏': 2193, '保护套': 2194, '过于': 2195, '太牛': 2196, '电子': 2197, '如何': 2198, '通信': 2199, '回去': 2200, '级': 2201, '祖国': 2202, '实体': 2203, '迁移': 2204, '老人': 2205, '霸气': 2206, '可用': 2207, '着急': 2208, '两部': 2209, '26': 2210, '换回': 2211, '去年': 2212, '自': 2213, '一贯': 2214, 'bug': 2215, '光': 2216, '试了试': 2217, '体现': 2218, '良好': 2219, '外型': 2220, '送过来': 2221, '评分': 2222, '机会': 2223, '好快': 2224, '多么': 2225, '二': 2226, '暗': 2227, '很炫酷': 2228, '扔': 2229, '随身携带': 2230, '提醒': 2231, '进入': 2232, '发绿': 2233, '奥': 2234, '劝': 2235, '精准': 2236, '彰显': 2237, '类似': 2238, '动': 2239, '号付': 2240, '冲击': 2241, '亏了': 2242, '明天': 2243, '明白': 2244, '两': 2245, '内部': 2246, '起码': 2247, '耳朵': 2248, '退款': 2249, '变形': 2250, '搞笑': 2251, '缝隙': 2252, '线下': 2253, '催': 2254, '伤心': 2255, '优惠券': 2256, '慎重': 2257, '利息': 2258, '保修': 2259, '男女': 2260, '不小': 2261, 'v20': 2262, '抱': 2263, '明亮': 2264, '焦': 2265, '至': 2266, '于是': 2267, '音响效果': 2268, '结合': 2269, '对方': 2270, '顶尖': 2271, '发出': 2272, '优质': 2273, '地上': 2274, '控': 2275, '手中': 2276, '弧形': 2277, '无需': 2278, '8gb': 2279, '大容量': 2280, '物美价廉': 2281, '多功能': 2282, '张': 2283, 'nfc': 2284, '一大': 2285, '厚度': 2286, '水果机': 2287, '必要': 2288, '奈斯': 2289, 'n': 2290, '可观': 2291, '6g': 2292, '主题': 2293, '住': 2294, '管理': 2295, '红外': 2296, '睡觉': 2297, '平面': 2298, '期待已久': 2299, '祝': 2300, '代表': 2301, '买买': 2302, '星空': 2303, '充足': 2304, '蓝': 2305, '画': 2306, '登录': 2307, '新品': 2308, '缺陷': 2309, '多种': 2310, '算法': 2311, '数码': 2312, '散热': 2313, '尴尬': 2314, '家里人': 2315, '我选': 2316, '不差': 2317, '开封': 2318, '特快': 2319, '输入': 2320, '完胜': 2321, '最快': 2322, '过去': 2323, '当自强': 2324, '诚信': 2325, '中心': 2326, '以往': 2327, '综合': 2328, '送人': 2329, '询问': 2330, '80': 2331, '前卫': 2332, '凑合': 2333, '加入': 2334, '平板': 2335, '见': 2336, '响应速度': 2337, '无所谓': 2338, '太强': 2339, '探索': 2340, '干': 2341, '相': 2342, '促销': 2343, '人生': 2344, '文字': 2345, '填充物': 2346, '损坏': 2347, '\\u3000': 2348, '第三天': 2349, '海军': 2350, '整天': 2351, '字快': 2352, '哥哥': 2353, '没送': 2354, '帮忙': 2355, '好歹': 2356, '不久': 2357, '通透': 2358, '送货上门': 2359, '高像素': 2360, '19': 2361, '网通': 2362, '整机': 2363, '难看': 2364, '虽': 2365, '不及': 2366, '误操作': 2367, '寄': 2368, '原本': 2369, '做好': 2370, '调货': 2371, '圆形': 2372, '桌面': 2373, '集成': 2374, '聊天': 2375, '延时': 2376, '特殊': 2377, '到来': 2378, '查': 2379, '用安卓': 2380, '到处': 2381, '按照': 2382, '站': 2383, '一月': 2384, '中奖': 2385, '青春活力': 2386, '只会': 2387, '大大': 2388, '气泡': 2389, '要死': 2390, '从此': 2391, '天内': 2392, '专员': 2393, '绿色': 2394, '过分': 2395, '名单': 2396, '6000': 2397, '打不开': 2398, '五百块': 2399, '千元': 2400, '消费': 2401, '赔': 2402, '补贴': 2403, '刚过': 2404, 'note8': 2405, '画面感': 2406, '放大镜': 2407, '其': 2408, '心态': 2409, '灰': 2410, '即': 2411, '分量': 2412, '智慧': 2413, 'acute': 2414, '一把': 2415, '种草': 2416, '对面': 2417, '最佳': 2418, '高通': 2419, '刺激': 2420, '保': 2421, '会卡顿': 2422, '景色': 2423, '和平': 2424, '精英': 2425, '自动关机': 2426, '手握': 2427, '玩儿': 2428, '景物': 2429, '文件': 2430, '神机': 2431, '慢镜头': 2432, '自从': 2433, '极光': 2434, '几百': 2435, '轻微': 2436, '如': 2437, '清理': 2438, '出手': 2439, '功能齐全': 2440, '太美': 2441, '改善': 2442, '直播': 2443, '立刻': 2444, '背壳': 2445, '抢到': 2446, '启动': 2447, '平常': 2448, '后背': 2449, '牛皮': 2450, '人物': 2451, '几百块': 2452, '故意': 2453, '深度': 2454, '高度': 2455, '美化': 2456, '入': 2457, '色泽': 2458, '受': 2459, '视野': 2460, '处理速度': 2461, '显': 2462, '更大': 2463, '有卡顿': 2464, '用用': 2465, '独立': 2466, '新鲜': 2467, '懂得': 2468, '见到': 2469, '九点': 2470, '几条': 2471, '物超所值': 2472, '采购': 2473, '安全': 2474, '较长': 2475, '双曲面': 2476, '多用': 2477, '战斗机': 2478, '令人满意': 2479, '信': 2480, '试过': 2481, '拍个': 2482, '搞定': 2483, '无奈': 2484, '网点': 2485, '敏捷': 2486, '运用': 2487, '处': 2488, '触碰': 2489, '较大': 2490, '福利': 2491, '年度': 2492, 'a': 2493, '产品质量': 2494, '单反相机': 2495, '经历': 2496, '耐心': 2497, '太爽了': 2498, '周围': 2499, 'vivo': 2500, '打字': 2501, '哟': 2502, '远近': 2503, '一手': 2504, '以下': 2505, '挺棒': 2506, '新款手机': 2507, '发展': 2508, '而言': 2509, '变相': 2510, '高速': 2511, '太难': 2512, '原厂': 2513, '价值': 2514, '变得': 2515, '十分满意': 2516, '4988': 2517, '之外': 2518, '一遍': 2519, '特地': 2520, '靓': 2521, '听到': 2522, '星星': 2523, '闪屏': 2524, '祝愿': 2525, '笔记本': 2526, '链接': 2527, '向': 2528, '累': 2529, '下定决心': 2530, '稍': 2531, '首发': 2532, '太低': 2533, '帅': 2534, 'mate10pro': 2535, '似的': 2536, '厂家': 2537, '通讯录': 2538, '丢': 2539, '悦耳': 2540, '不停': 2541, '经用': 2542, '潮流': 2543, '不多': 2544, '沾': 2545, '比上': 2546, '夸奖': 2547, '电能': 2548, '学生': 2549, '国家': 2550, 'mate7': 2551, '第二部': 2552, '第一款': 2553, '记录': 2554, '真快': 2555, '验货': 2556, '放歌': 2557, '脏': 2558, '损失': 2559, '别买': 2560, '一体化': 2561, '相片': 2562, '整整': 2563, '轻轻': 2564, '娱乐': 2565, 'mate3': 2566, 's10': 2567, '补充': 2568, '时期': 2569, '删除': 2570, '结束': 2571, '滚筒': 2572, '来电': 2573, '翡翠': 2574, '硬': 2575, '不信': 2576, '洗衣机': 2577, '气质': 2578, '闲置': 2579, '玩个': 2580, '转换': 2581, '再见': 2582, '在线': 2583, '三只': 2584, '传统': 2585, '深感': 2586, '上下颠倒': 2587, '竖屏': 2588, '未来': 2589, '90': 2590, '包裹': 2591, '挂': 2592, '素皮版': 2593, '2020': 2594, '看久': 2595, '月底': 2596, '赠': 2597, '顾客': 2598, '键盘': 2599, '豪': 2600, '受不了': 2601, 'qq': 2602, '抱歉': 2603, '卡屏': 2604, '强制': 2605, '人理': 2606, '不上': 2607, '闹心': 2608, '不送': 2609, '欺诈': 2610, '裂': 2611, '上当': 2612, '给我发': 2613, '进水': 2614, '兑换': 2615, '拆过': 2616, '销售': 2617, '接电话': 2618, '不尽人意': 2619, 's20': 2620, '宽': 2621, '跳': 2622, 'tof': 2623, '镜子': 2624, '下降': 2625, '此款': 2626, '类': 2627, '过段时间': 2628, '双景': 2629, '那款': 2630, '单位': 2631, '个性': 2632, '发音': 2633, '全球': 2634, '运气': 2635, '实话实说': 2636, '许多': 2637, '屏是': 2638, '商店': 2639, '录屏': 2640, '第二个': 2641, '代': 2642, '配备': 2643, '出乎意料': 2644, '差太多': 2645, '看重': 2646, '一加': 2647, '方': 2648, '大众': 2649, '心动': 2650, '拿下': 2651, '追': 2652, '过渡': 2653, '一夜': 2654, '焦距': 2655, '型': 2656, '另': 2657, '开玩笑': 2658, '绝': 2659, '屏膜': 2660, '总而言之': 2661, '留下': 2662, '密码': 2663, '手后': 2664, '回到': 2665, '在家': 2666, 'ip68': 2667, '应对': 2668, '现实': 2669, '参考': 2670, '研发': 2671, '每年': 2672, '调教': 2673, '过年': 2674, '咯': 2675, '耗电量': 2676, '完好无损': 2677, '灯光': 2678, '轻巧': 2679, '发布会': 2680, '手表': 2681, '插上': 2682, '前一天': 2683, '外出': 2684, '梯队': 2685, '儿子': 2686, '嘻嘻': 2687, '直到': 2688, '图标': 2689, '多多': 2690, '华丽': 2691, '近景': 2692, '磨损': 2693, '口袋': 2694, '审美': 2695, '掌握': 2696, '那一刻': 2697, '哇': 2698, '再换': 2699, '耐电': 2700, '看出': 2701, '超美': 2702, '早点': 2703, '力度': 2704, '最棒': 2705, '脸': 2706, '1080': 2707, '子': 2708, 'omega': 2709, '偷窥': 2710, '无与伦比': 2711, '用安卓机': 2712, '过硬': 2713, '直': 2714, '用电': 2715, '通话音质': 2716, '毋庸置疑': 2717, '试一下': 2718, '缺货': 2719, '没到': 2720, '别扭': 2721, '流线型': 2722, '导入': 2723, '路': 2724, '正': 2725, '剩余': 2726, '蛮高': 2727, '配上': 2728, '调色': 2729, '音': 2730, '福音': 2731, '初步': 2732, '提': 2733, '大半天': 2734, '不好意思': 2735, '晓得': 2736, '适配': 2737, '心疼': 2738, '两充': 2739, '颤抖': 2740, '糟心': 2741, '无话可说': 2742, '订购': 2743, '远处': 2744, '远远': 2745, '红色': 2746, '太好': 2747, '实话': 2748, '秀气': 2749, '业内': 2750, '发掘': 2751, '回购': 2752, '厚': 2753, '情怀': 2754, '云': 2755, '卡三摄': 2756, '真棒': 2757, '无货': 2758, '无线耳机': 2759, '新年礼物': 2760, '口': 2761, '第二台': 2762, '多点': 2763, '天充': 2764, '小巧玲珑': 2765, '游': 2766, '通病': 2767, '把玩': 2768, '购物车': 2769, '飞起': 2770, '瘦长': 2771, '分屏': 2772, '128gb': 2773, '负责': 2774, '一众': 2775, '扛': 2776, '师傅': 2777, '最新款': 2778, '特效': 2779, '铁粉': 2780, '好多年': 2781, '工艺': 2782, '原价': 2783, '验证码': 2784, '敏感': 2785, '来回': 2786, '固定': 2787, '皮质': 2788, '证明': 2789, 'soc': 2790, '没关系': 2791, '百': 2792, '刷刷': 2793, '贵重物品': 2794, '附近': 2795, '对安卓': 2796, '迟迟': 2797, '搜': 2798, '这回': 2799, '想法': 2800, '触摸': 2801, '您': 2802, '尽快': 2803, '随意': 2804, '废': 2805, '开孔': 2806, '关系': 2807, '跟着': 2808, '淡紫色': 2809, 'mate20x': 2810, '不住': 2811, '排名': 2812, '数据线': 2813, '极度': 2814, '就让': 2815, '同意': 2816, '说话': 2817, '漏音': 2818, '爆炸': 2819, '难过': 2820, 'google': 2821, '参加': 2822, '发售': 2823, '意义': 2824, '明智': 2825, '举动': 2826, '关': 2827, '绿边': 2828, '我服': 2829, '主板': 2830, '白点': 2831, '天降': 2832, '挤压': 2833, '角': 2834, '次品': 2835, '补发': 2836, '时不时': 2837, '谨慎': 2838, '拆机': 2839, '不说': 2840, '二手货': 2841, '故障': 2842, '骗': 2843, '离谱': 2844, '填写': 2845, '算了': 2846, '两星': 2847, '强迫症': 2848, '三思': 2849, '粗糙': 2850, '纸': 2851, '麻': 2852, '屏绿边': 2853, '查看': 2854, '有所': 2855, '丝毫': 2856, '好大': 2857, '下方': 2858, '狂': 2859, '派送': 2860, '一家人': 2861, '出彩': 2862, '事儿': 2863, '协调': 2864, '一段': 2865, '855': 2866, '透': 2867, '母亲': 2868, '生日': 2869, '4200mah': 2870, 'mate9pro': 2871, '在手': 2872, '范围': 2873, '最美': 2874, '数': 2875, '渲染': 2876, '不再': 2877, '彻底': 2878, '短信': 2879, '替换': 2880, '嗨': 2881, '主': 2882, '转到': 2883, '苹果机': 2884, '4488': 2885, '怎样': 2886, '自主': 2887, '先进': 2888, '贴合': 2889, '观望': 2890, '其中': 2891, '没见': 2892, '超给力': 2893, '一分钱': 2894, '稳': 2895, '三摄': 2896, '接下来': 2897, '浪费': 2898, '拍拍': 2899, '两种': 2900, '零点': 2901, '紫': 2902, '尽管': 2903, '对得起': 2904, '能比': 2905, '美中不足': 2906, '试试看': 2907, '很小': 2908, '删': 2909, '下图': 2910, '不论是': 2911, '效率': 2912, '一局': 2913, '爱上': 2914, '各个方面': 2915, '闪充': 2916, '同款': 2917, '随时': 2918, '今天下午': 2919, '4200ma': 2920, '足': 2921, '佳': 2922, '作': 2923, '一来': 2924, '刷新': 2925, '好好看': 2926, '边角': 2927, '数码相机': 2928, '8p': 2929, '无损': 2930, '锁屏': 2931, '梦幻': 2932, '自如': 2933, '北京': 2934, '确认': 2935, '摄像机': 2936, '太爱': 2937, '坚决': 2938, '一阵子': 2939, '幅度': 2940, '无缝': 2941, 'jd': 2942, '反而': 2943, '不愧为': 2944, '指定': 2945, '瓦': 2946, '配货': 2947, '商务人士': 2948, '责任': 2949, '网站': 2950, '顺便': 2951, '量': 2952, '放到': 2953, '质': 2954, '单纯': 2955, '观': 2956, '快门': 2957, '灰常': 2958, '桶': 2959, '只想': 2960, '同学': 2961, '一会儿': 2962, '经验': 2963, '马达': 2964, '不在话下': 2965, '女士': 2966, '反映': 2967, '很值': 2968, '嘿嘿': 2969, 'v': 2970, '转粉': 2971, '专卖店': 2972, '功夫': 2973, '作用': 2974, '有用': 2975, '阵营': 2976, '手拿着': 2977, '实际上': 2978, '信心': 2979, '之快': 2980, '懒': 2981, '内涵': 2982, '黑点': 2983, '尚': 2984, '是夜': 2985, '真爽': 2986, '随机': 2987, '同价位': 2988, '总得来说': 2989, '哪个': 2990, '逼格': 2991, '就行了': 2992, '电信': 2993, '影像': 2994, '骁龙': 2995, '之所以': 2996, '便': 2997, '三四天': 2998, '第三部': 2999, '爽歪歪': 3000, '边上': 3001, '水下': 3002, '很骚': 3003, '传': 3004, '隐私': 3005, '性': 3006, '原机': 3007, '无线网络': 3008, '搬': 3009, '换上': 3010, '心理': 3011, '音频': 3012, 'pr': 3013, '一早': 3014, '友好': 3015, '先买': 3016, '亮屏': 3017, '买家': 3018, '颠覆': 3019, '一道': 3020, '透亮': 3021, '附带': 3022, '七星': 3023, '美腿': 3024, '锁': 3025, '拿来': 3026, '千多': 3027, '微单': 3028, '基带': 3029, '粘': 3030, '我能': 3031, '给予': 3032, '越用': 3033, '划伤': 3034, '不止': 3035, '满格': 3036, '太小': 3037, '戴': 3038, '几代': 3039, '好些': 3040, '饱满': 3041, '难以想象': 3042, '想像中': 3043, '褶皱': 3044, '至极': 3045, '要换': 3046, '关掉': 3047, '离不开': 3048, '产生': 3049, '99': 3050, 'mate305g': 3051, '舒心': 3052, '喜好': 3053, '断断续续': 3054, '立即': 3055, '做出': 3056, '35': 3057, '很慢': 3058, 'mater30': 3059, '清夜': 3060, '员工': 3061, '单声道': 3062, '到家': 3063, '手动': 3064, '极速': 3065, '搭': 3066, '浏览器': 3067, '咋样': 3068, '异常': 3069, '错': 3070, '反': 3071, '区': 3072, '运营商': 3073, '双手': 3074, '使得': 3075, '低音炮': 3076, '明年': 3077, '论坛': 3078, '刚上': 3079, '关节': 3080, '256gb': 3081, '养眼': 3082, '恰到好处': 3083, '呗': 3084, '接触': 3085, '妈': 3086, '拒绝': 3087, '生态': 3088, '几点': 3089, '一大早': 3090, '付钱': 3091, '有限': 3092, '赢来': 3093, '没换': 3094, '插来': 3095, '建起': 3096, '可玩度': 3097, '悬': 3098, '拍电影': 3099, '弯曲': 3100, '满血': 3101, '货品': 3102, '排行榜': 3103, '可玩性': 3104, '万主摄': 3105, '两颗': 3106, '业务': 3107, 'rarr': 3108, '平衡': 3109, '敲': 3110, '光滑': 3111, '一百': 3112, '干嘛': 3113, '干脆': 3114, '旁边': 3115, '工作人员': 3116, '认真': 3117, '因人而异': 3118, '一条': 3119, '纸箱': 3120, '听不见': 3121, '硬是': 3122, '急': 3123, '搜索': 3124, '哭': 3125, '差到': 3126, '嫌': 3127, '顺': 3128, '签收': 3129, '太久': 3130, '联通': 3131, '无线网': 3132, '刮痕': 3133, '亏': 3134, '解不开': 3135, '气死': 3136, '星给': 3137, '失效': 3138, '五天': 3139, '不满': 3140, '白屏': 3141, '最起码': 3142, '推诿': 3143, '贬值': 3144, '之内': 3145, '砸': 3146, '塞塞': 3147, '真不知道': 3148, '磕': 3149, '不靠': 3150, '可笑': 3151, '泡沫': 3152, '碎屏': 3153, '真坑': 3154, '一回': 3155, '笑': 3156, '主动': 3157, '文字游戏': 3158, '除非': 3159, '退换货': 3160, '发错': 3161, '打个': 3162, '震': 3163, '三百': 3164, '心塞': 3165, '擦': 3166, '里边': 3167, '异响': 3168, '适用': 3169, '手大': 3170, '心仪已久': 3171, '行业': 3172, '佼佼者': 3173, '一人': 3174, '额外': 3175, '超远': 3176, '心仪': 3177, '指': 3178, '一倍': 3179, '既': 3180, '四天': 3181, '变焦镜头': 3182, '闪闪': 3183, '赶快': 3184, '省去': 3185, '极限': 3186, '所说': 3187, '套子': 3188, '好使': 3189, '基础': 3190, '实现': 3191, '感强': 3192, '自用': 3193, '国民': 3194, '情人节': 3195, '摆脱': 3196, '焦虑': 3197, '第三': 3198, '背板': 3199, '夜视仪': 3200, '限制': 3201, '买下': 3202, '购': 3203, '寸': 3204, '面板': 3205, '面积': 3206, '逆天': 3207, '黑夜': 3208, '下决心': 3209, '八': 3210, '甚': 3211, '屏碎': 3212, '遥控': 3213, '屏用': 3214, '专业级': 3215, '不离手': 3216, '太棒': 3217, '侧': 3218, '分别': 3219, '一枚': 3220, '智能化': 3221, '薄薄的': 3222, '我爸': 3223, '人群': 3224, '首批': 3225, '6sp': 3226, '修图': 3227, '琢磨': 3228, '一刻': 3229, '色彩斑斓': 3230, '小说': 3231, '上来': 3232, '一两天': 3233, '阶段': 3234, '太长': 3235, '大师': 3236, '还给': 3237, '关于': 3238, '看不出来': 3239, '小白': 3240, '充了': 3241, '某些': 3242, '新奇': 3243, '面子': 3244, '短板': 3245, '麦芒': 3246, '区域': 3247, '百分之十': 3248, '观看': 3249, '高贵': 3250, '曲线': 3251, '办公室': 3252, '各项': 3253, '撑': 3254, 's': 3255, '骚气': 3256, '之类': 3257, '无力': 3258, '拉进': 3259, '待定': 3260, '退休': 3261, '70': 3262, '门店': 3263, '太有': 3264, '展现': 3265, '原配': 3266, '机上': 3267, '选错': 3268, '非常感谢': 3269, '更新换代': 3270, '比高': 3271, '插孔': 3272, '插头': 3273, '平稳': 3274, '不发': 3275, '断网': 3276, '吼吼': 3277, '要强': 3278, '光感': 3279, '看不见': 3280, '标签': 3281, '般的': 3282, '配套': 3283, '朋友圈': 3284, '完事': 3285, '一路': 3286, '最最': 3287, '深色': 3288, '功能性': 3289, '瞎': 3290, '如丝': 3291, '眼': 3292, '心中': 3293, '镜面': 3294, '五分': 3295, '智能机': 3296, '怪': 3297, '倍数': 3298, '不亏': 3299, '噢': 3300, '一瞬间': 3301, '魅族': 3302, '地步': 3303, '略': 3304, '半到': 3305, '前两天': 3306, '色调': 3307, '回头': 3308, 'ois': 3309, '防尘': 3310, '硬伤': 3311, '再评': 3312, '随着': 3313, '一家': 3314, '力挺': 3315, '祝福': 3316, '领跑者': 3317, '花屏': 3318, '女': 3319, 'p30p': 3320, '诱惑': 3321, '｀': 3322, '百分之五十': 3323, '幸运': 3324, '最为': 3325, '看个': 3326, '惊人': 3327, '夜': 3328, '此外': 3329, '48': 3330, '带给': 3331, '炒鸡': 3332, '秀': 3333, '十多天': 3334, '数一数二': 3335, '响亮': 3336, '千': 3337, '磨皮': 3338, '说真的': 3339, '倒闭': 3340, '耽误': 3341, '任': 3342, '自我感觉': 3343, '说明书': 3344, '有点像': 3345, '头天': 3346, '上涨': 3347, '因': 3348, 'p6': 3349, '老客户': 3350, '掉线': 3351, '抗用': 3352, '独一无二': 3353, '即可': 3354, '错过': 3355, '要点': 3356, '开锁': 3357, '机皇': 3358, '还用': 3359, '沉': 3360, '不断': 3361, '近距离': 3362, '早买': 3363, '想不到': 3364, '不玩': 3365, '返厂': 3366, '1600': 3367, '兼容': 3368, '增强': 3369, '6gb': 3370, '联网': 3371, '上传': 3372, '毫不': 3373, '用个': 3374, '智能手机': 3375, '＋': 3376, '发黄': 3377, '电视': 3378, '极了': 3379, '十一点': 3380, '运营': 3381, '佷': 3382, '等不及': 3383, '咱': 3384, '卖点': 3385, '常': 3386, '软膜': 3387, '手小': 3388, '费劲': 3389, '黑暗': 3390, '儿': 3391, '长期': 3392, '无忧': 3393, '从未': 3394, '般': 3395, 'mm': 3396, '才行': 3397, '兜里': 3398, '一个半': 3399, '清晰可见': 3400, '三十倍': 3401, '年轻人': 3402, '这部': 3403, '很亮': 3404, '舍不得': 3405, '牛批': 3406, '原先': 3407, '记得': 3408, '一份': 3409, '运动': 3410, '十二点': 3411, '不佳': 3412, '交互': 3413, '3688': 3414, '非常高兴': 3415, '完后': 3416, '嗷嗷': 3417, '太帅': 3418, '包': 3419, '广州': 3420, '略微': 3421, '详细': 3422, '要说': 3423, '7680fps': 3424, '制造': 3425, '使用者': 3426, '五个': 3427, '节奏': 3428, '抢先': 3429, '空': 3430, '超高速': 3431, '新旧': 3432, '出差': 3433, '别说': 3434, '份量': 3435, '星光': 3436, '蹭': 3437, '熟练': 3438, '一次性': 3439, '在意': 3440, '偏差': 3441, '年前': 3442, '不至于': 3443, '生效': 3444, '暂无': 3445, '至今': 3446, '复制到': 3447, '有空': 3448, '心想': 3449, '给出': 3450, '翻页': 3451, '磨': 3452, '断开': 3453, '仍然': 3454, '6p': 3455, '伤害': 3456, '直面': 3457, '武汉': 3458, '付完': 3459, '条件': 3460, '第三方': 3461, '路由器': 3462, 'b': 3463, '录入': 3464, '5499': 3465, '佩服': 3466, '人员': 3467, '迟钝': 3468, '31': 3469, '四年': 3470, '中好': 3471, '豪华': 3472, '工业': 3473, '可言': 3474, '劵': 3475, '直至': 3476, 'mate30pro4g': 3477, '理智': 3478, '远离': 3479, '气息': 3480, '漫长': 3481, '万左右': 3482, '不俗': 3483, '再有': 3484, '表面': 3485, '侧屏': 3486, '千万别': 3487, '解开': 3488, '512': 3489, '费': 3490, '难以': 3491, '今晚': 3492, '动态': 3493, '实属': 3494, '站点': 3495, '狗': 3496, '栏': 3497, '刚才': 3498, 'l': 3499, '传感器': 3500, '微微': 3501, '下滑': 3502, '虽说': 3503, '紫罗兰': 3504, 'low': 3505, '豆': 3506, '震感': 3507, '神': 3508, '环形': 3509, '勉强': 3510, '定位': 3511, '金色': 3512, '一秒': 3513, '加减': 3514, '新年': 3515, '对待': 3516, '意见': 3517, '遇见': 3518, '5899': 3519, '相册': 3520, '底部': 3521, '取': 3522, '歌': 3523, '二十天': 3524, '券': 3525, '深': 3526, 'note9': 3527, '圈': 3528, '声': 3529, '聊天记录': 3530, '减': 3531, '两百': 3532, '可怕': 3533, '坏点': 3534, '左下角': 3535, '讨厌': 3536, '莫名其妙': 3537, '吹嘘': 3538, '八月': 3539, '答复': 3540, '请问': 3541, '太气': 3542, '不划算': 3543, '时而': 3544, '700': 3545, '营销': 3546, '违约': 3547, '超卖': 3548, '老子': 3549, '恶劣': 3550, '报价': 3551, '差远了': 3552, '裂痕': 3553, '问问': 3554, '取卡针': 3555, '解决方案': 3556, \"'\": 3557, '留言': 3558, '不出': 3559, '填充': 3560, '屎': 3561, '答应': 3562, '而是': 3563, '弹': 3564, '该机': 3565, '跌': 3566, '十来天': 3567, '敷衍': 3568, '收不到': 3569, '太短': 3570, '卡住': 3571, '中评': 3572, '纸盒': 3573, '多钱': 3574, '倒霉': 3575, '输入法': 3576, '二手手机': 3577, '延保': 3578, '泡泡': 3579, '开个': 3580, '曝光': 3581, 'u': 3582, '交了': 3583, '最多': 3584, '牺牲': 3585, '前提': 3586, '模拟': 3587, '点用': 3588, '以内': 3589, '花朵': 3590, '小姐姐': 3591, '公布': 3592, '系统升级': 3593, '视感': 3594, '╰': 3595, '╯': 3596, '抵挡': 3597, '储存': 3598, '夸': 3599, '弧线': 3600, '神仙': 3601, '劲': 3602, '大多数': 3603, '方舟': 3604, '小编': 3605, '战场': 3606, '开着': 3607, '优美': 3608, '频率': 3609, '很拉风': 3610, '断货': 3611, '教程': 3612, '趁': 3613, '一机': 3614, '鸿蒙': 3615, '快点': 3616, '精美绝伦': 3617, '败笔': 3618, '考察': 3619, '感叹': 3620, '太烂': 3621, '摆在': 3622, '好样': 3623, '春节': 3624, '爸妈': 3625, '麒': 3626, 'amoled': 3627, '光顾': 3628, '实用性': 3629, '滿意': 3630, '買': 3631, '不錯': 3632, '演唱会': 3633, '刚出': 3634, '抢眼': 3635, '挺舒服': 3636, '如今': 3637, '主力': 3638, '手机号': 3639, '喽': 3640, '潜望': 3641, '测评': 3642, '东东': 3643, '亲测': 3644, '钟爱': 3645, 'p30por': 3646, '女人': 3647, '专用': 3648, '太酷': 3649, '介意': 3650, '表扬': 3651, '极高': 3652, '呈现': 3653, '忍不住': 3654, '四十分钟': 3655, '比较慢': 3656, '小手': 3657, '阅读': 3658, '太太': 3659, '只好': 3660, 'ipad': 3661, '次电': 3662, '谷歌': 3663, '接口': 3664, '通话质量': 3665, '刷新率': 3666, '计算器': 3667, 'c': 3668, 'dxomark': 3669, '刘畅': 3670, '珠海': 3671, '弱光': 3672, '两张': 3673, '口碑': 3674, 'ps': 3675, '可爱': 3676, '素': 3677, '4000w': 3678, '▽': 3679, '安心': 3680, '辅助': 3681, '好棒': 3682, '停顿': 3683, '太爽': 3684, '过剩': 3685, '要好看': 3686, '拨打': 3687, '降低': 3688, '拍得': 3689, '霸道': 3690, '摆弄': 3691, '针对': 3692, '很久很久': 3693, '过关': 3694, '愉悦': 3695, '物流配送': 3696, '吓人': 3697, '弧度': 3698, '太不容易': 3699, '大牌': 3700, '张扬': 3701, '多余': 3702, '学': 3703, '资深': 3704, '更长': 3705, '人类': 3706, '淘汰': 3707, '排行': 3708, '价格便宜': 3709, '不大': 3710, '自身': 3711, '顶端': 3712, '装在': 3713, '断': 3714, '弧面': 3715, '晃': 3716, '哇哇': 3717, '貌似': 3718, '这条': 3719, '啊啊啊': 3720, '支架': 3721, '欺负': 3722, '冬天': 3723, '弱': 3724, '牛叉': 3725, '一丝': 3726, '退役': 3727, '床上': 3728, '吃饭': 3729, '优雅': 3730, '翻': 3731, '飞跃': 3732, '快乐': 3733, '屏看': 3734, '宝宝': 3735, '京东方': 3736, '说句实话': 3737, '品牌手机': 3738, '很清': 3739, '两点': 3740, '及其': 3741, '正是': 3742, '奈何': 3743, '炸': 3744, '可靠': 3745, '楼': 3746, '一不小心': 3747, '解答': 3748, '尚可': 3749, '用不惯': 3750, '来不及': 3751, '便利': 3752, '物品': 3753, '心念': 3754, '一用': 3755, '长久': 3756, '粒': 3757, '上天': 3758, '浅': 3759, '计划': 3760, 'emui9': 3761, '没带': 3762, '出去玩': 3763, '新潮': 3764, '运': 3765, '颗粒': 3766, '首次': 3767, '保留': 3768, '绰绰有余': 3769, '亲们': 3770, '相关': 3771, '中意': 3772, '点点': 3773, '仅仅': 3774, '递给': 3775, '天后': 3776, '刚刚开始': 3777, '大够': 3778, '无感': 3779, '一清二楚': 3780, '全开': 3781, '幕': 3782, '面': 3783, '顺序': 3784, '深刻': 3785, '洗': 3786, '推销': 3787, '农药': 3788, '狠下': 3789, '骚': 3790, '中框': 3791, '自研': 3792, '转移': 3793, '服务周到': 3794, '握手': 3795, '溜': 3796, '凸起': 3797, '公放': 3798, '成长': 3799, '点评': 3800, '打折': 3801, '国外': 3802, '跳转': 3803, '十一': 3804, '零': 3805, '购入': 3806, '认识': 3807, '带上': 3808, '首屈一指': 3809, '％': 3810, '之下': 3811, '门禁卡': 3812, '过时': 3813, '一笔': 3814, '工具': 3815, '价格比': 3816, '换来': 3817, '想到': 3818, '顿': 3819, '不负': 3820, '跳水': 3821, '一比': 3822, 'miui': 3823, '晃动': 3824, 'ryyb': 3825, '我换': 3826, '看不出': 3827, '有货': 3828, '巨大': 3829, '巨快': 3830, '偷': 3831, '妹妹': 3832, '只不过': 3833, '脸上': 3834, '该款': 3835, '起步': 3836, '字体': 3837, '耐': 3838, '还配': 3839, 'w': 3840, '软': 3841, '指纹锁': 3842, '很窄': 3843, '选项': 3844, '旗舰级': 3845, '太值': 3846, '超市': 3847, '全程': 3848, '遥控器': 3849, '刺眼': 3850, '顿感': 3851, 'iphone8': 3852, '日常生活': 3853, '天下': 3854, '翻转': 3855, '习惯性': 3856, '三千多': 3857, '新出': 3858, '不错呀': 3859, '功': 3860, '太重': 3861, '牌': 3862, '检验': 3863, '总算': 3864, '超值': 3865, '突破': 3866, '自家': 3867, '四五天': 3868, '太难受': 3869, '一两年': 3870, '暂未': 3871, '已用': 3872, '欲望': 3873, '行动': 3874, '果子': 3875, '快到': 3876, '美感': 3877, '出国': 3878, '后屏': 3879, '很足': 3880, '其余': 3881, '相素': 3882, '我妈': 3883, '亲': 3884, '运转': 3885, '折扣': 3886, '国产货': 3887, '一塌糊涂': 3888, '选定': 3889, '备份': 3890, 'm20': 3891, 'gt': 3892, '照像': 3893, '查询': 3894, '不大不小': 3895, '比前': 3896, 'good': 3897, '国': 3898, '退回': 3899, '获得': 3900, '勿': 3901, '拍景': 3902, 'iphonex': 3903, '些许': 3904, '不可': 3905, '咱们': 3906, 'ensp': 3907, '差异': 3908, '到时候': 3909, '本机': 3910, '经济': 3911, '小屏': 3912, '衣服': 3913, '当面': 3914, '今日': 3915, '仓': 3916, '二是': 3917, '礼包': 3918, 'os': 3919, '爱好者': 3920, '用不完': 3921, '仁者见仁': 3922, '用机': 3923, '意料': 3924, '鲜亮': 3925, '早日': 3926, '玩起来': 3927, '后用': 3928, '名副其实': 3929, '同步': 3930, '轻便': 3931, '间': 3932, '保存': 3933, '索性': 3934, '玩手': 3935, '超牛': 3936, '疯狂': 3937, '待用': 3938, '封': 3939, '皮版': 3940, 'm30': 3941, '第一批': 3942, '顶': 3943, '今后': 3944, '基站': 3945, '技能': 3946, '清洗': 3947, '下岗': 3948, '五年': 3949, '橘色': 3950, '没说的': 3951, '不经': 3952, '易': 3953, '突飞猛进': 3954, '乱七八糟': 3955, '未知': 3956, '硬朗': 3957, '没话': 3958, 'd': 3959, '旧机': 3960, '空翻': 3961, '下边': 3962, '响': 3963, 'v10': 3964, '精良': 3965, '账号': 3966, '一上午': 3967, 'sa': 3968, '兄弟': 3969, '解': 3970, '远程': 3971, '优': 3972, '爱好': 3973, '物理': 3974, '掰': 3975, '电器': 3976, '亲戚': 3977, '熄屏': 3978, '皮革': 3979, '颇具': 3980, '随后': 3981, '媒体': 3982, '再试': 3983, 'bull': 3984, '敢': 3985, '从没': 3986, '抓': 3987, '绑架': 3988, '第一台': 3989, '疯': 3990, '有膜': 3991, '仍': 3992, '允许': 3993, '息屏': 3994, '很丑': 3995, '摔碎': 3996, '改成': 3997, '微': 3998, '恢复': 3999, '手機': 4000, '想用': 4001, '转安卓': 4002, '版出': 4003, '用料': 4004, '先写': 4005, '泛着': 4006, '光辉': 4007, '该亮': 4008, '该暗': 4009, '好上加好': 4010, '跟上': 4011, '快捷键': 4012, '模组': 4013, '左边': 4014, '一共': 4015, '操': 4016, '太厚': 4017, '撕开': 4018, '太少': 4019, '纤细': 4020, '贵点': 4021, '天线': 4022, '根': 4023, '录音': 4024, '改': 4025, 'mdash': 4026, '追踪': 4027, '饱和': 4028, '水': 4029, '加强': 4030, 'f': 4031, '更高': 4032, '缓冲': 4033, '足以': 4034, '元旦': 4035, '无限': 4036, '512g': 4037, '不给力': 4038, '榜首': 4039, '两三年': 4040, '转来': 4041, '往后': 4042, '色素': 4043, '一件': 4044, '艺术品': 4045, '低端': 4046, 'times': 4047, '全国': 4048, '占用': 4049, '小声': 4050, '巨': 4051, '4k': 4052, '引领': 4053, '一点半点': 4054, '高强度': 4055, '最早': 4056, '来自': 4057, '000': 4058, '尽如人意': 4059, '标志': 4060, '属实': 4061, '满心欢喜': 4062, '无关': 4063, '先前': 4064, '上部': 4065, '哪怕': 4066, '10000': 4067, '隔屏': 4068, '苦': 4069, '兼顾': 4070, '四射': 4071, '标准': 4072, '很卡': 4073, '试一试': 4074, '为证': 4075, '拖延': 4076, '成本': 4077, '上次': 4078, '破音': 4079, '逻辑': 4080, '什么样': 4081, '完善': 4082, 'sim': 4083, '大约': 4084, '具显': 4085, '双温': 4086, '更能': 4087, '二次': 4088, '愿意': 4089, '利益': 4090, '牛厂': 4091, '霸榜': 4092, '摄秒': 4093, '新影': 4094, '多开': 4095, '均': 4096, '高价': 4097, '短短': 4098, '日付': 4099, '百分之三十': 4100, '买贵': 4101, 't': 4102, '六天': 4103, '7680': 4104, '电流': 4105, '时会': 4106, '偏贵': 4107, 'nbsp': 4108, '桌子': 4109, '笑话': 4110, '一生': 4111, '需谨慎': 4112, '起泡': 4113, '虚假': 4114, '不符': 4115, '三包': 4116, '凭证': 4117, '进来': 4118, '三四次': 4119, '经常出现': 4120, '月初': 4121, '搞个': 4122, '别家': 4123, '好气': 4124, '很无语': 4125, '厚道': 4126, '一大堆': 4127, '划': 4128, '心寒': 4129, '公平': 4130, '店大欺客': 4131, '第八天': 4132, '权益': 4133, '推脱': 4134, '规则': 4135, '条款': 4136, '塞': 4137, '呵': 4138, '理性': 4139, '降得': 4140, '右边': 4141, '教训': 4142, '耍': 4143, '去取': 4144, '纸盒子': 4145, '审核': 4146, '见识': 4147, '十五天': 4148, '做法': 4149, '慎重考虑': 4150, '气愤': 4151, '序列号': 4152, '对不上': 4153, '恼火': 4154, '同一': 4155, '整点': 4156, '去查': 4157, '碎裂': 4158, '十次': 4159, '插进去': 4160, '跌价': 4161, '锤子': 4162, '奇葩': 4163, '拿个': 4164, '寄回': 4165, '抵': 4166, '不正': 4167, '头晕': 4168, '付定金': 4169, '晕': 4170, '切记': 4171, '反应迟钝': 4172, '话筒': 4173, '交货': 4174, '交期': 4175, '兑现': 4176, '催促': 4177, '充不上': 4178, '检修': 4179, '720p': 4180, '奉劝': 4181, '价保期': 4182, '承认': 4183, '讲话': 4184, '踢皮球': 4185, '过高': 4186, '相差': 4187, '糊': 4188, '一根': 4189, '不全': 4190, '近期': 4191, '真让人': 4192, '一言难尽': 4193, '塑料袋': 4194, '不动': 4195, '替': 4196, '太过分': 4197, '不该': 4198, '等于': 4199, '不合理': 4200, '口有': 4201, '真差': 4202, '到期': 4203, '压根': 4204, '锯齿': 4205, '金融': 4206, '卡针': 4207, '旋转': 4208, '三颗': 4209, '欠缺': 4210, '箱子': 4211, '框': 4212, '截': 4213, '断触': 4214, '两下': 4215, '微信': 4216, '按钮': 4217, '内有': 4218, '毛': 4219, '﹀': 4220, 'nova4': 4221, '浮屏': 4222, '水分': 4223, '不卡盾': 4224, '选了': 4225, '强弱': 4226, '明': 4227, '不论': 4228, '特价': 4229, '拍到': 4230, '不仅仅': 4231, '逗': 4232, '值得一提': 4233, '闪亮': 4234, '自行': 4235, '家电': 4236, '第一件': 4237, '圆滑': 4238, '嘈杂': 4239, '人物形象': 4240, '业界': 4241, '5a': 4242, '摩擦': 4243, '美得': 4244, '起飞': 4245, '维持': 4246, '格外': 4247, '十分钟': 4248, '十五': 4249, '较为': 4250, '两倍': 4251, '门': 4252, '畅通无阻': 4253, '略为': 4254, '可控': 4255, '一点儿': 4256, '各类': 4257, '电商': 4258, '百分': 4259, '百分百': 4260, '手机用户': 4261, '偷拍': 4262, '门口': 4263, '五倍': 4264, '专属': 4265, '外套': 4266, '送礼': 4267, '最想': 4268, '骚扰': 4269, 'pk': 4270, '东': 4271, '性能比': 4272, '美滋滋': 4273, '顶部': 4274, '激光': 4275, 'led': 4276, '单调': 4277, '自定义': 4278, '泛白': 4279, '则': 4280, '眼前': 4281, '顏色': 4282, '周到': 4283, '看上': 4284, '试拍': 4285, '奔': 4286, '珍珠': 4287, '美丽动人': 4288, '竖': 4289, '关心': 4290, '核心': 4291, 'note10': 4292, '无数': 4293, '纤薄': 4294, '青春': 4295, '抗': 4296, '真是假': 4297, '远距': 4298, '羡慕': 4299, '傻瓜': 4300, '趁着': 4301, '望远': 4302, '偏高': 4303, '拆包': 4304, '黑粉': 4305, '好久好久': 4306, '面前': 4307, '生意兴隆': 4308, 'p7': 4309, '种': 4310, '犀利': 4311, '太滑': 4312, '试下': 4313, 'p20p': 4314, '在外': 4315, '八点': 4316, '名字': 4317, '几款': 4318, '移机': 4319, '嫌弃': 4320, '称号': 4321, '铺开': 4322, '磁悬': 4323, '充强': 4324, 'typec': 4325, '况且': 4326, 'type': 4327, '上半年': 4328, '值得一提的是': 4329, '20pro': 4330, '天一': 4331, '高雅': 4332, '屏比': 4333, '可视': 4334, '点开': 4335, '编辑': 4336, '三十分钟': 4337, '百分之二': 4338, '≧': 4339, '≦': 4340, 'dc': 4341, '调光': 4342, '一阵': 4343, '太阳': 4344, '按着': 4345, '地位': 4346, '过份': 4347, '流': 4348, '匹配': 4349, '不堪': 4350, '变态': 4351, '各个': 4352, '醒来': 4353, 'ar': 4354, '充头': 4355, '信得过': 4356, '很烂': 4357, '报警': 4358, '忙': 4359, '好美': 4360, '随': 4361, '去掉': 4362, '比如说': 4363, '循环': 4364, '鉴于': 4365, '好感': 4366, 'p10plus': 4367, '换掉': 4368, '借用': 4369, '第三个': 4370, '男人': 4371, '插卡': 4372, '界面设计': 4373, '出品': 4374, '五点': 4375, '操作速度': 4376, '中等': 4377, '全家人': 4378, '繁琐': 4379, '功能丰富': 4380, '转型': 4381, '推出': 4382, '970': 4383, '还款': 4384, '特有': 4385, '插口': 4386, '奇怪': 4387, '美爆': 4388, '蛮长': 4389, '一两个': 4390, '难得': 4391, '这机': 4392, '送货到': 4393, '通用': 4394, '诚意': 4395, '液晶': 4396, '所望': 4397, '全世界': 4398, '前天': 4399, '深得我心': 4400, '开阔': 4401, '任正非': 4402, '例外': 4403, '这颜值': 4404, '掩盖': 4405, '亲自': 4406, '纯': 4407, '呜呜': 4408, '今早': 4409, '捧': 4410, '巅峰': 4411, '调控': 4412, '配个': 4413, '不忍心': 4414, '期盼': 4415, '已久': 4416, '如愿以偿': 4417, '接听电话': 4418, '当之无愧': 4419, '编译器': 4420, '始终': 4421, '窗户': 4422, '长辈': 4423, '制': 4424, '超薄': 4425, '清淅': 4426, '变色': 4427, '背屏': 4428, '缩放': 4429, '小爱': 4430, '录制': 4431, '推送': 4432, '方便快捷': 4433, '一小': 4434, '音色': 4435, 's9': 4436, '所在': 4437, '反应速度快': 4438, '大疆': 4439, '两条': 4440, '屏太': 4441, '怀抱': 4442, '国之': 4443, '很久没': 4444, '稀烂': 4445, '小小的': 4446, '精湛': 4447, '老婆大人': 4448, '更棒': 4449, '高品质': 4450, '格': 4451, '优良': 4452, '概念': 4453, '烫手': 4454, '聊': 4455, '下个': 4456, '一套': 4457, '死板': 4458, '粘贴': 4459, '5s': 4460, 'p9p': 4461, '过卡顿': 4462, '非凡': 4463, '主摄': 4464, '损耗': 4465, '纯粹': 4466, '光源': 4467, '七夕': 4468, '七号': 4469, '拿货': 4470, '表达': 4471, '迟': 4472, '十五分钟': 4473, '狠': 4474, '温润': 4475, '更佳': 4476, '很多年': 4477, '共享': 4478, '单车': 4479, '就行': 4480, '最长': 4481, 'por': 4482, '戴上': 4483, '这件': 4484, '浑厚': 4485, '第四部': 4486, '红': 4487, '第四': 4488, '眼看': 4489, '赚钱': 4490, '多倍': 4491, '昨天下午': 4492, '老板': 4493, '超爽': 4494, '不必': 4495, '旅行': 4496, '因此': 4497, '很多遍': 4498, '既往': 4499, '心买': 4500, '永久': 4501, '畅快': 4502, '耐久': 4503, '轻易': 4504, '重视': 4505, '装上': 4506, '多样': 4507, 'android': 4508, '调试': 4509, '见证': 4510, '三月': 4511, '百分之七十': 4512, '客观': 4513, '有效': 4514, '惊叹': 4515, '起床': 4516, '地铁': 4517, '各有': 4518, '使用方便': 4519, '一星半点': 4520, '号称': 4521, '抛弃': 4522, '一向': 4523, '高性能': 4524, '与众不同': 4525, '六': 4526, '倍长': 4527, '啃': 4528, '充上': 4529, '扩大': 4530, '改了': 4531, '附赠': 4532, '下半年': 4533, '欣喜': 4534, '年会': 4535, '情景': 4536, '四千多': 4537, 'k': 4538, '当做': 4539, '讨论': 4540, '忘记': 4541, '机壳': 4542, '会有': 4543, '以至于': 4544, '一模一样': 4545, '配版': 4546, 'ppi': 4547, '高于': 4548, '锐利': 4549, '细': 4550, '搬家': 4551, '完美无瑕': 4552, '伙伴': 4553, '一说': 4554, 'lrm': 4555, '好友': 4556, '几句': 4557, '小小': 4558, '捣鼓': 4559, '大厂': 4560, '一日': 4561, '角度看': 4562, '样式': 4563, '发热量': 4564, '室外': 4565, '炸天': 4566, '33': 4567, '多少倍': 4568, '感情': 4569, '风': 4570, '划屏': 4571, '认真负责': 4572, '生产': 4573, '七个': 4574, '经': 4575, '980ai': 4576, '屏屏': 4577, '高出': 4578, '视屏': 4579, '既视感': 4580, '动感': 4581, 'iphone7': 4582, '一如': 4583, '后试': 4584, 'ui': 4585, '小点': 4586, '低配': 4587, '不二': 4588, '一线': 4589, '隐形': 4590, '适宜': 4591, '预算': 4592, '截长': 4593, '想起': 4594, '微距拍摄': 4595, '还会来': 4596, 'get': 4597, '奖励': 4598, '捕捉': 4599, '精彩': 4600, '软壳': 4601, '者': 4602, '大奖': 4603, '红包': 4604, '人民': 4605, '蛮快': 4606, '毛孔': 4607, 'p8': 4608, '女孩': 4609, '三四年': 4610, '认证': 4611, '陆续': 4612, '全网': 4613, '房间': 4614, '高分辨率': 4615, '测': 4616, '两千多': 4617, '全包': 4618, '游刃有余': 4619, '大学': 4620, '没太大': 4621, '可见': 4622, '收获': 4623, '要赞': 4624, '喜': 4625, '贵重': 4626, '百分之二十': 4627, '赶脚': 4628, '只认': 4629, '耽搁': 4630, '感好': 4631, 'iphone6s': 4632, '我姐': 4633, '个旧': 4634, '信誉': 4635, '30p': 4636, '领取': 4637, '严谨': 4638, '力量': 4639, '六点': 4640, '待测': 4641, '小东西': 4642, '小孩': 4643, '深入': 4644, '偏黄': 4645, '帮别人': 4646, '来到': 4647, '从来不': 4648, '酷酷': 4649, '玩能': 4650, '减少': 4651, '作业': 4652, '不见': 4653, '带感': 4654, '忽略': 4655, 'fhd': 4656, '刷卡': 4657, '瘦': 4658, '困难': 4659, '界': 4660, '存储容量': 4661, '布局': 4662, '百块': 4663, '满意哦': 4664, '横空出世': 4665, 'as': 4666, '速': 4667, '够买': 4668, '犹如': 4669, '值得称赞': 4670, '扎眼': 4671, '求': 4672, '声明': 4673, '佳作': 4674, '接着': 4675, '层次感': 4676, '取货': 4677, '出乎': 4678, '新增': 4679, '选购': 4680, '协同': 4681, '一百倍': 4682, '好几年': 4683, 's7': 4684, '效': 4685, '订': 4686, '对此': 4687, '总能': 4688, '马马虎虎': 4689, '想换个': 4690, '简便': 4691, '完全符合': 4692, '直板': 4693, '办个': 4694, '双摄': 4695, '丝般': 4696, '跟不上': 4697, '晒': 4698, '冲击力': 4699, '诶': 4700, '黑边': 4701, '度上': 4702, '商用': 4703, '不适感': 4704, '感受一下': 4705, '防滑': 4706, '笨重': 4707, '用起': 4708, '按住': 4709, '向上': 4710, '几千块': 4711, '两款': 4712, 'ufs3': 4713, '感动': 4714, '感觉良好': 4715, '没得说的': 4716, '图个': 4717, '直观': 4718, '有趣': 4719, '对象': 4720, '试着': 4721, '好极了': 4722, '万超': 4723, '备': 4724, '多屏': 4725, '互动': 4726, '重低音': 4727, '当前': 4728, '地图': 4729, '要不然': 4730, '圆': 4731, '过得': 4732, '验': 4733, '好开心': 4734, '包含': 4735, '随心': 4736, '不便': 4737, '好得多': 4738, '不但': 4739, '来个': 4740, '细致': 4741, '开售': 4742, '准点': 4743, '晒单': 4744, '耽误时间': 4745, '一出': 4746, '现': 4747, '多付': 4748, '取景': 4749, '单买': 4750, '知': 4751, '方案': 4752, '先不说': 4753, '派': 4754, '黛色': 4755, '具体操作': 4756, '多长时间': 4757, '三遍': 4758, '5500': 4759, '比肩': 4760, '第四个': 4761, '调价': 4762, '碰见': 4763, '易碎': 4764, '如下': 4765, '组网': 4766, '噪音': 4767, '顿挫': 4768, '灵感': 4769, '吖': 4770, '道德': 4771, '把子': 4772, 'ｇ': 4773, '处于': 4774, '到达': 4775, '欠佳': 4776, '世界级': 4777, '营业厅': 4778, '逼': 4779, '我心': 4780, '压': 4781, '损伤': 4782, '不成问题': 4783, '货源': 4784, '20x': 4785, '见图': 4786, '四五个': 4787, '圆角': 4788, '自取': 4789, '小朋友': 4790, '信用': 4791, '外音': 4792, '半月': 4793, '全都': 4794, '据': 4795, '挺好玩': 4796, '边界': 4797, '大量': 4798, '优缺点': 4799, '不包': 4800, '兼': 4801, '静音': 4802, '早晚': 4803, '数日': 4804, '紫罗兰色': 4805, '有别于': 4806, '流露出': 4807, '贵族': 4808, 'mate30p': 4809, '即便': 4810, '上海': 4811, '运输': 4812, '感官': 4813, '向下': 4814, '加评': 4815, '看得出来': 4816, '背后': 4817, '音量控制': 4818, 'nsa': 4819, '感兴趣': 4820, '仅次于': 4821, '方块': 4822, '左侧': 4823, '兴趣': 4824, '拷贝': 4825, '缺': 4826, '能否': 4827, '条': 4828, '窄长': 4829, '无效': 4830, '贴近': 4831, '投屏': 4832, '高调': 4833, '避免': 4834, '抠': 4835, '真得': 4836, '前进': 4837, '共振': 4838, '能耐': 4839, '交互方式': 4840, '脸部': 4841, '实测': 4842, '合作': 4843, '用不上': 4844, '等效': 4845, '高分': 4846, 'a13': 4847, '名': 4848, '不快': 4849, '退步': 4850, '枉': 4851, '印': 4852, '流海': 4853, '空气': 4854, '我算': 4855, '一身': 4856, '点亮': 4857, '环屏': 4858, '再发': 4859, '正式': 4860, '伤眼': 4861, '险': 4862, '平滑': 4863, '唤醒': 4864, '十年': 4865, '四点': 4866, '双声道': 4867, '百分之百': 4868, '客户服务': 4869, '买碎': 4870, '物': 4871, 'p40': 4872, '可比': 4873, '百分之十五': 4874, '大半个': 4875, '路上': 4876, '带个': 4877, '发图片': 4878, '以外': 4879, '头疼': 4880, '最赞': 4881, '屏上': 4882, '接收': 4883, '认可': 4884, '排列': 4885, '根本无法': 4886, '尽量': 4887, '读取': 4888, '不香': 4889, '嘻': 4890, '答非所问': 4891, '做事': 4892, '上去': 4893, '精神': 4894, '好比': 4895, '却是': 4896, '比得上': 4897, '或许': 4898, '充沛': 4899, '老大': 4900, '四千': 4901, '所在城市': 4902, '试机': 4903, '松动': 4904, '我怕': 4905, '安慰': 4906, '初次': 4907, '落差': 4908, '个人观点': 4909, '满心': 4910, '七点': 4911, '男票': 4912, '热门': 4913, '2400': 4914, '1176': 4915, '玩转': 4916, '可选': 4917, '机械': 4918, '复杂': 4919, '字幕': 4920, '五千': 4921, '没来': 4922, '截止': 4923, '电话卡': 4924, '后盖素': 4925, '大时': 4926, '小贵': 4927, '差一点': 4928, '逛': 4929, '不忍': 4930, '离': 4931, '保护措施': 4932, '年底': 4933, '总共': 4934, '似乎': 4935, '说来': 4936, '日买': 4937, '没坏': 4938, '平整': 4939, '另行': 4940, '本次': 4941, '撞': 4942, '品': 4943, '左上角': 4944, '交涉': 4945, '最低': 4946, '一千': 4947, '不介意': 4948, '多人': 4949, '日子': 4950, '华': 4951, '眼花': 4952, '疼': 4953, '吃力': 4954, '约': 4955, '11pro': 4956, '十一月': 4957, '恨': 4958, '分身': 4959, '卡托': 4960, '针': 4961, '歪': 4962, '立减': 4963, '四部': 4964, '喷漆': 4965, '裂缝': 4966, '啥意思': 4967, '渠道': 4968, '呀呀': 4969, '五六千': 4970, '打包': 4971, '搞不懂': 4972, '袋': 4973, '垫': 4974, '用力': 4975, '不回话': 4976, '库存': 4977, '开具': 4978, '大风': 4979, '刮来': 4980, '二号': 4981, '凭': 4982, '无缘无故': 4983, 'zwj': 4984, '♂': 4985, '扯': 4986, '底': 4987, '屏闪': 4988, '没点': 4989, '霸王': 4990, '本着': 4991, '互相': 4992, '话费': 4993, '降到': 4994, '大爷': 4995, '受理': 4996, '几万': 4997, '答': 4998, '上边': 4999, '不起': 5000, '掉下来': 5001, '取件': 5002, '凉': 5003, '超慢': 5004, '09': 5005, '差得': 5006, '太远': 5007, '退还': 5008, '搭理': 5009, '退回去': 5010, '说理': 5011, '屁': 5012, '时效': 5013, '维权': 5014, '非要': 5015, '油层': 5016, '推卸责任': 5017, '199': 5018, '封条': 5019, '手机配件': 5020, '超期': 5021, '却说': 5022, '日下': 5023, '接口处': 5024, '入网': 5025, '解释一下': 5026, '伤': 5027, '机了': 5028, '崩溃': 5029, '没开': 5030, '本月': 5031, '如图': 5032, '二百多': 5033, '很脏': 5034, '当着': 5035, '取回': 5036, '再寄': 5037, '或者说': 5038, '工作日': 5039, '绝不': 5040, '4999': 5041, '定价': 5042, '首页': 5043, '借口': 5044, '裤兜': 5045, '敲碎': 5046, '不过如此': 5047, '扎心': 5048, '亲身': 5049, '拒': 5050, '不下': 5051, '诉求': 5052, '修过': 5053, '色散': 5054, '乱': 5055, '邮费': 5056, '报告': 5057, '商量': 5058, '推测': 5059, '足足': 5060, '没退': 5061, '心凉': 5062, '提个醒': 5063, '白白': 5064, '跑腿': 5065, '座机': 5066, '还花': 5067, '迟早': 5068, '仓库': 5069, '道歉': 5070, '千块': 5071, '那边': 5072, '手续费': 5073, '屏边': 5074, '本想': 5075, '提交': 5076, '供应商': 5077, '我花': 5078, '失落': 5079, '智商': 5080, '怎么办': 5081, '坏掉': 5082, '气死我了': 5083, '两三次': 5084, '嚣张': 5085, '六百多': 5086, '反复': 5087, '不负责任': 5088, '积极': 5089, '骂人': 5090, '综上': 5091, '一千多': 5092, '出新': 5093, '捆绑': 5094, '真没想到': 5095, '太深': 5096, '3g': 5097, '修理': 5098, '优先': 5099, '服气': 5100, '时好时坏': 5101, '上方': 5102, '退掉': 5103, '电信卡': 5104, '颗星': 5105, '客': 5106, '2g': 5107, '撕': 5108, '发白': 5109, '愤怒': 5110, '耍猴': 5111, '坠落': 5112, '好几下': 5113, '不是太好': 5114, '这波': 5115, '双开': 5116, '做成': 5117, '傻': 5118, '污渍': 5119, '一百块': 5120, '发给': 5121, '会发': 5122, '心累': 5123, '看图': 5124, '人动': 5125, '大于': 5126, '事件': 5127, '凑': 5128, '8000': 5129, '真服了': 5130, '纹': 5131, '装上去': 5132, '送点': 5133, '慎用': 5134, '七千': 5135, '脑子': 5136, '把手': 5137, '特定': 5138, '人为': 5139, '反倒': 5140, '唯独': 5141, '权限': 5142, '天猫': 5143, '只管': 5144, '大失所望': 5145, '区别对待': 5146, '7899': 5147, '工程师': 5148, '难用': 5149, '戴壳': 5150, '裸奔': 5151, '割手': 5152, '嗡嗡': 5153, '两三千': 5154, '盘': 5155, '捂': 5156, '八天': 5157, '认': 5158, '秒付': 5159, '返修': 5160, '不值钱': 5161, '闪闪发光': 5162, '没要': 5163, '辐射': 5164, '「': 5165, '」': 5166, '大促': 5167, '好几': 5168, '精确': 5169, '秒解': 5170, '直线': 5171, '近乎': 5172, '排出': 5173, '费着': 5174, '不吃': 5175, '适当': 5176, '争取': 5177, '弟弟': 5178, '六千多': 5179, '然而': 5180, '太穷': 5181, '宽窄': 5182, '麦克风': 5183, '液景': 5184, '还来': 5185, '毫无疑问': 5186, '队友': 5187, '家园': 5188, '欧洲': 5189, '亲戚朋友': 5190, '低于': 5191, '变幻': 5192, '潜望镜': 5193, '塔': 5194, '吸睛': 5195, '赶超': 5196, '本年度': 5197, '深深': 5198, 'a12': 5199, '抓握': 5200, '吹毛求疵': 5201, '温热': 5202, '总体而言': 5203, '爆满': 5204, '老年人': 5205, '夺目': 5206, '五十分钟': 5207, 'npu': 5208, '算力': 5209, '史上': 5210, '爱自': 5211, '卡片机': 5212, '美食': 5213, '门卡': 5214, '四五十': 5215, '公里': 5216, '超爱': 5217, '后者': 5218, '前者': 5219, '输': 5220, '同级': 5221, 'iphone7plus': 5222, '其后': 5223, '索尼': 5224, '高达': 5225, '附上': 5226, '有点儿': 5227, '芋机': 5228, '景': 5229, '喜爱': 5230, 'gpu': 5231, '挑战': 5232, '老铁': 5233, '带套': 5234, '空调': 5235, 'iphone6': 5236, '外觀': 5237, '沒': 5238, '好評': 5239, '六小时': 5240, '全黑': 5241, '菜鸟': 5242, '延续': 5243, '平看': 5244, 'magic2': 5245, '石墨': 5246, '烯': 5247, '韶华': 5248, '青年人': 5249, '力学': 5250, '开太多': 5251, '近距': 5252, '眼神': 5253, 'siri': 5254, '系': 5255, '就机': 5256, '炫光': 5257, '旅': 5258, '818': 5259, '超前': 5260, '难度': 5261, '阵子': 5262, '听话': 5263, '一片': 5264, '抬手': 5265, '出片': 5266, '直出': 5267, '好长': 5268, '请假': 5269, '三种': 5270, '底下': 5271, '得体': 5272, '美图': 5273, '卡过': 5274, '说服': 5275, '情侣': 5276, '换下来': 5277, '奇快': 5278, '屏会': 5279, '偏长': 5280, '文章': 5281, '婆婆': 5282, '光照': 5283, '贴切': 5284, '叹为观止': 5285, '完单': 5286, '不舍': 5287, '摇摆': 5288, '合算': 5289, '热点': 5290, '15w': 5291, '短时间': 5292, '充个': 5293, '车牌号': 5294, '清清楚楚': 5295, '创意': 5296, '带动': 5297, '做个': 5298, '从小': 5299, '大同小异': 5300, '爆款': 5301, '仅供': 5302, '皇': 5303, '夸赞': 5304, '高温': 5305, '不惜': 5306, '抢红包': 5307, '打动': 5308, '舍得': 5309, '方便使用': 5310, '感人': 5311, '开门': 5312, '来天': 5313, '极具': 5314, '倍镜': 5315, '高倍': 5316, '扔掉': 5317, '身临其境': 5318, '很沉': 5319, '一减': 5320, '赶': 5321, '手电筒': 5322, '亲爱': 5323, '颜控': 5324, '瓦快': 5325, '重了': 5326, '开外': 5327, '沉重': 5328, '另一方面': 5329, '七八个': 5330, '不沉': 5331, '嘎嘎': 5332, '顺心': 5333, '不亚于': 5334, '魔力': 5335, '太热': 5336, '卫生': 5337, '携带': 5338, '好吃': 5339, '彪悍': 5340, '隔日': 5341, '远超': 5342, '负一屏': 5343, '64g': 5344, '太卡': 5345, '图是': 5346, '塑料膜': 5347, '才刚': 5348, '能飞': 5349, '不需': 5350, '下楼': 5351, '比去': 5352, '一目了然': 5353, '中显': 5354, '注重': 5355, '换换': 5356, '多重': 5357, '大街': 5358, '特好': 5359, 'note': 5360, '拽': 5361, '计较': 5362, '友商': 5363, '一条街': 5364, '小事': 5365, '做起': 5366, '之作': 5367, '菜单': 5368, '整台': 5369, '票': 5370, '畅玩': 5371, '竞争力': 5372, '玩耍': 5373, '脱': 5374, '无敌手': 5375, '可圈可点': 5376, '比较简单': 5377, '手机软件': 5378, '加速': 5379, '几家': 5380, '咱是': 5381, '稍大': 5382, '略差': 5383, '施华洛': 5384, '世奇': 5385, '水晶': 5386, '忽亮': 5387, '忽暗': 5388, '高手': 5389, '55': 5390, '百个': 5391, '木有': 5392, '顺带': 5393, '进网': 5394, '许可': 5395, '游览': 5396, '摸上去': 5397, '纯白色': 5398, '包住': 5399, '虚': 5400, '之好': 5401, '之中': 5402, '爱美': 5403, '温度': 5404, '夸下': 5405, '4100': 5406, '好多天': 5407, '逛街': 5408, '背着': 5409, '翻车': 5410, '浅色': 5411, '十秒': 5412, '手心': 5413, '思维': 5414, '这下': 5415, '卡卡': 5416, '有抗': 5417, '收集器': 5418, '一试': 5419, '延期': 5420, '快如闪电': 5421, 'p3o': 5422, '最爽': 5423, '别致': 5424, '最牛': 5425, '名称': 5426, '发自内心': 5427, '学会': 5428, '睡一觉': 5429, '卖断': 5430, '三脚架': 5431, '何况': 5432, '一万个': 5433, '剁': 5434, '大学生': 5435, '专享': 5436, '现场': 5437, '喜人': 5438, '第三台': 5439, '爸': 5440, '前方': 5441, '更改': 5442, '潮': 5443, '有范': 5444, '匹敌': 5445, '事实证明': 5446, 'apple': 5447, '买前': 5448, '换安卓': 5449, '意想不到': 5450, '洗个': 5451, '澡': 5452, '今': 5453, '机不离': 5454, '变为': 5455, '之选': 5456, '就够': 5457, '不过关': 5458, 'iso': 5459, '全靠': 5460, '支援': 5461, 'x27': 5462, '差太远': 5463, '一时半会': 5464, '尚未': 5465, '大果': 5466, '赤': 5467, '茶橘': 5468, '反射': 5469, '换到': 5470, '先赞': 5471, '下电': 5472, '生意': 5473, '结实': 5474, '偷偷': 5475, '三四个': 5476, '自觉': 5477, '保养': 5478, '差个': 5479, '段': 5480, 'feel': 5481, '饭': 5482, '美到': 5483, '花里胡哨': 5484, '很准': 5485, '娘': 5486, '再来评': 5487, '着想': 5488, '每秒': 5489, '配图': 5490, '仅供参考': 5491, '同志': 5492, '月球': 5493, '周': 5494, '这段话': 5495, '天际': 5496, '几种': 5497, '从我做起': 5498, '长点': 5499, '发表': 5500, '服务业': 5501, '称赞': 5502, '先试': 5503, '赘述': 5504, '原始': 5505, '丢失': 5506, '均匀': 5507, '点多下': 5508, '多言': 5509, '六一': 5510, '侧漏': 5511, '如玉': 5512, '爱人': 5513, '当晚': 5514, '踏实': 5515, '频闪': 5516, '贴个': 5517, '水凝膜': 5518, '光是': 5519, '太香': 5520, '礼貌': 5521, '实用功能': 5522, '应有尽有': 5523, '无法形容': 5524, '某星': 5525, '合手': 5526, '比刚': 5527, '模': 5528, '抢手': 5529, '忠粉': 5530, '碰上': 5531, '货好': 5532, '第三张': 5533, '极小': 5534, '好坏': 5535, '道路': 5536, '王': 5537, '对手': 5538, '加成': 5539, '显微镜': 5540, '照射': 5541, '屏挺': 5542, '操作界面': 5543, '没膜': 5544, '卸妆': 5545, '照着': 5546, '清凉': 5547, '油腻': 5548, '一洗': 5549, '觉着': 5550, '地面': 5551, '锐化': 5552, '紫边': 5553, '七八年': 5554, '一面': 5555, '刮目相看': 5556, '腿': 5557, '漆黑': 5558, '可取之处': 5559, '电后': 5560, '50x': 5561, '米粉': 5562, '劈': 5563, '一名': 5564, '瓶': 5565, '同比': 5566, '号码': 5567, '等级': 5568, '模块': 5569, '我大': 5570, '震惊': 5571, '预购': 5572, '惧怕': 5573, '夜光': 5574, '不间断': 5575, '一天到晚': 5576, '用管': 5577, '啤': 5578, '辜负': 5579, '年轻化': 5580, '太过': 5581, '满足用户': 5582, '两者': 5583, '出门在外': 5584, '撒': 5585, '七夕节': 5586, '典范': 5587, '很潮': 5588, '行云流水': 5589, '爽滑': 5590, '跟得上': 5591, '统统': 5592, '那来': 5593, '洗澡': 5594, '拍外景': 5595, '飕飕': 5596, '刷牙': 5597, '洗脸': 5598, '真给力': 5599, '奖品': 5600, '抽奖': 5601, '颗粒状': 5602, '小游戏': 5603, '钉子户': 5604, '改用': 5605, '开盒': 5606, '还过得去': 5607, '时隔': 5608, '战斗': 5609, '出库': 5610, '过电': 5611, '车上': 5612, '很丝滑': 5613, '呐': 5614, '夏天': 5615, '熬': 5616, '半夜': 5617, '充真': 5618, '外界': 5619, 'matebook14': 5620, '欠': 5621, '微光': 5622, '二十多': 5623, '再接再厉': 5624, '二十': 5625, '塑封': 5626, '旗舰版': 5627, '3500': 5628, '3650mah': 5629, '5v': 5630, '9v': 5631, '2a': 5632, '有着': 5633, '赤茶橘': 5634, '闪存': 5635, '64gb': 5636, '85': 5637, '男性': 5638, '广阔': 5639, '存': 5640, '向来都是': 5641, '杆杆': 5642, '下巴': 5643, '唱歌': 5644, '你家': 5645, '一致': 5646, '表现力': 5647, 'vip': 5648, '多款': 5649, '相中': 5650, '专营店': 5651, '红外线': 5652, '机关': 5653, '庆幸': 5654, '中秋': 5655, '玩法': 5656, '平均': 5657, 'p3': 5658, '一系列': 5659, '理念': 5660, '美翻': 5661, '模仿': 5662, '酷帅': 5663, '体验出': 5664, '找个': 5665, '少女': 5666, '美炸': 5667, '脏兮兮': 5668, '呼唤': 5669, '拍过': 5670, '用法': 5671, '之感': 5672, '还长': 5673, '家有': 5674, '要紧': 5675, '安逸': 5676, '五颗星': 5677, '好不容易': 5678, '紧跟': 5679, '视线': 5680, '大闸蟹': 5681, '礼券': 5682, '外形尺寸': 5683, '往常': 5684, '传输': 5685, '父母': 5686, '色系': 5687, '溢出': 5688, '十几倍': 5689, '迅捷': 5690, '日用品': 5691, '书': 5692, '足不出户': 5693, '顺利': 5694, '⊙': 5695, '并未': 5696, '大爱大爱': 5697, '那般': 5698, '紧张': 5699, '色域': 5700, '宽广': 5701, 'nova': 5702, '10p': 5703, 'ip7': 5704, '停': 5705, '品种': 5706, '广东': 5707, '极个别': 5708, '点前': 5709, '遮挡': 5710, '钱包': 5711, '强度': 5712, '系统软件': 5713, '即将': 5714, '小气': 5715, '野外': 5716, '警告': 5717, '運行': 5718, '余': 5719, '打打': 5720, '最能': 5721, '发几张': 5722, '电只': 5723, '崩坏': 5724, '难怪': 5725, '能耗': 5726, '定义': 5727, '愿': 5728, 'very': 5729, '经久耐用': 5730, '合格': 5731, '影院': 5732, '私人': 5733, '无电': 5734, '霸屏': 5735, '3800': 5736, '几秒钟': 5737, '好长时间': 5738, '有质': 5739, '麟': 5740, '合': 5741, '见仁见智': 5742, '试验': 5743, '多快': 5744, '看来看去': 5745, '受欢迎': 5746, '舒畅': 5747, '老爷子': 5748, '多家': 5749, '清澈': 5750, '强国': 5751, '晰': 5752, '内在': 5753, '各有千秋': 5754, 'v8': 5755, 'v9': 5756, '出货': 5757, '健康': 5758, '除': 5759, '睡眠': 5760, '一匹': 5761, '长长': 5762, '能撑': 5763, '他家': 5764, '美照': 5765, '进度': 5766, '能流畅': 5767, '先给': 5768, '换代': 5769, '店买': 5770, '国庆': 5771, '店主': 5772, '纯净': 5773, '认同': 5774, 'oh': 5775, '多下': 5776, '快太多': 5777, '竖起': 5778, '大拇指': 5779, '最爱': 5780, '火箭': 5781, '新到': 5782, '挑选': 5783, '棒极了': 5784, '外地': 5785, '认定': 5786, '流利': 5787, 'mt30': 5788, '好奇': 5789, '耗油': 5790, '过得去': 5791, '配着': 5792, '坐': 5793, '严密': 5794, '好学': 5795, '查找': 5796, '二维码': 5797, '42': 5798, '一上': 5799, '四眼': 5800, '识别率': 5801, '理会': 5802, '动物': 5803, '来临': 5804, '主义者': 5805, '受够了': 5806, '美特': 5807, '挺高': 5808, '极品': 5809, '正确': 5810, '雄起': 5811, '特殊要求': 5812, '百分之六十': 5813, '注': 5814, '所有人': 5815, '水军': 5816, '依法': 5817, '上乘': 5818, '老机': 5819, '两机': 5820, '人丝滑': 5821, '留意': 5822, '招牌': 5823, '太瞎用': 5824, '智者见智': 5825, '家用': 5826, '有待于': 5827, '接通': 5828, '后摄': 5829, '同屏': 5830, '吸引力': 5831, '互联': 5832, '端': 5833, '相互': 5834, '利用': 5835, '做得好': 5836, '多日': 5837, '提早': 5838, '跨入': 5839, '果好': 5840, '隔用': 5841, '脆耳': 5842, '功效': 5843, '不可思议': 5844, '有关': 5845, '倍儿': 5846, '新鲜感': 5847, '识物': 5848, '新一代': 5849, '充充': 5850, '偏重': 5851, '年龄': 5852, '我俩': 5853, '兔牙屏': 5854, '四周': 5855, '光角': 5856, '解放': 5857, 'lcd': 5858, '流光': 5859, '终端': 5860, '煎熬': 5861, '摄影师': 5862, '不得': 5863, '久点': 5864, '设定': 5865, '平衡感': 5866, '代餐': 5867, '饼干': 5868, '线性': 5869, '分辨': 5870, '本地': 5871, '昨天上午': 5872, '造成': 5873, '埋怨': 5874, '第一印象': 5875, '－': 5876, '远比': 5877, '常用软件': 5878, '太火': 5879, '薄厚': 5880, '免': 5881, '很耐电': 5882, '心愿': 5883, '异形': 5884, '防护': 5885, '高音': 5886, '反驳': 5887, '比有': 5888, '比比': 5889, '订货': 5890, '手滑': 5891, '设': 5892, '防撞': 5893, '远远不如': 5894, '下个月': 5895, '基本功能': 5896, '冲电': 5897, '广': 5898, '建设': 5899, '爆发': 5900, '对照': 5901, '头部': 5902, '光泽': 5903, '经得起': 5904, '日后': 5905, '坚挺': 5906, '后要': 5907, '半秒': 5908, '优于': 5909, '好好学习': 5910, '考虑一下': 5911, '忙于': 5912, '惊呆': 5913, '略显': 5914, '迟滞': 5915, '兼容性': 5916, '猛': 5917, '卡点': 5918, '毅然决然': 5919, '儿童': 5920, '整洁': 5921, '左': 5922, '大胆': 5923, '扫兴': 5924, '占屏': 5925, '年终奖': 5926, '充分': 5927, '收音机': 5928, '放置': 5929, '跟进': 5930, '喜出望外': 5931, '超丑': 5932, '爵士': 5933, '真品': 5934, '百分之八': 5935, '看得见': 5936, '口罩': 5937, '先生': 5938, '手用': 5939, '没商量': 5940, '一键': 5941, '伤不起': 5942, '分辩率': 5943, '看清': 5944, '令': 5945, '说不出': 5946, '省事': 5947, '蠢': 5948, '315': 5949, '用量': 5950, '上代': 5951, '比旧': 5952, '完款': 5953, '这么晚': 5954, '十': 5955, '山寨': 5956, '冲冲': 5957, '逐渐': 5958, '对光': 5959, '挺贵': 5960, '百搭': 5961, 'iph': 5962, '有感': 5963, '十几分钟': 5964, '别问': 5965, '份': 5966, '盖子': 5967, '默认': 5968, '亲人': 5969, '万分': 5970, '搜到': 5971, '爽快': 5972, '老人家': 5973, '从刚': 5974, '硬质': 5975, '看后': 5976, '铁杆': 5977, '男孩': 5978, '辣': 5979, '大观': 5980, '近些年': 5981, '牌照': 5982, '专评': 5983, '大到': 5984, '小到': 5985, '几块钱': 5986, '灰常灰常': 5987, '重构': 5988, '原封': 5989, '甩开': 5990, '易上': 5991, '超跑': 5992, '当地': 5993, '制作': 5994, '机要': 5995, '闪耀': 5996, '稳妥': 5997, '送礼物': 5998, '可靠性': 5999, '畅享': 6000, '单独': 6001, '扩展': 6002, '7plus': 6003, '台机': 6004, '方方面面': 6005, '焦急': 6006, 'ing': 6007, '老丈人': 6008, '频段': 6009, '新体验': 6010, '不抖': 6011, '严严实实': 6012, '耐脏': 6013, '用处': 6014, '相较': 6015, '加密': 6016, '庄重': 6017, '华为技术': 6018, '受限': 6019, '蛮久': 6020, '飞速': 6021, '速度慢': 6022, '曾经': 6023, 'mix2s': 6024, '不光': 6025, '出于': 6026, '迎来': 6027, '就付': 6028, '职能': 6029, '明暗': 6030, '天多': 6031, '套套': 6032, '笑脸': 6033, '点半': 6034, '前期': 6035, '最舒服': 6036, '老牛': 6037, '边边': 6038, '设计师': 6039, '细小': 6040, '事物': 6041, '受到': 6042, '电器产品': 6043, '一半多': 6044, '亲儿子': 6045, '无疑': 6046, '街上': 6047, '稀缺': 6048, '大写': 6049, '营业部': 6050, '二天': 6051, '出奇': 6052, '常规': 6053, '速度感': 6054, '很省': 6055, '呼叫': 6056, '更快': 6057, '二十分钟': 6058, '真实度': 6059, '惊讶': 6060, '畅': 6061, '不起作用': 6062, '凑活': 6063, '贷款': 6064, '手一': 6065, '余地': 6066, '片': 6067, '惦记': 6068, '覺得': 6069, '反應': 6070, '聲音': 6071, '心机': 6072, '生活用品': 6073, '五六个': 6074, '长多': 6075, '视角': 6076, '用久点': 6077, '看书': 6078, '额': 6079, '优惠活动': 6080, '满减': 6081, '锻炼': 6082, '强调': 6083, '湖北': 6084, '多人试': 6085, '意料之外': 6086, '言归正传': 6087, '赋予': 6088, '复活': 6089, '盼': 6090, 'o': 6091, '很想': 6092, '爱死': 6093, '留个': 6094, '贵有': 6095, '大中华': 6096, '克拉斯': 6097, '无边': 6098, '淡淡的': 6099, '把握': 6100, '得手': 6101, '1670': 6102, '好过': 6103, '发挥': 6104, '一体': 6105, '方正': 6106, '形状': 6107, '四颗': 6108, '果冻': 6109, '荣幸': 6110, '好哟': 6111, '不防': 6112, '双防抖': 6113, '好不好': 6114, '罗兰': 6115, '银河': 6116, '望': 6117, '手速': 6118, '再配': 6119, '我试': 6120, '大自然': 6121, '慢速': 6122, '侧键': 6123, '●': 6124, '陪': 6125, '以免': 6126, '显眼': 6127, '极': 6128, '能量': 6129, '相得益彰': 6130, '宛如': 6131, '抗拒': 6132, '杠': 6133, '哪儿': 6134, '领域': 6135, '平顺': 6136, '不易': 6137, '四千万': 6138, '玩家': 6139, '不为过': 6140, '一波': 6141, '基本操作': 6142, '好酷': 6143, '扫码': 6144, '误': 6145, 'rs': 6146, '土': 6147, '烦死': 6148, '把持': 6149, '身材': 6150, '傍晚': 6151, '三分之二': 6152, '两千': 6153, '电都': 6154, '调出': 6155, '一圈': 6156, '帮助': 6157, '岱': 6158, '流动': 6159, '放下': 6160, '有力': 6161, '感觉不好': 6162, '度要': 6163, '54': 6164, '接到': 6165, 'iphone7p': 6166, '支撑': 6167, '要素': 6168, '托': 6169, '一刹那': 6170, '装个': 6171, '皮套': 6172, '面试': 6173, '悬浮': 6174, '滑落': 6175, '还用说': 6176, '迄今为止': 6177, '范': 6178, '有所不同': 6179, '带劲': 6180, '五秒': 6181, '畅顺': 6182, '放电影': 6183, '评': 6184, '打磨': 6185, '无色差': 6186, '从早到晚': 6187, '最少': 6188, '疲劳': 6189, '仅': 6190, '青': 6191, '跌落': 6192, '风险': 6193, '几寸': 6194, '公认': 6195, '屏双': 6196, '握住': 6197, '判断': 6198, '外部': 6199, '难调': 6200, '菜': 6201, '看起': 6202, '提了': 6203, '应用软件': 6204, '翻译': 6205, '无线电': 6206, '上半': 6207, '磨砂玻璃': 6208, '吊': 6209, '大额': 6210, '大势所趋': 6211, '保时捷': 6212, '特贵': 6213, '发暗': 6214, '白费': 6215, '大点': 6216, '电玩': 6217, '时能': 6218, '六十': 6219, '自称': 6220, '整合': 6221, '·': 6222, '可不是': 6223, '落后': 6224, '赞一赞': 6225, '吹牛': 6226, '改天': 6227, '凸出': 6228, '耀眼': 6229, '相应': 6230, '兴奋': 6231, '智能家居': 6232, '魅力': 6233, '听得': 6234, '代表性': 6235, '手快': 6236, '夜视': 6237, '美轮美奂': 6238, '走到': 6239, '人机': 6240, '万年': 6241, '瘦高': 6242, '革新': 6243, '买下来': 6244, '留': 6245, '选手': 6246, '失望透顶': 6247, '码': 6248, '无太大': 6249, '人工智能': 6250, '蹲': 6251, '《': 6252, '》': 6253, '几台': 6254, '鉴定': 6255, '没多大': 6256, '送上': 6257, '侧缘': 6258, '顶呱呱': 6259, '形式': 6260, '头上': 6261, '下马': 6262, '感贼': 6263, '98': 6264, '成就': 6265, '梦寐以求': 6266, '临时': 6267, '净': 6268, '绿': 6269, '之巅': 6270, '放开': 6271, '沉浸': 6272, '忐忑': 6273, '很多很多': 6274, '11promax': 6275, '排面': 6276, '错误': 6277, '盒里': 6278, '贴完': 6279, '免得': 6280, '心水': 6281, '气垫': 6282, '好丑': 6283, '大底': 6284, '厂商': 6285, '试运行': 6286, '快来': 6287, '走向': 6288, '雨': 6289, '预付定金': 6290, '讓': 6291, '指紋': 6292, '擦擦': 6293, '多一点': 6294, '夜里': 6295, '银白色': 6296, '当日': 6297, '误取': 6298, '越走越远': 6299, '上点': 6300, '太不给力': 6301, '昌盛': 6302, '华夏儿女': 6303, '齐': 6304, '奋进': 6305, '走进': 6306, '富强': 6307, '爆仓': 6308, '限量': 6309, '只换': 6310, '十二日': 6311, '靠边站': 6312, '有图': 6313, '七寸': 6314, '更强': 6315, '每天晚上': 6316, '一百元': 6317, '放外音': 6318, '阿': 6319, '中华民族': 6320, '摩托': 6321, '应付': 6322, '˙': 6323, '物件': 6324, '抓狂': 6325, '室友': 6326, '典雅': 6327, 'iphone8plus': 6328, '38': 6329, '真滴': 6330, '忍着': 6331, '装卡': 6332, '附送': 6333, '为所欲为': 6334, '包里': 6335, '供': 6336, '念': 6337, '吹得': 6338, '比差': 6339, '全局': 6340, '免除': 6341, '触摸式': 6342, '挖掘': 6343, '大气磅礴': 6344, '化': 6345, '察觉': 6346, '城': 6347, '点心': 6348, '为止': 6349, '身材修长': 6350, 'ais': 6351, '枉费': 6352, '放入': 6353, '晃眼': 6354, '闪烁': 6355, '六七千': 6356, '倒腾': 6357, '没发': 6358, '闺女': 6359, '深圳': 6360, '灰色': 6361, '仿真': 6362, '迹象': 6363, '一番': 6364, '宇宙': 6365, '赚': 6366, '如同': 6367, '世纪': 6368, '诟病': 6369, '一查': 6370, '亮色': 6371, '曲度': 6372, '年轻': 6373, '首款': 6374, '多大': 6375, '传过来': 6376, '销量': 6377, '带壳': 6378, '批评': 6379, '那么回事': 6380, '标杆': 6381, '偏厚': 6382, '直视': 6383, '机智': 6384, '不枉': 6385, '体检': 6386, '脆弱': 6387, '或是': 6388, '件': 6389, '再三': 6390, '聊聊': 6391, '周末': 6392, 'gt2': 6393, '没白': 6394, '不平': 6395, '挖孔': 6396, '更久': 6397, '形成': 6398, '扁': 6399, '伴随': 6400, '手游': 6401, '细细的': 6402, '曲': 6403, '炫耀': 6404, '蓝紫色': 6405, 's6': 6406, '没太多': 6407, '扫': 6408, '例如': 6409, '855plus': 6410, '不容': 6411, '运费': 6412, '尝鲜': 6413, '去过': 6414, '更何况': 6415, '大器': 6416, '不可避免': 6417, '曲率': 6418, '首': 6419, '点到': 6420, '划动': 6421, '几': 6422, '觉': 6423, '整体性': 6424, '调音': 6425, 'mate30pro5g512g': 6426, '手有': 6427, '堵': 6428, '肉': 6429, '榜': 6430, '一部分': 6431, '过大': 6432, '驾驶': 6433, '听听': 6434, '打过': 6435, '出头': 6436, '为何': 6437, '青睐': 6438, '第二周': 6439, '全方位': 6440, '关灯': 6441, '账号密码': 6442, '完照': 6443, '页': 6444, '隔壁': 6445, '停止': 6446, '通': 6447, '救星': 6448, '感光度': 6449, '振': 6450, '手工': 6451, '脆': 6452, 'j': 6453, '看清楚': 6454, '说个': 6455, '不紧': 6456, '开关': 6457, '弹出来': 6458, '陷阱': 6459, '连换': 6460, '容忍': 6461, '几部': 6462, '真服': 6463, '扯淡': 6464, '小黑点': 6465, '细微': 6466, '干什么': 6467, '上门': 6468, '黄色': 6469, '指甲': 6470, '值个': 6471, '为准': 6472, '截个': 6473, '货比三家': 6474, '地下': 6475, '联系人': 6476, '不通': 6477, '好亏': 6478, '太狠': 6479, '没配': 6480, '登': 6481, '这屏': 6482, '不翼而飞': 6483, '二百': 6484, '五百元': 6485, '七月': 6486, '修改': 6487, '发消息': 6488, '回过': 6489, '人来': 6490, '理都': 6491, '交易': 6492, '眼瞎': 6493, '购买者': 6494, '扣钱': 6495, '店大': 6496, '有事': 6497, '磨叽': 6498, '杂牌': 6499, '充填': 6500, '还降': 6501, '漏液': 6502, '无为': 6503, '无果': 6504, '大坑': 6505, '搪塞': 6506, '内发': 6507, '感差': 6508, '爱国热情': 6509, '饥饿': 6510, '逃避': 6511, '广大': 6512, '拖到': 6513, '解决办法': 6514, '原物': 6515, '寄过去': 6516, '验机': 6517, '屁用': 6518, '浪费时间': 6519, '一拖再拖': 6520, '泡汤': 6521, '给星': 6522, '无意': 6523, '不来': 6524, '爱答不理': 6525, '慢点': 6526, '吱吱': 6527, '应有': 6528, '人情味': 6529, '掉落': 6530, '疏': 6531, '这破': 6532, '水瓶': 6533, '真想': 6534, '再差': 6535, '嘴': 6536, '010': 6537, '身为': 6538, '堪忧': 6539, '坑骗': 6540, '变动': 6541, '301': 6542, '一米': 6543, '自认倒霉': 6544, '不去': 6545, '脏东西': 6546, '告诫': 6547, '没出': 6548, '一是': 6549, '履行': 6550, '价保到': 6551, '花钱买': 6552, 's8': 6553, '日才': 6554, '没干': 6555, '包换': 6556, '老百姓': 6557, '只到': 6558, '凉凉': 6559, '游戏卡': 6560, '不配': 6561, '查不到': 6562, '中途': 6563, '残留': 6564, '右侧': 6565, '换屏': 6566, '交给': 6567, '我刚': 6568, '插入': 6569, '卡到': 6570, '得不到': 6571, '根本就是': 6572, '最坑': 6573, '透明膜': 6574, '泡水': 6575, '报废': 6576, '急需': 6577, '员后': 6578, '取走': 6579, '发换': 6580, '别用': 6581, '我缺': 6582, '变小': 6583, '更差': 6584, '边线': 6585, '事实': 6586, '任务': 6587, '讲真': 6588, '摆设': 6589, '块京豆': 6590, '消协': 6591, '稀罕': 6592, '天无': 6593, '揣': 6594, '极低': 6595, '打湿': 6596, '波': 6597, '本事': 6598, '满怀': 6599, '货时': 6600, '②': 6601, '一格': 6602, '任总说': 6603, '负分': 6604, '异样': 6605, '听见': 6606, '族': 6607, '无一': 6608, '架': 6609, '名额': 6610, '可不可以': 6611, '性质': 6612, '耍流氓': 6613, '维修点': 6614, '一两千': 6615, '2999': 6616, '不防抖': 6617, '罢了': 6618, '猪肝色': 6619, '手气': 6620, '邮回': 6621, '邮寄': 6622, '收货人': 6623, '给钱': 6624, '89620171': 6625, '处理结果': 6626, '金额': 6627, '祖宗': 6628, '天价': 6629, '吐血': 6630, '车': 6631, '不鸟': 6632, '那块': 6633, '虚头': 6634, '转眼': 6635, '暴跌': 6636, '接个': 6637, '499': 6638, '认栽': 6639, '★': 6640, '坑到': 6641, '真气': 6642, '没人接': 6643, '差差': 6644, '4788': 6645, '京粉': 6646, '处有': 6647, '拖时间': 6648, '东豆': 6649, '销售员': 6650, '看不起': 6651, '培训': 6652, '上岗': 6653, '九天': 6654, '货都': 6655, '嘉兴': 6656, '不肯': 6657, '害得': 6658, '12315': 6659, '内屏': 6660, '刺耳': 6661, '不在意': 6662, '保膜': 6663, '制度': 6664, '回应': 6665, '实验室': 6666, '拔下来': 6667, '八八': 6668, '策略': 6669, '我无语': 6670, '虚高': 6671, '这辈子': 6672, '产品编号': 6673, '没想': 6674, '接触不良': 6675, '这刚': 6676, '完电': 6677, '如图所示': 6678, '四百': 6679, '钟头': 6680, '擦不掉': 6681, '尽然': 6682, '小卡': 6683, '开过': 6684, 'i': 6685, '四十': 6686, '軟件': 6687, '变暗': 6688, '自我': 6689, '卡槽': 6690, '凹': 6691, '区间': 6692, '弹出': 6693, '感太差': 6694, '较差': 6695, '回老家': 6696, '我晕': 6697, '太猛': 6698, '我弟': 6699, '太假': 6700, '导航键': 6701, '重影': 6702, '白底': 6703, '痛': 6704, '九折': 6705, '失误': 6706, '气不气': 6707, '6k': 6708, '镜像': 6709, '眼界': 6710, '境界': 6711, '知识': 6712, '推迟': 6713, '最慢': 6714, '差强人意': 6715, '德': 6716, '很糊': 6717, '快门速度': 6718, '推广': 6719, '放卡针': 6720, '按时': 6721, '转账': 6722, '收款': 6723, '袋装': 6724, '四角': 6725, '塌': 6726, '备注': 6727, '屏蔽': 6728, '偏白': 6729, '特别之处': 6730, '流失': 6731, 'iqoo': 6732, '五号': 6733, '3588': 6734, '太行': 6735, '右上角': 6736, '毛用': 6737, '手划': 6738, '不认': 6739, '要命': 6740, '几千': 6741, '太极': 6742, '糊弄': 6743, '多差': 6744, '两分钟': 6745, '3488': 6746, '否则': 6747, '气到': 6748, '很秀': 6749, '多送': 6750, '政策': 6751, '发到': 6752, '3988': 6753, '标识': 6754, '斟酌': 6755, '牙膏': 6756, '愣': 6757, '非官方': 6758, '180': 6759, '误导': 6760, '讲讲': 6761, '刀法': 6762, '车载': 6763, '详情': 6764, '形象': 6765, '复制粘贴': 6766, '苏泊尔': 6767, '天有': 6768, '吹出来': 6769, '周期': 6770, '晚点': 6771, '封膜': 6772, '教': 6773, '不准': 6774, '寒心': 6775, '好几千': 6776, '上当受骗': 6777, '太沉': 6778, '手段': 6779, '破碎': 6780, '漏': 6781, '5800': 6782, '提货': 6783, '减价': 6784, '胶水': 6785, '条纹': 6786, '43': 6787, '中山': 6788, '印子': 6789, '丫': 6790, '368': 6791, '到极点': 6792, 'huaweip10': 6793, '三分': 6794, '鬼才': 6795, '限购': 6796, '追究': 6797, '哼': 6798, '摇晃': 6799, '越大': 6800, '怪不得': 6801, '缺失': 6802, '遍': 6803, '修复': 6804, '明确': 6805, '碰撞': 6806, '灾难性': 6807, '磨合': 6808, '照出来': 6809, '硬生生': 6810, '卖东西': 6811, '右': 6812, '有轻': 6813, '三号': 6814, '多好': 6815, '时有': 6816, '年代': 6817, '黄牛': 6818, '事先': 6819, '纸壳': 6820, '皱': 6821, '关了': 6822, '确': 6823, '赢': 6824, '七': 6825, '老实': 6826, 'logo': 6827, '1400': 6828, '阔以': 6829, '怕死': 6830, '﹏': 6831, '误点': 6832, '太紧': 6833, '发不出': 6834, 'chrome': 6835, '雾蒙蒙': 6836, '95': 6837, '忽大忽小': 6838, '错位': 6839, '其他人': 6840, '扣分': 6841, '没法用': 6842, '251': 6843, '一一': 6844, '脏脏': 6845, '捡漏': 6846, '说不定': 6847, '竖条': 6848, '十几秒': 6849, '配不上': 6850, '某米': 6851, 'xiao': 6852, '听不清': 6853, '字母': 6854, '正中间': 6855, '一千块': 6856, '这算': 6857, '粑': 6858, '中肯': 6859, '裂开': 6860, '断裂': 6861, '防震': 6862, '闪动': 6863, '拔出来': 6864, '这品': 6865, '没意思': 6866, '略慢': 6867, '小白鼠': 6868, '2018': 6869, '相同': 6870, '几下': 6871, '何在': 6872, '货就别': 6873, '实际意义': 6874, '一百多块': 6875, '怪异': 6876, '非常容易': 6877, '调换': 6878, '下功夫': 6879, '抠门': 6880, '6799': 6881, '油漆': 6882, '值不值': 6883, '软套': 6884, '成正比': 6885, '别搞': 6886, '重进': 6887, '感太强': 6888, '一碰': 6889, '傍边': 6890, '第二批': 6891, '皆': 6892, '倒退': 6893, '连个': 6894, '参与': 6895, '周边': 6896, '太烦': 6897, '正方形': 6898, '廉价': 6899, '麻手': 6900, '绿屏': 6901, '○': 6902, '科学': 6903, '太抠': 6904, '涨价': 6905, '平白无故': 6906, '引以为傲': 6907, '怨': 6908, '莫名': 6909, '白': 6910, '前往': 6911, '放声': 6912, 'p20por': 6913, '污染': 6914, '无数次': 6915, '增': 6916, '送上门': 6917, '╮': 6918, '＿': 6919, '╭': 6920, '耳机线': 6921, '先到': 6922, '活着': 6923, '不开': 6924, '中招': 6925, '工人': 6926, '华而不实': 6927, '访问': 6928, '服务中心': 6929, '期货': 6930, '一旦': 6931, '费用': 6932, '不低': 6933, '雾化': 6934, '非常明显': 6935, '录歌': 6936, '如实': 6937, '喇手': 6938, '安静': 6939, '踏马': 6940, '用人': 6941, '一期': 6942, '发送': 6943, '超差': 6944, '送上来': 6945, '横': 6946, '侮辱': 6947, '逗我': 6948, '10pro': 6949, 'bgm': 6950, '偏大': 6951, '嗡': 6952, '跨': 6953, '十分之一': 6954, '一闪': 6955, '慎': 6956, '屏键': 6957, '129': 6958, '行为': 6959, '调校': 6960, '时长': 6961, '三角架': 6962, '协商': 6963, '开到': 6964, '听得见': 6965, '心酸': 6966, '四五百': 6967, '两处': 6968, '亏大': 6969, '严格': 6970, '薄膜': 6971, '有的是': 6972, '抢首评': 6973, '万多条': 6974, '收尾': 6975, '状态栏': 6976, '固件': 6977, '分界': 6978, '抢钱': 6979, '下调': 6980, 'bulingbuling': 6981, '暑期': 6982, '来用': 6983, '半冲': 6984, '用于': 6985, '早餐': 6986, '晚餐': 6987, '加强版': 6988, '映射': 6989, '融入': 6990, '褒奖': 6991, '拥戴': 6992, '准确度': 6993, '干燥': 6994, '湿滑': 6995, '有水': 6996, '乖乖': 6997, 'magic': 6998, '全身': 6999, '要配': 7000, '999999': 7001, '一气呵成': 7002, '用蛮': 7003, '内存空间': 7004, '纯音乐': 7005, '像数': 7006, '折叠': 7007, '结合处': 7008, '独有': 7009, '充得': 7010, '周全': 7011, '名义': 7012, '增值税': 7013, '专用发票': 7014, '帅呆了': 7015, '美绝': 7016, '它们': 7017, '要用': 7018, '一万元': 7019, '框架': 7020, '融为一体': 7021, '己方': 7022, '段位': 7023, '连累': 7024, '国行': 7025, '比米': 7026, '炫丽': 7027, '配齐': 7028, '倍径': 7029, '丰富多彩': 7030, '三射': 7031, '乍见': 7032, '之欢': 7033, '久处': 7034, '不厌': 7035, '诠释': 7036, '灵性': 7037, '残暴': 7038, '再接': 7039, '再力': 7040, '爱惜': 7041, '活粉': 7042, '纳米': 7043, '制式': 7044, '放学': 7045, '正事': 7046, '不折不扣': 7047, '妖艳': 7048, '编码器': 7049, '手度': 7050, '丝毫不差': 7051, '59': 7052, '敌人': 7053, '几场': 7054, '超清录': 7055, '不比多': 7056, '妥': 7057, '妥用': 7058, '聆听': 7059, '一股': 7060, '排照': 7061, '再言': 7062, 'no': 7063, '演出': 7064, '用作': 7065, '大型软件': 7066, '会小卡顿': 7067, '度电': 7068, '前所未有': 7069, '发烧友': 7070, '能效': 7071, '双幅': 7072, '双核': 7073, '飙升': 7074, 'al': 7075, '为长': 7076, '证': 7077, '足有': 7078, '真大': 7079, '橘红色': 7080, '上岁数': 7081, '写明': 7082, '没太': 7083, '打满': 7084, '频发': 7085, 'p30pr0': 7086, '抓不住': 7087, '真皮': 7088, '附录': 7089, '可见一斑': 7090, '如虎添翼': 7091, '闪付': 7092, '管': 7093, '最顶配': 7094, '绝好': 7095, '惹人爱': 7096, '杂点': 7097, '柔顺': 7098, '国有企业': 7099, '外用': 7100, '8mm': 7101, '超光感': 7102, '波凌波领': 7103, '拍美图': 7104, '拍美人': 7105, '较费': 7106, '沉淀': 7107, '花园': 7108, '球状': 7109, '延展性': 7110, '移动网': 7111, '下美爆': 7112, '人太多': 7113, '耐磨': 7114, '沾染': 7115, '够定': 7116, '飘': 7117, '高握': 7118, '出玩免': 7119, '狭隘': 7120, '领导作风': 7121, '西后': 7122, '如新': 7123, '作风': 7124, '海洋': 7125, '大力支持': 7126, '第五部': 7127, '信懒': 7128, '将会': 7129, '采取': 7130, '流出': 7131, '屏收': 7132, '度均': 7133, '置': 7134, '传感': 7135, '其为': 7136, 'imx650': 7137, '点后': 7138, 'diy': 7139, '称心': 7140, '阴天': 7141, '电拔': 7142, '一宿': 7143, '没买错': 7144, '导入到': 7145, 'ip30pro': 7146, '与其说是': 7147, '邑': 7148, '芋持': 7149, '很受': 7150, '浙爱': 7151, '理': 7152, '第梯': 7153, '感十总': 7154, '货真价实': 7155, '做过': 7156, '一新': 7157, '长宽': 7158, '焦拉远': 7159, '不太有': 7160, 'tpu': 7161, '并存': 7162, '決定': 7163, '們': 7164, '確實': 7165, '那樣子': 7166, '感覺': 7167, '喜歡': 7168, '還有': 7169, '態度': 7170, 'y': 7171, '充当': 7172, '多变': 7173, '这色': 7174, '指着': 7175, '残党': 7176, '别怕': 7177, '实用型': 7178, '标准版': 7179, '觊觎': 7180, '蓝白': 7181, '相间': 7182, '不亦乐乎': 7183, '美不美': 7184, 'x2': 7185, '备机妹': 7186, '我备机': 7187, '147': 7188, '问托否': 7189, '进位': 7190, '转网': 7191, '着落': 7192, '遛狗': 7193, '价了': 7194, '降温': 7195, '作品': 7196, '飘逸': 7197, '日光': 7198, 'iphne': 7199, '机体': 7200, '照相馆': 7201, '外景': 7202, '日景': 7203, '如临其境': 7204, '误别': 7205, '节有': 7206, '晶莹剔透': 7207, '显薄': 7208, '登山': 7209, '很炫丽': 7210, '转战': 7211, '屏炫酷': 7212, '好难': 7213, '光明': 7214, '沉静': 7215, '张是': 7216, '设成': 7217, '很耐耗': 7218, '迷人': 7219, '漆面': 7220, '二个月': 7221, '每到': 7222, '景点': 7223, '露珠': 7224, '控住': 7225, '一一列举': 7226, '弧屏': 7227, '充赞': 7228, '中重度': 7229, '百分之六': 7230, '加购': 7231, '手先试': 7232, '反充': 7233, '周围环境': 7234, '能握': 7235, '长度': 7236, '长篇': 7237, '竖版': 7238, '下会': 7239, '显现出': 7240, '红黄': 7241, '黄昏': 7242, '员点': 7243, '排骨': 7244, '满咯': 7245, '旗航': 7246, '原以为': 7247, '游玩': 7248, '成都': 7249, '晚到': 7250, '呆': 7251, '陪伴': 7252, 'edge6': 7253, '32g': 7254, '所剩无几': 7255, '转天': 7256, '硬道理': 7257, '充改': 7258, '封闭': 7259, '外置': 7260, '大城市': 7261, '地区': 7262, '全功能': 7263, '七七八八': 7264, '没有话说': 7265, '白米': 7266, '没多': 7267, '大用处': 7268, '写下': 7269, '各位朋友': 7270, '高点': 7271, '提出批评': 7272, '飞跃性': 7273, '实拍': 7274, '长隆': 7275, '鲸鲨': 7276, '馆': 7277, '海边': 7278, '强光': 7279, '时频': 7280, '快读': 7281, '入门': 7282, '超微距': 7283, 'ram': 7284, '窄窄的': 7285, '之际': 7286, '联想': 7287, '玻利维亚': 7288, '屏对': 7289, '大幅': 7290, '之城': 7291, '后排': 7292, '耗掉': 7293, '三十': 7294, '久会': 7295, '3200w': 7296, '1600w': 7297, '500w': 7298, '样机': 7299, '凭感觉': 7300, '从外': 7301, 'girl': 7302, '念叨': 7303, '一拿着': 7304, '无伤大雅': 7305, '盛宴': 7306, '美人尖': 7307, '背光': 7308, '户外': 7309, 'verygood': 7310, '使劲': 7311, '如初': 7312, '考证': 7313, 'p10pulas': 7314, '惦记着': 7315, '实机': 7316, '不热': 7317, '会顶': 7318, '套用': 7319, '再远': 7320, '微曲屏': 7321, '买点': 7322, '选景': 7323, '人性': 7324, '60g': 7325, '既保证': 7326, '回血': 7327, '用断': 7328, '指令': 7329, '三十多个': 7330, '待会': 7331, '测量': 7332, '融合': 7333, '水里': 7334, '课': 7335, '讨喜': 7336, '标着': 7337, '技术实力': 7338, '拉到': 7339, '低廉': 7340, '痛点': 7341, '探讨': 7342, '屏丑': 7343, '很暗': 7344, '聊下天': 7345, '寸屏': 7346, '违': 7347, '倍教': 7348, '做人': 7349, '上课': 7350, '黑板': 7351, '蓝天白云': 7352, '牛牛': 7353, '能超': 7354, '看台': 7355, '云台': 7356, '拥用': 7357, '上学': 7358, '一包': 7359, '营养': 7360, '口味': 7361, '季节': 7362, '要少': 7363, '上火': 7364, '呦': 7365, '正义': 7366, '茶卡盐湖': 7367, '领头羊': 7368, '功耗': 7369, '威力': 7370, '连年': 7371, '冉冉升起': 7372, '倍增': 7373, '咬牙': 7374, '身材苗条': 7375, '负担': 7376, '从此以后': 7377, '点儿': 7378, '4200mha': 7379, '会抖': 7380, '杂志': 7381, '半充': 7382, '浮躁': 7383, '电板': 7384, '果真': 7385, '线头': 7386, '能当': 7387, '大了些': 7388, '大调': 7389, '小灵通': 7390, '就入': 7391, '上位': 7392, '屋里': 7393, '公婆': 7394, '指名': 7395, '中性': 7396, '易懂': 7397, '点缀': 7398, '符合人体': 7399, '年龄段': 7400, '需品': 7401, '官配': 7402, '密码锁': 7403, '4588': 7404, '爽到': 7405, '主推': 7406, '扫脸': 7407, '挑不出': 7408, '不难': 7409, '观美到': 7410, '飞行器': 7411, '水底': 7412, '前摄': 7413, '用女': 7414, '一安卓': 7415, '推动': 7416, '产业': 7417, '有测': 7418, '心率': 7419, '吸晴': 7420, '迥异': 7421, '贴着': 7422, '发售日': 7423, '兑货卡': 7424, '甩果': 7425, 'p9p10p20': 7426, '跑得快': 7427, '折服': 7428, '不同于': 7429, '屏有': 7430, '倾向': 7431, '普通用户': 7432, '能拉到': 7433, '存满': 7434, '一毛': 7435, '7x': 7436, '附件': 7437, '凭借': 7438, '科技时代': 7439, '赠京豆': 7440, '中老年人': 7441, '日长': 7442, '让你玩': 7443, '玩具': 7444, '炒鸡赞': 7445, '云朵': 7446, '太忙': 7447, '采': 7448, '眩光': 7449, '吼': 7450, '贸易战': 7451, '中华儿女': 7452, '视频短片': 7453, '真实感': 7454, '静物': 7455, '屏选': 7456, '偏淡': 7457, '加之': 7458, '这时候': 7459, 'ak4376': 7460, 'hifi': 7461, '运放': 7462, '龙头': 7463, '防控': 7464, '时尚手机': 7465, '最靓': 7466, '指点': 7467, '没卡过': 7468, '乌漆': 7469, '麻黑': 7470, '百倍': 7471, '有试': 7472, '家中': 7473, '清一色': 7474, '转化': 7475, '字酷': 7476, '亿': 7477, '城中心': 7478, '海底': 7479, '捞': 7480, '砖头': 7481, '长方形': 7482, '易握': 7483, '无得弹': 7484, '屏碎险': 7485, '颇': 7486, '功夫不负有心人': 7487, '只带': 7488, '机中': 7489, '明说': 7490, '买安卓': 7491, '尽情': 7492, '美眉': 7493, '超一流': 7494, '好几把': 7495, 'p10puls': 7496, '速充': 7497, '暴涨': 7498, '快感': 7499, '蓝光': 7500, '四件套': 7501, '夸装': 7502, '评说': 7503, '随拍': 7504, '前列': 7505, '多远': 7506, '強大': 7507, '陌生': 7508, '洪荒': 7509, '力作': 7510, '滑般': 7511, '大白兔': 7512, '温柔': 7513, '右下角': 7514, '掌门人': 7515, '必属': 7516, '性感': 7517, '狐臭味': 7518, '不花': 7519, '耳不聋': 7520, '名牌': 7521, '肩上': 7522, '言行': 7523, '穿': 7524, '心目': 7525, '中是': 7526, '狂欢节': 7527, '升高': 7528, '购网': 7529, '辩驳': 7530, '弱点': 7531, '丰巢': 7532, '推介': 7533, '丢重': 7534, 'tut': 7535, '造型艺术': 7536, '叻': 7537, '多彩': 7538, '心爱': 7539, '典美': 7540, '创造': 7541, '二三天': 7542, '挺轻': 7543, 'www': 7544, '高频': 7545, '地用': 7546, '不良': 7547, '店庆': 7548, '太多人': 7549, '境外': 7550, '滑手': 7551, '起见': 7552, '配用': 7553, '新手': 7554, '延长': 7555, '屏大': 7556, '图二': 7557, '三两': 7558, '杭州': 7559, '环球': 7560, '恰逢': 7561, '川普': 7562, '制裁': 7563, '曲屏加': 7564, '王中王': 7565, '赞大爱': 7566, '用平': 7567, '小改': 7568, '快录': 7569, '阻挡': 7570, '我省': 7571, '相对来说': 7572, '景象': 7573, '优等': 7574, '4000mah': 7575, '呃': 7576, '释放': 7577, 'm20p': 7578, '毒': 7579, '批爆': 7580, 'pro6s': 7581, '仰望': 7582, '剔透': 7583, '无可': 7584, '面开': 7585, '好夜': 7586, '还远': 7587, '细致入微': 7588, '赤橘': 7589, '百份': 7590, '急用': 7591, '价好': 7592, '体无完肤': 7593, '周五': 7594, '投奔': 7595, '中有': 7596, '雾状': 7597, '辨析': 7598, '流批': 7599, '决心': 7600, '变娇': 7601, '二十七岁': 7602, '挣': 7603, '特清': 7604, '灵眸': 7605, '靓美': 7606, '光变': 7607, '44w': 7608, '大大小小': 7609, '机做': 7610, '有过之而无不及': 7611, '强会': 7612, '挺慢': 7613, '兴隆': 7614, '六星': 7615, '多一星': 7616, '拿定主意': 7617, '远照': 7618, '神气': 7619, '比烂': 7620, '7sp': 7621, '升废': 7622, '碎得': 7623, '全部都是': 7624, '恰巧是': 7625, '下旬': 7626, '好时机': 7627, '顽皮': 7628, '娃们': 7629, '贴纸': 7630, '过多': 7631, '定下': 7632, '娃儿': 7633, '长大': 7634, '遐想': 7635, '三口': 7636, '评语': 7637, '门槛': 7638, '更高些': 7639, '一赞': 7640, '绝大多数': 7641, '刷机': 7642, '大年初一': 7643, '外卖': 7644, '中科': 7645, '时噪点': 7646, 'mata7': 7647, 'p2o': 7648, '看不清楚': 7649, '说不上': 7650, '炸裂': 7651, '什么游戏': 7652, '扬长避短': 7653, '少搞': 7654, '亮亮的': 7655, '男孩子': 7656, 'mete30': 7657, '罢工': 7658, '卡不卡': 7659, '真牛': 7660, '变黄': 7661, '中秋节': 7662, '调一': 7663, '数值': 7664, '小数点': 7665, '两位': 7666, '每分': 7667, '秒表': 7668, '原图': 7669, 'p4': 7670, '许久': 7671, '趁现在': 7672, '全棉': 7673, '任老': 7674, '当小': 7675, '两大': 7676, '炫亮': 7677, '婺源': 7678, '换京豆': 7679, '復': 7680, '碧': 7681, 'g7p': 7682, '还会用': 7683, '感超': 7684, '特差': 7685, '抵不住': 7686, 'ヽ': 7687, 'з': 7688, '防窥莫一贴': 7689, '防窥': 7690, '无棣': 7691, '上个': 7692, '流光溢彩': 7693, '烧气': 7694, '落伍': 7695, '没空': 7696, '叛逃': 7697, '讲下': 7698, '风貌': 7699, '老早': 7700, '遇': 7701, '老听': 7702, '分数': 7703, '手痒': 7704, '快准': 7705, '悠悠岁月': 7706, '清纯': 7707, '光棍': 7708, '实诚': 7709, '略轻': 7710, '及佳': 7711, '架到': 7712, '上照': 7713, '很稳': 7714, '架子': 7715, '同体': 7716, '巴黎': 7717, '艾菲尔铁塔': 7718, '小子': 7719, '套个': 7720, '四只': 7721, '很为': 7722, '深有体会': 7723, '升级版': 7724, '骚黄': 7725, '最省': 7726, 'mate20pro2k': 7727, '搭档': 7728, '依赖症': 7729, '治愈': 7730, '真香机': 7731, '程序设计': 7732, '嘹亮': 7733, '每一件': 7734, '地去': 7735, '图上': 7736, '花花': 7737, '照不出': 7738, '中配': 7739, '圆孔': 7740, '上架': 7741, '明快': 7742, '打卡': 7743, '台风': 7744, '利奇马': 7745, 'nove4': 7746, '美容': 7747, '情侣机': 7748, '要关': 7749, '迅猛': 7750, '雅致': 7751, '不起眼': 7752, '很用': 7753, '从萍果': 7754, '美图秀': 7755, '真好': 7756, '免去': 7757, '真强': 7758, '白等': 7759, '分不清': 7760, '偏暖': 7761, '层': 7762, '楼上': 7763, '老爷': 7764, '多贵': 7765, '摁': 7766, '没良心': 7767, '注定': 7768, '灭亡': 7769, '某想': 7770, '电脑公司': 7771, '一曲': 7772, '唢呐': 7773, '来之不易': 7774, '舒适感': 7775, '网机': 7776, '马路': 7777, '领券': 7778, '913': 7779, '碗': 7780, '多部': 7781, '载': 7782, '点交': 7783, '指引': 7784, '六期': 7785, '度不输': 7786, '得出': 7787, '授权': 7788, '一无': 7789, 'p9p10pp20p': 7790, '中流': 7791, '界算快': 7792, '双曲': 7793, '最令': 7794, '6000mah': 7795, 'rog': 7796, '败家': 7797, '砖块': 7798, '建筑物': 7799, '纹理': 7800, '高光下': 7801, '树叶': 7802, '百分比': 7803, '突突突': 7804, '出马': 7805, '美女': 7806, '野兽': 7807, '有机': 7808, '从这一点': 7809, '机器配置': 7810, '系统配': 7811, '老本行': 7812, '不言而喻': 7813, '当属': 7814, '列举': 7815, '数不胜数': 7816, '一言以蔽之': 7817, '激情': 7818, '新疆': 7819, '装足': 7820, '妖': 7821, '大长': 7822, '拍时': 7823, '地球': 7824, '登顶': 7825, '指日可待': 7826, '色太': 7827, '娘子': 7828, '反对': 7829, 'p70': 7830, '很透': 7831, '比新': 7832, '还强': 7833, '实践': 7834, '看惯': 7835, '真不虚传': 7836, '真怕': 7837, '引起': 7838, 'p30prove': 7839, '五百强': 7840, '3k': 7841, '电力': 7842, '冲满': 7843, '手不抖': 7844, '脱颖而出': 7845, '晋级': 7846, '忽略不计': 7847, '好于': 7848, '该是': 7849, '翻译器': 7850, '佳人': 7851, '厕所': 7852, '41': 7853, 'mm192g': 7854, '7m': 7855, '全会': 7856, '连膜': 7857, '送券': 7858, '好货': 7859, '促成': 7860, '初到': 7861, '初秀': 7862, '二十七': 7863, '四月': 7864, '超亮': 7865, '六十八': 7866, '五分钟': 7867, '生硬': 7868, '太逆天': 7869, '远摄': 7870, '对接': 7871, '勇敢': 7872, '每晚': 7873, '微差': 7874, '白云': 7875, '巨大胜利': 7876, '盗用': 7877, '皆宜': 7878, 'ip6': 7879, '能接': 7880, '各人': 7881, '稍长': 7882, '简介': 7883, '领军者': 7884, '放松': 7885, '聚会': 7886, '耗用': 7887, '一绝': 7888, '此处': 7889, '机缘巧合': 7890, '色彩感': 7891, '浓重': 7892, '视觉性': 7893, '毫无例外': 7894, '编译': 7895, '静态': 7896, '外光': 7897, '6x': 7898, '改没': 7899, '先晒单': 7900, '直呼': 7901, '先不提': 7902, '挺沉': 7903, '圆弧': 7904, '连忙': 7905, '最火': 7906, '下风': 7907, '出游': 7908, '浙江': 7909, '小镇': 7910, '十多年': 7911, '今非昔比': 7912, '排前': 7913, '树荫': 7914, '字长': 7915, '长塞': 7916, '裤带': 7917, '没得选': 7918, '买快': 7919, '手能': 7920, '忙活': 7921, '景观': 7922, '随点': 7923, '随有': 7924, '一口': 7925, '靠慢': 7926, '洗完': 7927, '拔掉': 7928, '抢上': 7929, '选着': 7930, '厚望': 7931, '遇上': 7932, '组织': 7933, '漂流': 7934, '上楼': 7935, '卓越': 7936, '王牌': 7937, '付余': 7938, '款款': 7939, '有谱': 7940, '现机': 7941, '吶': 7942, '老姐': 7943, 'm20x': 7944, '稀有': 7945, '八倍': 7946, '镜': 7947, 'ヾ': 7948, 'cup': 7949, 'ノ': 7950, '〃': 7951, '空电': 7952, '差错': 7953, '能轮': 7954, '硅胶套': 7955, '交接': 7956, '太亮': 7957, '厚薄': 7958, '玩点': 7959, '同行': 7960, '值比': 7961, '升级成': 7962, '常客': 7963, 'oppor17pro': 7964, '火爆': 7965, '死忠': 7966, '还阔': 7967, '浪得虚名': 7968, '84': 7969, '早用': 7970, '贴不牢': 7971, '长距': 7972, '真不容易': 7973, '接下去': 7974, '少带': 7975, '前用': 7976, '点下': 7977, '被盗': 7978, '借': 7979, '2m': 7980, '桥': 7981, '钻石': 7982, '打上': 7983, '背包': 7984, '一律': 7985, '储量': 7986, '各种各样': 7987, 'm5': 7988, '杆儿': 7989, '改良': 7990, '调皮': 7991, '弄断': 7992, '收集': 7993, '一到': 7994, '欧耶': 7995, '纤长': 7996, '瞄上': 7997, '屏低': 7998, '色偏': 7999, '能充': 8000, '四十多': 8001, '迫切': 8002, '总得': 8003, '来得': 8004, '半分': 8005, '特大': 8006, '抗造': 8007, '四四方方': 8008, '女性朋友': 8009, '來购': 8010, '质量保证': 8011, '痘痘': 8012, '存放': 8013, '万张': 8014, '首歌曲': 8015, '镶嵌': 8016, '视网膜': 8017, '422ppi': 8018, '视距': 8019, '竟显': 8020, '本色': 8021, '应急': 8022, '务实': 8023, '发动机': 8024, '大运': 8025, 'p9plus': 8026, '手机店': 8027, '千玺': 8028, '高糊': 8029, '没调': 8030, '著称': 8031, '三孔徕': 8032, '能导': 8033, '独树一帜': 8034, '美艳': 8035, '淡蓝色': 8036, '偏好': 8037, '初试': 8038, '65': 8039, '硬实': 8040, '193': 8041, '掌柜的': 8042, '包得': 8043, '一百个': 8044, '多来': 8045, '买先': 8046, '但省': 8047, '镜头感': 8048, '再行': 8049, '更为': 8050, '堆里': 8051, '动员': 8052, '疵': 8053, '长草': 8054, '看颜值': 8055, '敲定': 8056, '挑错': 8057, '引得': 8058, '一进': 8059, '镭射': 8060, '轻盈': 8061, '节省时间': 8062, '燥点': 8063, '半一冲': 8064, '平棱': 8065, '视听': 8066, '机较': 8067, '节约': 8068, '浅蓝': 8069, '有大': 8070, '顾忌': 8071, '演绎': 8072, '收听': 8073, '充分发挥': 8074, '相提并论': 8075, '信号强度': 8076, '美仑美奂': 8077, '紧凑': 8078, '脸色': 8079, '纯手': 8080, '借助': 8081, '共用': 8082, '辽': 8083, 'freelace': 8084, '换算': 8085, '快换': 8086, '一下手': 8087, '显出': 8088, '爆棚': 8089, '挺久': 8090, '远方': 8091, '手册': 8092, '榜上有名': 8093, '3650': 8094, '叩屏': 8095, '意境': 8096, '不太惯': 8097, '应用程序': 8098, '一带': 8099, '退出键': 8100, '没全': 8101, 'china': 8102, '表现形式': 8103, '04': 8104, '928': 8105, '再大点': 8106, '太大太大': 8107, '百分之五十左右': 8108, '中小': 8109, '听闻': 8110, '下定': 8111, '没贵': 8112, '不老': 8113, '一至': 8114, '鲁谷路': 8115, '更轻': 8116, '忍痛': 8117, '让给': 8118, '狗子': 8119, '摔烂': 8120, '4800': 8121, '风景线': 8122, '近在咫尺': 8123, '摔得': 8124, '用得少': 8125, '丈母娘': 8126, '专业术语': 8127, '用动': 8128, '不弱': 8129, '动过': 8130, '十一点多': 8131, '晚安': 8132, '差不太多': 8133, '配带': 8134, '淡雅': 8135, '男生女生': 8136, 'zoom50': 8137, '捏': 8138, '360': 8139, '天在': 8140, '这句': 8141, '世面': 8142, '多虑': 8143, '字太快': 8144, '微小': 8145, '过头': 8146, '悠长': 8147, '深远': 8148, '大件': 8149, '代用': 8150, 'huaweip30': 8151, '稀饭': 8152, '翻天': 8153, '做功': 8154, '忒': 8155, '六到': 8156, '美不胜收': 8157, '亲民': 8158, '月余': 8159, '很轻': 8160, '常常': 8161, '卡用': 8162, '高效': 8163, '美出': 8164, '难解': 8165, '就会亮': 8166, '挺烦': 8167, '哎呀呀': 8168, '要大屏': 8169, '澄净': 8170, '蓝天': 8171, '上瘾': 8172, '停不下来': 8173, '坚持下去': 8174, '寒冷': 8175, '保暖': 8176, '硬着头皮': 8177, '它足': 8178, '老太太': 8179, '略输于': 8180, '有点烦': 8181, '防屏': 8182, '乐耳': 8183, '待电': 8184, '第六': 8185, '不忘': 8186, '初心': 8187, '牢记': 8188, '使命': 8189, '睡前': 8190, '早起': 8191, '稍稍': 8192, '百分之四十': 8193, '效果图': 8194, '下会变': 8195, '好莱坞': 8196, '高速公路': 8197, '自然景观': 8198, '灵动': 8199, '活泼': 8200, '超炫': 8201, '夫人': 8202, '极为': 8203, '转接线': 8204, '名星': 8205, '華為': 8206, '機待機': 8207, '時間': 8208, '比共': 8209, '安卓系統': 8210, '自動': 8211, '中快': 8212, '一能': 8213, '十八个': 8214, '一瞬': 8215, '越来越低': 8216, '甜甜的': 8217, '美好幸福': 8218, '待机王': 8219, '2014': 8220, 'mate10p': 8221, '说卡': 8222, '抽到': 8223, '体积小': 8224, '苦手': 8225, '再添': 8226, '白辛苦': 8227, '幸福': 8228, '白天黑夜': 8229, '校对': 8230, '征服': 8231, '好爽': 8232, '电放': 8233, '三倍': 8234, '酷爽': 8235, '想像': 8236, '之情': 8237, 'a9': 8238, '从今以后': 8239, '离得': 8240, '优异': 8241, '楼层': 8242, '阳台': 8243, '蚂蚁': 8244, '剧场': 8245, '付账': 8246, '爱玩': 8247, '一对': 8248, '拐角处': 8249, '夜白': 8250, '友机': 8251, 'watch': 8252, '太大带': 8253, '有徕': 8254, '指望': 8255, '以用': 8256, '很美': 8257, '看用': 8258, '两句': 8259, '闪电般': 8260, '相术': 8261, '还会选': 8262, '便用': 8263, '每时每刻': 8264, '从而': 8265, '天半': 8266, '小绿好': 8267, '美呆': 8268, '更多美': 8269, '电视广告': 8270, '有誉': 8271, '拖拽': 8272, '越买': 8273, '上成': 8274, '没敢': 8275, '撞色': 8276, '连忘返': 8277, '代表作': 8278, '弟妹': 8279, '快得多': 8280, '射程': 8281, '办公楼': 8282, '公园': 8283, '想必': 8284, '搞懂': 8285, '抗冻': 8286, '发工资': 8287, '这不买': 8288, '即通': 8289, '搬迁': 8290, '一秒钟': 8291, '费时间': 8292, '西北': 8293, '删掉': 8294, '照顾': 8295, '飞哥': 8296, '祝你们': 8297, '身体健康': 8298, '前到': 8299, '时甲': 8300, '货更强': 8301, '色度': 8302, '副机': 8303, '截频': 8304, '丫丫': 8305, '光亮度': 8306, '软件系统': 8307, '高多': 8308, '监控': 8309, '协助': 8310, '核对': 8311, '错取': 8312, '户户': 8313, '光亮': 8314, '定单': 8315, '值夜班': 8316, '用券加': 8317, '直减': 8318, '投递': 8319, '跟踪': 8320, '环节': 8321, '摸摸': 8322, '跳到': 8323, '回音': 8324, '比较清楚': 8325, '指尺': 8326, '铁棒': 8327, '摩拜': 8328, '稜': 8329, '考研': 8330, '倒计时': 8331, '还算快': 8332, '实力派': 8333, '方物': 8334, '内送': 8335, '赞不绝口': 8336, 'phonex': 8337, '清淅点': 8338, 'a80': 8339, '太难用': 8340, '即到': 8341, '巧合': 8342, '感知': 8343, '抵用券': 8344, '顶瓜瓜': 8345, '实际操作': 8346, '看待': 8347, '越大越': 8348, '强盛': 8349, '信仰': 8350, '脱俗': 8351, '很流批': 8352, '阴影': 8353, '新大陆': 8354, '买太大': 8355, '选啦': 8356, '师兄': 8357, '妹子': 8358, '一向如此': 8359, '拍于': 8360, '真诚': 8361, '出乎预料': 8362, '包小包': 8363, '六六六': 8364, 'lp': 8365, '常来': 8366, '中要': 8367, '证实': 8368, '行货': 8369, '苦笑': 8370, '价美物廉': 8371, '掌柜': 8372, '长短': 8373, '亲友': 8374, '老弟': 8375, '很灵': 8376, '超速': 8377, '花样': 8378, '耶': 8379, '常听': 8380, '徐州': 8381, '嘴儿': 8382, '铭记': 8383, '提莫': 8384, '太美丽': 8385, '大字体': 8386, '花镜': 8387, '律绝': 8388, '村里': 8389, '真不愧是': 8390, '5x': 8391, '受用': 8392, '还算': 8393, '会小热': 8394, '外甥': 8395, '夕阳': 8396, '透底': 8397, '人好物': 8398, '急强': 8399, '透彻': 8400, '挺强': 8401, '快滴': 8402, '大雨': 8403, '历害': 8404, '领跑': 8405, '我妈用': 8406, '衣衣': 8407, '仿佛': 8408, '价廉物美': 8409, '毕': 8410, '配速': 8411, '员赞': 8412, '地快': 8413, '发现异常': 8414, '佳品': 8415, '自持': 8416, '畜': 8417, '无害': 8418, '不争气': 8419, '点过': 8420, '买得起': 8421, '农村': 8422, '忍忍': 8423, '长见识了': 8424, '大人': 8425, '敬业': 8426, '拿手': 8427, '后颜值': 8428, '海南': 8429, '过冬': 8430, '建了': 8431, '海口': 8432, '暖色调': 8433, '姐姐': 8434, '上个月': 8435, '要个': 8436, '公交车': 8437, '中规': 8438, '中距': 8439, '很怡': 8440, '秀美': 8441, '都还没': 8442, '暗纹': 8443, '手印': 8444, '虽是': 8445, '区大能': 8446, '容纳': 8447, '五排': 8448, '最出色': 8449, '比屏': 8450, '高峰期': 8451, '闸': 8452, '机口': 8453, '找出': 8454, '充堪': 8455, '名列前茅': 8456, '62': 8457, 'hdr': 8458, '带有': 8459, '俱佳': 8460, '先行者': 8461, '铺面': 8462, '字来': 8463, '好找': 8464, '轻重': 8465, '某某': 8466, '法拉利': 8467, '来得快': 8468, '跑车': 8469, '基本一致': 8470, '定制': 8471, '加人': 8472, '总买': 8473, '看腻': 8474, '这点儿': 8475, '服役': 8476, '任性': 8477, '心痛': 8478, '5oo': 8479, '已过': 8480, '班上': 8481, '不戏': 8482, '单转天': 8483, '咖': 8484, '诺基亚': 8485, '1020': 8486, '珍藏': 8487, '继任者': 8488, '甩后': 8489, '代入': 8490, '心随': 8491, '机动': 8492, '会花': 8493, '所用': 8494, '不喜': 8495, '若有': 8496, '恶意': 8497, '攻击': 8498, '追责': 8499, '吃完饭': 8500, '广告语': 8501, '德芙': 8502, '巧克力': 8503, '玩玩': 8504, '欣赏': 8505, '不知不觉': 8506, '六点半': 8507, '嘀': 8508, '一声': 8509, '别开': 8510, '办公桌': 8511, '待人': 8512, '客气': 8513, '跟前': 8514, '原料': 8515, '多加': 8516, '中庸': 8517, '液晶屏': 8518, '功能键': 8519, '明星': 8520, '再购': 8521, '死角': 8522, '加急': 8523, '送件': 8524, '不破': 8525, '日新月异': 8526, '花钱': 8527, 'macos': 8528, '苹果电脑': 8529, '资源': 8530, '传递': 8531, '利于': 8532, '传图': 8533, '剪贴板': 8534, 'pc': 8535, 'lsquo': 8536, '硬核': 8537, '再备': 8538, '好几倍': 8539, '办公设备': 8540, 's5': 8541, '安装程序': 8542, '点订': 8543, 'mata': 8544, '碉堡': 8545, '会飞': 8546, '好多个': 8547, '钟情': 8548, '面屏': 8549, '版差': 8550, '材料': 8551, '之多': 8552, '足得': 8553, '需多': 8554, '全机': 8555, '多得': 8556, '岀': 8557, '译': 8558, '防频': 8559, '哪划': 8560, '数据信号': 8561, '高层次': 8562, '一切顺利': 8563, '车轮': 8564, '不刷': 8565, '托儿': 8566, '兔牙瓶': 8567, '出太多': 8568, '光泽度': 8569, '双屏': 8570, 'is': 8571, 'share': 8572, '内嵌式': 8573, '一切都在': 8574, '应': 8575, '省电加': 8576, '十几年': 8577, 'mete20': 8578, 'lte': 8579, '充特好': 8580, '打吊瓶': 8581, '窘境': 8582, '心田': 8583, '8807202019': 8584, '出其不意': 8585, '苏城': 8586, '一歌': 8587, '拥': 8588, '徘徊': 8589, '二者': 8590, '保护者': 8591, '人儿': 8592, '正规': 8593, '单会天': 8594, '管用': 8595, '一盒': 8596, '口感': 8597, '酥脆可口': 8598, '蔗糖': 8599, '粗粮': 8600, '肠胃': 8601, '减肥': 8602, '瘦身': 8603, '饱腹': 8604, '益于': 8605, '消化': 8606, '小包装': 8607, '稳稳': 8608, '必为': 8609, '重音': 8610, '定期': 8611, '比官': 8612, '网给力': 8613, '预警': 8614, '装到': 8615, '系统启动': 8616, 'honor': 8617, '8x': 8618, '简捷': 8619, '翻屏': 8620, '大卖': 8621, '得点': 8622, '疏忽': 8623, '电话号码': 8624, '留错': 8625, '收单': 8626, '胃口': 8627, '万三摄': 8628, '日间': 8629, '滑腻': 8630, '眨眼': 8631, '两夜': 8632, '我留': 8633, '任地': 8634, '没能': 8635, '非素': 8636, '好处': 8637, '更薄': 8638, '戴套': 8639, '边个': 8640, '多媒体': 8641, '绚丽多姿': 8642, '超鸡长': 8643, '背膜': 8644, '潜质': 8645, '两日': 8646, '即刻': 8647, '思量': 8648, '几位': 8649, '翘起': 8650, '3x': 8651, '继航': 8652, '一充点': 8653, '准': 8654, '中音': 8655, '甜': 8656, '后顾之忧': 8657, '无可比拟': 8658, '超块': 8659, '观点': 8660, '明显提高': 8661, '不糊': 8662, '今年过年': 8663, '车票': 8664, '晚些': 8665, '识别性': 8666, '浓浓的': 8667, '德味': 8668, '不容置疑': 8669, '状况': 8670, '洗头': 8671, '完勒': 8672, '后会': 8673, '覆盖范围': 8674, '市区': 8675, '集中': 8676, '会多': 8677, '大放异彩': 8678, '胜过': 8679, '被迫': 8680, '略逊': 8681, '兼容性问题': 8682, '基于': 8683, '常年': 8684, '下哈': 8685, '比爱': 8686, '疯差': 8687, '原画': 8688, '很重': 8689, '大而有': 8690, '一半儿': 8691, '实验': 8692, '心理作用': 8693, '造福': 8694, '4g5g': 8695, '卡均': 8696, '内含': 8697, '醒目': 8698, '考究': 8699, '电嘛': 8700, '微突': 8701, '鲜明': 8702, '比率': 8703, '除后': 8704, '突兀': 8705, '快过': 8706, '充仅': 8707, '57': 8708, '片上': 8709, 'a90': 8710, 'super': 8711, '瞎眼': 8712, '玄学': 8713, '大陆': 8714, '新冠': 8715, '志愿者': 8716, '值班': 8717, '登记': 8718, '低部': 8719, '上划': 8720, '出不来': 8721, '堆': 8722, 'g76': 8723, 'mate80': 8724, '亮面': 8725, '比较突出': 8726, '男款': 8727, '不经脏': 8728, '买块': 8729, '收藏': 8730, '微核': 8731, '非常低': 8732, '杠好': 8733, '焕然一新': 8734, '机用': 8735, '男盆友': 8736, '超感主': 8737, '陨石坑': 8738, '形': 8739, '迁入': 8740, '触摸屏': 8741, '传输速度': 8742, '40m': 8743, '之旅': 8744, '进灰': 8745, '耗得': 8746, '送膜': 8747, '地好': 8748, '7i': 8749, '照到': 8750, '散光': 8751, '卡真香': 8752, '感悟': 8753, '表象': 8754, '颜': 8755, '数百条': 8756, '机能': 8757, '没电后': 8758, '辛苦工作': 8759, '数据恢复': 8760, '玩电脑': 8761, '层次分明': 8762, '适应期': 8763, '亮光': 8764, '丽': 8765, '争议': 8766, '走来': 8767, '弄完': 8768, '满足需要': 8769, '一换': 8770, '抽个': 8771, '任带': 8772, '没测': 8773, 'p30pr': 8774, '阻碍': 8775, '点赞点': 8776, '极窄': 8777, '近视眼': 8778, '太近': 8779, 'big': 8780, '感更强': 8781, '提前准备': 8782, '特棒': 8783, '匠心独具': 8784, '充就': 8785, '圆圈': 8786, '拍远': 8787, '三十岁': 8788, '沉着': 8789, '省力': 8790, '穷人': 8791, '胶壳': 8792, '换安卓比': 8793, '水印': 8794, '男式': 8795, '外边': 8796, '隔代': 8797, '笔记': 8798, '联动': 8799, '机慢': 8800, '半一充': 8801, '不堵车': 8802, '胞': 8803, '女同胞': 8804, '酷毙了': 8805, '会受': 8806, '欣喜若狂': 8807, '蠢大': 8808, '洗漱': 8809, '习惯于': 8810, '纯看': 8811, '素闻': 8812, '润色': 8813, '该关': 8814, '满屏': 8815, '快得': 8816, '较强': 8817, '断流': 8818, '炮': 8819, '没用到': 8820, '太合': 8821, '心意': 8822, '很香': 8823, '表率': 8824, '玩一': 8825, '偏大哟': 8826, 'forall': 8827, '会儿': 8828, 'nas': 8829, '性能超群': 8830, '比较复杂': 8831, 'nate9': 8832, '而动': 8833, '景超': 8834, '以旧换新': 8835, '部用': 8836, '时用': 8837, '暗黑': 8838, '没订': 8839, '守': 8840, '风采': 8841, '通畅': 8842, '不敢相信': 8843, '特征': 8844, '可看': 8845, '每位': 8846, '列车': 8847, '货款': 8848, '先上': 8849, '七要': 8850, '智造': 8851, '上倍': 8852, '刷屏': 8853, '算上': 8854, '四台': 8855, '这挺': 8856, '偏僻': 8857, '言语': 8858, '耗': 8859, '一两': 8860, '资费': 8861, 'ne': 8862, '为国争光': 8863, '气买': 8864, '想当': 8865, '幺': 8866, '蛾子': 8867, '传好': 8868, '导航系统': 8869, '观测': 8870, '小兔': 8871, '牙': 8872, '发来': 8873, '范儿': 8874, '通话录音': 8875, '特朗普': 8876, '飞常好': 8877, '飞常快': 8878, '天籁': 8879, '之音': 8880, '趁双': 8881, '图一': 8882, '流线': 8883, '心潮澎湃': 8884, '唬人': 8885, '干预': 8886, '老头': 8887, '全场': 8888, '犇犇': 8889, '犇': 8890, '三镜': 8891, '晚一点': 8892, '提新': 8893, '线充': 8894, '够面': 8895, '很感兴趣': 8896, '释手': 8897, '重复': 8898, '高清晰度': 8899, '开卖': 8900, '崭新': 8901, '完整无损': 8902, '变迁': 8903, '若干次': 8904, '纸用': 8905, '弃': 8906, '老铁们': 8907, '住院': 8908, '感脚': 8909, '简装': 8910, '当作': 8911, '手比': 8912, '博士': 8913, '会议': 8914, '三台': 8915, '三八节': 8916, '造': 8917, '名族': 8918, '黑天': 8919, '刻先': 8920, '心得': 8921, '交流': 8922, '记错': 8923, '强不强': 8924, '上万': 8925, '家居用品': 8926, '常购': 8927, '清单': 8928, '双卡四摄': 8929, '技术水平': 8930, '9pro': 8931, '单模': 8932, '输入输出': 8933, '乃': 8934, '没令': 8935, '担忧': 8936, '49': 8937, '国军': 8938, '味道': 8939, '更多更好': 8940, '工者': 8941, '致谢': 8942, '县城': 8943, '用场': 8944, '大能': 8945, '注视': 8946, '钛合金': 8947, '此图': 8948, 'sososo': 8949, '相好': 8950, '开好': 8951, '支持力': 8952, '翡翠绿': 8953, '五名': 8954, '炉石': 8955, '等一等': 8956, '片刻': 8957, '较久': 8958, '比中端': 8959, '流畅地': 8960, '拆箱': 8961, '使用寿命': 8962, '俊美': 8963, '昨天中午': 8964, '兼程': 8965, '追平': 8966, '几百名': 8967, '得个': 8968, '宽带': 8969, '能放': 8970, '父亲': 8971, '天壤之别': 8972, '一首歌': 8973, '前换个': 8974, '专人': 8975, '旗下': 8976, '赞美': 8977, '说不完': 8978, '73': 8979, '死不承认': 8980, '修身': 8981, '剑圣': 8982, '脑袋': 8983, '一大半': 8984, '得益于': 8985, '单从': 8986, '没卡': 8987, '六号': 8988, '婆': 8989, '轴对称': 8990, '传承': 8991, '车灯': 8992, '主角': 8993, '光环': 8994, 'ta': 8995, '建议您': 8996, '时请': 8997, '参数设置': 8998, '防疫': 8999, '不巧': 9000, '失联': 9001, '酷黑': 9002, '更新快': 9003, '责无旁贷': 9004, '操作性': 9005, '恨不得': 9006, '时机': 9007, '点钟': 9008, '某基': 9009, '交道': 9010, '热情周到': 9011, '单薄': 9012, '才费': 9013, 'r11s': 9014, '华硕': 9015, 'ac5300': 9016, '卫生间': 9017, '关上门': 9018, '急速': 9019, '点取': 9020, '丝滑丝': 9021, '声音洪亮': 9022, '配有': 9023, '全家福': 9024, 'air3': 9025, 'iwatch': 9026, '全有': 9027, '但用': 9028, '充太牛': 9029, '没买过': 9030, '佛山': 9031, 'p10p': 9032, '自我陶醉': 9033, '商品质量': 9034, '纯正': 9035, '常快': 9036, '长充': 9037, '回礼': 9038, '言辞': 9039, '投入使用': 9040, '莫得': 9041, '强求': 9042, '难不成': 9043, '不必要': 9044, '自启动': 9045, '四叶草': 9046, '一趟': 9047, '直屏': 9048, 'ic': 9049, '复制器': 9050, '交通卡': 9051, '当下': 9052, '幕有': 9053, '附': 9054, '丢掉': 9055, '洋货': 9056, '七八十米': 9057, '一开': 9058, '到户': 9059, '无功': 9060, '无过': 9061, '就象': 9062, '处观': 9063, '抯': 9064, '刚去': 9065, '妙解': 9066, '体积': 9067, '看剧': 9068, '显像': 9069, '跟手': 9070, '重量轻': 9071, '优越': 9072, '心系': 9073, '大有作为': 9074, '赞成': 9075, '仍旧': 9076, '性能优越': 9077, '纸上': 9078, '得来': 9079, '终觉': 9080, '绝知': 9081, '此事': 9082, '躬行': 9083, '新世界': 9084, '大门': 9085, '说得过去': 9086, '期着': 9087, '三代': 9088, '他用': 9089, '难忘': 9090, '春节假期': 9091, 'nova3i': 9092, '本心': 9093, '第二日': 9094, '战胜': 9095, '新型': 9096, '冠状': 9097, '肺炎': 9098, '春天': 9099, '美不虚传': 9100, '永不': 9101, '哇塞': 9102, '血本': 9103, '超炫酷': 9104, '高档次': 9105, '挺值': 9106, '实乃': 9107, '兔牙': 9108, '容易接受': 9109, '盖儿': 9110, '善于': 9111, '测过': 9112, '本土化': 9113, '片面': 9114, '再就是': 9115, '感染力': 9116, '牛气': 9117, '不深': 9118, 's7edge': 9119, '累得': 9120, '慢得': 9121, '姿势': 9122, '灵魂': 9123, '歌儿': 9124, '滑图点': 9125, '刮': 9126, '幸苦': 9127, '受损': 9128, '秒级': 9129, '甚得': 9130, '不菲': 9131, '在乎': 9132, '带电': 9133, '好几家': 9134, '选出': 9135, '法国': 9136, '合盖': 9137, '多一些': 9138, '硕': 9139, '号订': 9140, '利用率': 9141, '这样的话': 9142, '能省': 9143, '预料': 9144, '吓': 9145, '橘黄': 9146, '感极强': 9147, '一加六强': 9148, '种类': 9149, '有木有': 9150, '套会': 9151, '9908': 9152, '吃个': 9153, '不看': 9154, '下雪': 9155, '延误': 9156, '昂': 9157, '暖': 9158, '好平': 9159, '映像': 9160, '相数': 9161, '强机': 9162, '不伦是': 9163, '整一个': 9164, '碰旧': 9165, '八车': 9166, '偶或': 9167, '舍长': 9168, '更上一层楼': 9169, '不太玩': 9170, '接上': 9171, '犹豫不定': 9172, '自有': 9173, '爽耳': 9174, '亲切感': 9175, '买后': 9176, '清醒': 9177, '抗住': 9178, '变快': 9179, 'xplay6': 9180, '合焦': 9181, '高质量': 9182, '拖泥带水': 9183, '耶快': 9184, '外快': 9185, '很合手': 9186, '网络覆盖': 9187, '产': 9188, '用途': 9189, '四倍': 9190, '情结': 9191, '无光': 9192, '挺酷': 9193, '备忘录': 9194, '导出': 9195, '云里': 9196, '属': 9197, '没闹': 9198, '提下': 9199, '屏小': 9200, '电随': 9201, '改为': 9202, '耐斯': 9203, '及强': 9204, 'beautiful': 9205, '视': 9206, '如命': 9207, '然': 9208, '汗毛': 9209, '看得清': 9210, '不狠': 9211, '还清': 9212, '厂区': 9213, '来座': 9214, '沙发': 9215, '爱爱爱': 9216, '大老爷们': 9217, '越来': 9218, '大局观': 9219, '钦佩': 9220, '百花齐放': 9221, '建立': 9222, '核心技术': 9223, '狠下心来': 9224, '高处': 9225, '妨碍': 9226, '摔倒': 9227, '保守': 9228, '非专业': 9229, '人士': 9230, '佩戴': 9231, '用亮': 9232, '送些': 9233, '投个': 9234, '喜庆': 9235, 'vlog': 9236, '没永强': 9237, '很全': 9238, '比曲屏': 9239, '居家': 9240, '隔离': 9241, '拍部': 9242, '瀏海屏': 9243, '略有': 9244, '影響': 9245, '化為': 9246, '靈活': 9247, '待機': 9248, '時耗電': 9249, '還是': 9250, '還會': 9251, '美极了': 9252, '入门级': 9253, '背盖': 9254, '阵列': 9255, '唯爱': 9256, '我华': 9257, '内存不足': 9258, '锐不可当': 9259, '手电': 9260, '百闻不如一见': 9261, '第三款': 9262, '老粉': 9263, '能待': 9264, '四到': 9265, '自提': 9266, '美学': 9267, '货以': 9268, '台灯': 9269, '再出': 9270, '拆盒': 9271, '苟': 9272, '特长': 9273, '特多': 9274, '当成': 9275, '讲解': 9276, '中厚': 9277, '爽翻': 9278, '一加六快': 9279, '依靠': 9280, '加用': 9281, '脑力': 9282, '东莞': 9283, '湖南': 9284, '重庆市': 9285, '驿站': 9286, '论秒': 9287, '超本': 9288, '效率高': 9289, '沉闷': 9290, '蛮有意思': 9291, '第七': 9292, '感均': 9293, '上升': 9294, '专业名词': 9295, '文化': 9296, '花草': 9297, '出行': 9298, '安全感': 9299, '低电量': 9300, '时后': 9301, '新旗舰': 9302, '990o': 9303, 'emumi10': 9304, '太炫酷': 9305, '因无': 9306, '严丝合缝': 9307, '截取': 9308, '侧方': 9309, '电梯': 9310, '用四指': 9311, '延展': 9312, '单一': 9313, '有所作为': 9314, '前所未见': 9315, '泄漏': 9316, '很坏': 9317, '回不去': 9318, '多窗口': 9319, '中等偏上': 9320, 'wwifi': 9321, '能出': 9322, '屏给': 9323, '仿': 9324, '脏手': 9325, '众享': 9326, '第三次': 9327, '售价': 9328, '版贵': 9329, '不负众望': 9330, '百发百中': 9331, '仙儿': 9332, '越看': 9333, '越帅': 9334, '超凡': 9335, '万色': 9336, '同类': 9337, '纹路': 9338, '多钟': 9339, '总的来看': 9340, '屏来': 9341, '干掉': 9342, '一整块': 9343, '色温': 9344, '上眼': 9345, '一瞧': 9346, '杜绝': 9347, '偏蓝': 9348, '偏红': 9349, '细看': 9350, '圆之夜': 9351, '一盘': 9352, '局掉': 9353, '内能': 9354, '现如今': 9355, '杂七杂八': 9356, '树大招风': 9357, '褒贬不一': 9358, '博主': 9359, '这两点': 9360, '迷恋': 9361, '奋战': 9362, '退伍': 9363, '影棚': 9364, '充对': 9365, '植入': 9366, '结决': 9367, '赠些': 9368, '后盖防': 9369, '大一': 9370, '整圈': 9371, '58': 9372, '距离远': 9373, '上心': 9374, '货等': 9375, '只怪': 9376, '动摇': 9377, '已选好': 9378, '选对': 9379, '取现': 9380, '起家': 9381, '竞争对手': 9382, '企及': 9383, '心双': 9384, '环保': 9385, '超广解': 9386, '不能自拔': 9387, 'pad': 9388, '碰传': 9389, '二合一': 9390, '出大': 9391, '比做': 9392, '布屏': 9393, '好几回': 9394, '银灰色': 9395, '黄人': 9396, '小龙虾': 9397, '鸡脚': 9398, '脚时': 9399, '投': 9400, '打好': 9401, '狠好': 9402, '热情服务': 9403, '次膜': 9404, '贴过': 9405, '弄坏了': 9406, '一掌': 9407, '看得远': 9408, '键及': 9409, '简化': 9410, '脖子': 9411, '电池电量': 9412, '安个': 9413, '会得用': 9414, '屏超赞': 9415, '呵护': 9416, '精彩绝伦': 9417, '唾手可得': 9418, '简': 9419, '速率': 9420, '一骑': 9421, '绝尘': 9422, '虚电': 9423, '高效率': 9424, '让你在': 9425, '覆盖面': 9426, '披坚执锐': 9427, '砖': 9428, '备着': 9429, '真爱粉': 9430, '心痒': 9431, '0k': 9432, '就关': 9433, '现代科技': 9434, '留给': 9435, '前线': 9436, '生怕': 9437, '逃走': 9438, '省掉': 9439, '先要': 9440, '表个': 9441, '粉转此': 9442, '划分': 9443, '8g512': 9444, '细节性': 9445, 'v2': 9446, '耳膜': 9447, '核': 9448, '缓': 9449, '清稀': 9450, '可握': 9451, '调大后': 9452, '消除': 9453, '忧虑': 9454, '最大值': 9455, '守点': 9456, '美好生活': 9457, '生猛': 9458, '爱比': 9459, '和谐': 9460, '依赖': 9461, '消灭': 9462, '钱花': 9463, '运算': 9464, '我爱炸': 9465, '非常简单': 9466, '易学': 9467, '剌': 9468, '后边': 9469, '得瑟': 9470, '狠一': 9471, '狠心': 9472, '老气': 9473, '平': 9474, '园中': 9475, '有方': 9476, '方中': 9477, '999': 9478, '耗损': 9479, '深景': 9480, '误解': 9481, '科技型': 9482, '魔幻': 9483, '短暂': 9484, '艺术': 9485, '猫咪': 9486, '特写': 9487, '不卡滞': 9488, '深夜': 9489, '喝': 9490, '喝茶': 9491, '百分之七八十': 9492, '6plus': 9493, 'se': 9494, '重用': 9495, '慢摄': 9496, '题材': 9497, '显大': 9498, '两三': 9499, '淡淡': 9500, '就会教': 9501, '没充': 9502, '分成': 9503, '两步': 9504, '擅长': 9505, '锁定': 9506, '横屏': 9507, '我开': 9508, '截出': 9509, '对发': 9510, 'larr': 9511, '动静': 9512, '装壳': 9513, '很显': 9514, '滚动': 9515, '盈盈': 9516, '凸显': 9517, '挥挥手': 9518, '切实': 9519, '下周': 9520, '之喜': 9521, '海报': 9522, '旧款': 9523, '具体内容': 9524, '夜摄': 9525, '一决': 9526, '苹': 9527, '轻轻松松': 9528, '念念不忘': 9529, '天翻地覆': 9530, '照度': 9531, '素高': 9532, '多够': 9533, '四种': 9534, '外媒': 9535, 'pocket': 9536, 'lint': 9537, '全系': 9538, '蔓延到': 9539, '取得': 9540, '26mm': 9541, '18mm': 9542, '80mm': 9543, '省得': 9544, '要充': 9545, '电好': 9546, '搞错': 9547, '顶尖级': 9548, '121': 9549, '解析': 9550, '强于': 9551, '855puls': 9552, '一大步': 9553, '很个力': 9554, '侧栏': 9555, '轴线': 9556, '直射': 9557, '旁听': 9558, 'mobile3': 9559, '卡后': 9560, '盖开': 9561, '一贴': 9562, '认知': 9563, '可御': 9564, '可萌': 9565, '出没': 9566, '建': 9567, '往上': 9568, '买好': 9569, '爆音': 9570, '无此': 9571, '我先': 9572, '音频视频': 9573, '刚一': 9574, '格电': 9575, '加紧': 9576, '跑跑': 9577, '仿皮': 9578, '柔畅': 9579, '留存': 9580, '足已': 9581, '现款': 9582, '碍眼': 9583, '多电': 9584, '双眼': 9585, '够响': 9586, '体脂': 9587, '称': 9588, '棱角分明': 9589, '行列': 9590, '奋勇': 9591, '直追': 9592, '不累': 9593, '不规则': 9594, '尤为': 9595, '真假': 9596, '抛砖引玉': 9597, '4500ma': 9598, '多一冲': 9599, '喝水': 9600, '神秘': 9601, '诱惑力': 9602, '音乐欣赏': 9603, '来华': 9604, '穿透性': 9605, '睡': 9606, '壮年': 9607, '清脆悦耳': 9608, 'my': 9609, 'god': 9610, '冬日': 9611, '协作': 9612, '脱离': 9613, '装下': 9614, '弄坏': 9615, '浮': 9616, '声腔': 9617, '涂抹': 9618, '帅靓': 9619, '此机': 9620, '很假': 9621, '真不输': 9622, '油画': 9623, '近十年': 9624, '非超': 9625, '睡觉时': 9626, '挺下': 9627, '结构': 9628, '十点钟': 9629, '八点钟': 9630, '要令': 9631, '特性': 9632, '可开': 9633, '硕大': 9634, '殿堂': 9635, '机十来': 9636, '端的': 9637, '银上': 9638, '香香的': 9639, '虽有': 9640, '全身上下': 9641, '点睛之笔': 9642, '手托': 9643, '得分': 9644, '粗人': 9645, '晒图': 9646, '防抖动': 9647, '形态': 9648, '用感': 9649, '夏普': 9650, '大而': 9651, '非得': 9652, '胜收': 9653, '柔光': 9654, '楼栋': 9655, '顺溜': 9656, '统计': 9657, '度贼': 9658, '贼帅': 9659, '6666': 9660, '炒': 9661, '唯美': 9662, '赏心悦目': 9663, '视察': 9664, '玩上': 9665, '75': 9666, '拿稳': 9667, '高些': 9668, '比来比去': 9669, '网友': 9670, '盯': 9671, '银巨': 9672, '孤形': 9673, '屏控': 9674, '太攒劲': 9675, '忘掉': 9676, '好强': 9677, '少有': 9678, '直冲': 9679, '冲完': 9680, '充退': 9681, '多此一举': 9682, '尊贵': 9683, '歼': 9684, 'vivoxplay6': 9685, '光面': 9686, '底层': 9687, '鸡超': 9688, '三部': 9689, '苦于': 9690, '返京': 9691, '好多好多': 9692, '万相素': 9693, '称心如意': 9694, '万长': 9695, '黛素': 9696, '手摸': 9697, '局限': 9698, '员帮': 9699, '十八': 9700, 'p40pro': 9701, '目测': 9702, '室内': 9703, '调到': 9704, 'ui10': 9705, '感收': 9706, '留意到': 9707, '空控制': 9708, '中国崛起': 9709, '上加': 9710, '联保': 9711, '不滑手': 9712, '一席之地': 9713, '人们': 9714, '一冷': 9715, '剩有': 9716, '投送': 9717, '放心使用': 9718, '展翅高飞': 9719, '行哈': 9720, '你行': 9721, '巴适': 9722, '做强': 9723, '争光': 9724, '如能': 9725, '蕊': 9726, '大堆': 9727, '行无': 9728, '充太': 9729, '争论': 9730, '一伙': 9731, '吵': 9732, 'matepad': 9733, '吹下': 9734, '菜耀': 9735, '下过': 9736, '会慢': 9737, '法': 9738, '谷哥': 9739, '跨度': 9740, '近一': 9741, '仙': 9742, '不亮': 9743, '补够': 9744, '喔': 9745, '工艺品': 9746, '恐怕': 9747, '花草树木': 9748, '摆着': 9749, '很菜': 9750, '小老婆': 9751, '别误会': 9752, '大老婆': 9753, '卡升': 9754, '厦门': 9755, '小试牛刀': 9756, '二部': 9757, '总归': 9758, 'dx0': 9759, '颜色立体': 9760, '更深': 9761, '味十足': 9762, '亮晶晶': 9763, '字迹': 9764, '多花点': 9765, 'hold': 9766, '分不开': 9767, '键用': 9768, '64': 9769, '缩小': 9770, '多项': 9771, '高超': 9772, '独居': 9773, '追随': 9774, '9pr': 9775, '忘带': 9776, '正确率': 9777, '银太仙': 9778, '昨天早上': 9779, '交换': 9780, '贬低': 9781, '16p': 9782, 'flyme': 9783, '浅紫色': 9784, '聊聊天': 9785, '手足无措': 9786, '夜星': 9787, '环': 9788, '动作': 9789, '四指': 9790, '器材': 9791, '拓宽': 9792, 'mah': 9793, '两百多': 9794, '慢放': 9795, '自行车': 9796, '加吃鸡': 9797, '安卓快': 9798, '略重': 9799, '屏吸睛': 9800, '盼望': 9801, '颜了': 9802, '卡包': 9803, '再带': 9804, '浑然一体': 9805, 'm30p': 9806, '屠榜': 9807, '成片': 9808, '管一到': 9809, '半截': 9810, '电都用': 9811, '安卓不去': 9812, '那点': 9813, '面比': 9814, 'm30pro': 9815, '冰箱': 9816, '套壳': 9817, '银是': 9818, '省下': 9819, '品味': 9820, '上街': 9821, '时刻': 9822, '照样': 9823, '中下': 9824, '会后': 9825, '突破性': 9826, '35m': 9827, '脱粉': 9828, '训练场': 9829, '调成': 9830, '键右': 9831, '上调': 9832, '蹲下': 9833, '钢': 9834, '好几条': 9835, '恋爱': 9836, '于单': 9837, '优良传统': 9838, '照亮': 9839, '要帅': 9840, '大海': 9841, '远洋': 9842, '断线': 9843, '杂质': 9844, '能玩个': 9845, '超省': 9846, '入坑': 9847, '太多太多': 9848, '全用': 9849, '不留': 9850, '四色': 9851, '几首': 9852, '景深': 9853, '敲动': 9854, '减小': 9855, '感亲': 9856, '亲手': 9857, '一抓': 9858, '手隔空': 9859, '五体投地': 9860, '衷心': 9861, 'oj': 9862, '营造': 9863, '光彩熠熠': 9864, '盲选': 9865, '闷': 9866, '原有': 9867, '太空时代': 9868, '哆嗦': 9869, '光下': 9870, '边际': 9871, '贵妇': 9872, '单选': 9873, '怨言': 9874, '双网': 9875, '组': 9876, '无限性': 9877, '香气': 9878, '上导': 9879, '当个': 9880, '便携': 9881, '传播': 9882, '彩': 9883, '华美': 9884, '各款': 9885, '爱马仕': 9886, 'lv': 9887, '德国': 9888, '如常': 9889, '缺憾': 9890, '健': 9891, '慢拍': 9892, '下一充': 9893, '通通': 9894, '初体验': 9895, '能干': 9896, '阵': 9897, '持机': 9898, '未测': 9899, '你好': 9900, '自豪': 9901, '安卓之王': 9902, '手握着': 9903, '五鸡快': 9904, '没钱': 9905, '好素': 9906, '平日': 9907, '间歇': 9908, '抽': 9909, '可太快': 9910, '不同凡响': 9911, 'xsm': 9912, '没掉': 9913, '过线': 9914, '实再': 9915, '那还用说': 9916, '拍大': 9917, '不管怎么': 9918, '必需': 9919, '试听': 9920, '坚韧': 9921, '不屈': 9922, '老多': 9923, '帅到': 9924, '还装': 9925, '只接': 9926, '玩微信': 9927, '贴防': 9928, '覆盖率': 9929, '拍图': 9930, '天差地别': 9931, '没气': 9932, '手是': 9933, '墨绿色': 9934, '嗳': 9935, '踊跃': 9936, '没放卡': 9937, 'mater10pro': 9938, '终没': 9939, '纤薄易握': 9940, '爆光': 9941, '下部': 9942, '违和感': 9943, '实时': 9944, '周游列国': 9945, '日益': 9946, '印记': 9947, '传到': 9948, '1hr': 9949, '逐一': 9950, '没办': 9951, '大爱大': 9952, '爱大爱': 9953, '柔美': 9954, '温和': 9955, '暂且': 9956, '贵气': 9957, 'cool': 9958, '快哈': 9959, '期待值': 9960, '六倍': 9961, '击': 9962, '究极': 9963, '补足': 9964, '度极': 9965, '别忘了': 9966, '评估': 9967, '光彩': 9968, '老总': 9969, '很不差': 9970, '银带': 9971, '奥四摄': 9972, '投入': 9973, '人力': 9974, '金钱': 9975, 'ordm': 9976, '刚下': 9977, 'mate20p': 9978, '悬殊': 9979, '新气象': 9980, '只上': 9981, '加进去': 9982, '慢放比': 9983, '比快': 9984, '零时': 9985, '超正': 9986, '大愛': 9987, '讚': 9988, '好怕': 9989, '粗魯': 9990, '戳': 9991, '靜候': 9992, '機膜': 9993, '好容易': 9994, '解鎖': 9995, '翻頁': 9996, '打開': 9997, '還沒': 9998, '仔細': 9999, '體驗': 10000, '隨手': 10001, '原來': 10002, '怎麼': 10003, '我後續': 10004, '比格': 10005, '宣传册': 10006, '爆镜门': 10007, '橙后': 10008, '次用': 10009, '运动版': 10010, '抓蛮': 10011, '浴霸灯': 10012, '口槽': 10013, '版爽': 10014, '上线': 10015, '老干部': 10016, '转而': 10017, '散发': 10018, '厅': 10019, '银点': 10020, '柔性': 10021, '4s': 10022, '盖世': 10023, '中安卓': 10024, '家庭': 10025, '国产化': 10026, '不顿': 10027, '相似': 10028, '不像话': 10029, '驾驭': 10030, '代金券': 10031, '666666': 10032, '观赏': 10033, '厂品': 10034, '促使': 10035, '囯': 10036, '一员': 10037, 'ー': 10038, '失去': 10039, '微拍': 10040, '冲浪': 10041, '作到': 10042, '盼望已久': 10043, '今儿': 10044, '控制器': 10045, '航母': 10046, '俏皮': 10047, '十比': 10048, '多多少少': 10049, '十全十美': 10050, '奶思': 10051, '无大': 10052, '新鲜度': 10053, '没过': 10054, '柔柔的': 10055, '音律': 10056, '陶醉': 10057, '航': 10058, '典型': 10059, 'mate30rs': 10060, '爽爽': 10061, '美利坚': 10062, '打压': 10063, '华为公司': 10064, '睿智': 10065, '黛未': 10066, '双面': 10067, '艳丽夺目': 10068, '传神': 10069, '一大截': 10070, '敏感性': 10071, '细细': 10072, '绝佳': 10073, '次于': 10074, '原滑': 10075, '滑到': 10076, '手软': 10077, '想卡': 10078, '买素': 10079, '货才': 10080, '一脸': 10081, '懵': 10082, '马不停蹄': 10083, '看比': 10084, '公交': 10085, '刚中': 10086, '带柔': 10087, '屏一': 10088, '10plus': 10089, '方方正正': 10090, '脱缰': 10091, '野马': 10092, '一发': 10093, '不可收拾': 10094, 'id': 10095, '下拉才行': 10096, '诸如此类': 10097, 'eiui': 10098, '我带': 10099, '用够': 10100, '上谷': 10101, '梯子': 10102, 'ip': 10103, '端口': 10104, '打败': 10105, '果不其然': 10106, '比好': 10107, '夜色': 10108, '双眼皮': 10109, '天然': 10110, '十几个': 10111, '不慢': 10112, '离手': 10113, '五十多': 10114, '某国': 10115, '拯救': 10116, '女友': 10117, '成员': 10118, '艳': 10119, '超群': 10120, '电源开关': 10121, '开头': 10122, '彻头彻尾': 10123, '带成': 10124, '粉儿': 10125, '婚礼': 10126, '丝滑般': 10127, '字爽': 10128, '八分': 10129, '第一把': 10130, '敏感度': 10131, '楼往': 10132, '五六': 10133, '差办': 10134, '尽早': 10135, '科技进步': 10136, '软硬件': 10137, '渐渐': 10138, '可谓': 10139, '有问必答': 10140, '精挑细选': 10141, '4500ah': 10142, 'n年': 10143, '高富': 10144, '我超': 10145, '怎能': 10146, '我下': 10147, '振奋': 10148, '云灵眸': 10149, '尺度': 10150, '河': 10151, '双人': 10152, '所向无敌': 10153, '代快': 10154, '捕捉到': 10155, '六七个': 10156, '闺密': 10157, '闺蜜': 10158, '货值': 10159, '我顶': 10160, '更显': 10161, '档气': 10162, '精': 10163, '膀子': 10164, '钟付': 10165, 'nova3e': 10166, '女神': 10167, '略贵': 10168, '咬咬牙': 10169, '腰包': 10170, '羞涩': 10171, '炉火纯青': 10172, '买齐': 10173, '忍到': 10174, '这天': 10175, '下订': 10176, '超底速': 10177, '亚子': 10178, '混响': 10179, '多万': 10180, '荣玩': 10181, '金属外壳': 10182, '脱销': 10183, '瘦瘦的': 10184, '不太多': 10185, '泛': 10186, '环面': 10187, '一档': 10188, '偏紫': 10189, '开全': 10190, '四十五': 10191, '感染': 10192, '精准度': 10193, '亮起': 10194, '视觉享受': 10195, '棘手': 10196, '单元': 10197, 'isp': 10198, '图形': 10199, '双脑': 10200, '神经元': 10201, '毋容': 10202, '置疑': 10203, '地表': 10204, '不见得': 10205, '基佬': 10206, '无悔': 10207, '用余承东': 10208, '显示信息': 10209, '无条件': 10210, '任何理由': 10211, '叫帅': 10212, '趁手': 10213, '性别': 10214, '男女皆可': 10215, '掌控': 10216, 'iphon': 10217, '不适': 10218, '色相': 10219, '一味': 10220, '素雅': 10221, '必备': 10222, '新颖别致': 10223, '堪称一绝': 10224, '破冰': 10225, '应接不暇': 10226, '家庭影院': 10227, '烟火': 10228, '占据': 10229, '尽': 10230, '比心': 10231, '瀑屏': 10232, '巨好': 10233, '使用量': 10234, '下结论': 10235, '三千多名': 10236, '求前': 10237, '用安卓用': 10238, '大有人在': 10239, '公说公有理': 10240, '婆说婆有理': 10241, '互有': 10242, '不断进步': 10243, '藏': 10244, '元素': 10245, '排法': 10246, '风向标': 10247, '标高': 10248, '通骁龙': 10249, '不断进取': 10250, '持续性': 10251, '已上': 10252, '屏凹': 10253, '一百岁': 10254, '乐趣': 10255, '凑数': 10256, '国机': 10257, '彻底解决': 10258, '无接': 10259, '闪电': 10260, '启用': 10261, '感超棒': 10262, '太原': 10263, '还太少': 10264, '天无触': 10265, '年换': 10266, '几百种': 10267, '流行': 10268, '高款': 10269, '高配': 10270, 'mate30p5g': 10271, 'k20': 10272, '遮羞布': 10273, 'mix4': 10274, '拉卡': 10275, '旗帜': 10276, '流弊': 10277, '晒晒': 10278, '单据': 10279, '说前': 10280, '唠下': 10281, '嗑': 10282, '步伐': 10283, '录手': 10284, '继续下去': 10285, '语无伦次': 10286, '美帝国主义': 10287, '再创': 10288, '辉煌': 10289, '屹立': 10290, '伟大': 10291, '复兴': 10292, '那台': 10293, '发言权': 10294, '物流业': 10295, '不感兴趣': 10296, '理论': 10297, '下线': 10298, '略长': 10299, '略略': 10300, '嘞': 10301, '划起来': 10302, '超顺': 10303, '真五': 10304, '十月份': 10305, '路径': 10306, '取回来': 10307, '不敢苟同': 10308, '成分': 10309, '这买': 10310, '美丽大方': 10311, '贴别': 10312, '相反': 10313, '人机对话': 10314, '百字': 10315, '道': 10316, '再赞': 10317, '荧光': 10318, '独具一格': 10319, '虚荣心': 10320, 'a199': 10321, '没听说过': 10322, '后劲不足': 10323, '裹足不前': 10324, '奇迹': 10325, '看在眼里': 10326, 'cc9pro': 10327, '各有特色': 10328, '双音': 10329, '腔': 10330, '宁': 10331, '官': 10332, '第四天': 10333, '来晚': 10334, '附图': 10335, '本店': 10336, 'p10pro': 10337, '抓照': 10338, '趋势': 10339, '实情': 10340, '46': 10341, '端庄': 10342, '试手': 10343, '饼': 10344, '晚买享': 10345, '品牌机': 10346, '多存些': 10347, '有面': 10348, '好玩儿': 10349, '行贼': 10350, '有余': 10351, '到哪去': 10352, 'emmmm': 10353, '深邃': 10354, '焦四摄': 10355, '中均': 10356, '抗水': 10357, '这一': 10358, '一切都是': 10359, '退居二线': 10360, '浓郁': 10361, '太耐斯': 10362, '屏息': 10363, '暖心': 10364, '熄灭': 10365, '时看': 10366, '闪光': 10367, '黛不上': 10368, '短点': 10369, '窄点': 10370, 'mate30por': 10371, '外现': 10372, '如隔空': 10373, '识屏': 10374, '单身': 10375, '嚷': 10376, 'pay': 10377, 'wifi6': 10378, '协议': 10379, '落完': 10380, '流水': 10381, '蔓延': 10382, '焕发': 10383, '中超': 10384, '更酷': 10385, '自驾': 10386, '练练手': 10387, '太骚': 10388, '整块': 10389, '键刚': 10390, '人机交互': 10391, '隔空操': 10392, '好机': 10393, '透漏': 10394, '电视剧': 10395, '铺': 10396, '重力': 10397, '坐标': 10398, '济南': 10399, '移速': 10400, '创作': 10401, '满天飞': 10402, '程序员': 10403, '爽死': 10404, '实': 10405, '广告片': 10406, '电视机': 10407, '天来': 10408, '万四摄': 10409, '充及': 10410, '大幅度': 10411, '提高效率': 10412, '需手': 10413, '拇指': 10414, '无机': 10415, '仓储': 10416, '收件': 10417, '安排': 10418, '以解': 10419, '忧患': 10420, '排除万难': 10421, '声临': 10422, '其境': 10423, '酷到': 10424, '尖叫': 10425, '播': 10426, '影片': 10427, '点燃': 10428, '火柴': 10429, '蝴蝶': 10430, '煽动': 10431, '翅膀': 10432, '楚楚': 10433, '变卡': 10434, '滚屏': 10435, '厚实': 10436, '990soc': 10437, '沉癫癫': 10438, '元年': 10439, '尝尝鲜': 10440, '称得上': 10441, '国际': 10442, '后配': 10443, '版一': 10444, '美腻': 10445, '菜单栏': 10446, '严正': 10447, '润眼': 10448, '永恒': 10449, '阔': 10450, '以代门': 10451, '喲': 10452, '亮闪闪': 10453, '不够看': 10454, '更响': 10455, '别太次': 10456, '手机游戏': 10457, '微博': 10458, '两眼': 10459, '橙裂': 10460, '开裂': 10461, '只划': 10462, 'zong': 10463, '享丝滑': 10464, '走路': 10465, '满足要求': 10466, '对外': 10467, '别卡': 10468, '为海思': 10469, '上巴龙': 10470, '组成': 10471, '完锤': 10472, '小觑': 10473, '4500mh': 10474, '日思夜想': 10475, '終於': 10476, '用華為': 10477, '為華為': 10478, '點贊': 10479, '没太用': 10480, '圈粉': 10481, '半格': 10482, '严重不足': 10483, '十张': 10484, '尊享': 10485, '甩果果': 10486, '十条': 10487, '较弱': 10488, 'ktv': 10489, '牛叉点': 10490, '干翻': 10491, 'hms': 10492, '执行': 10493, '大劲': 10494, '此条': 10495, '概括': 10496, '柴米油盐': 10497, '零食': 10498, '化妆品': 10499, '家用电器': 10500, '所缺': 10501, '逛逛': 10502, '跟个': 10503, '迷你': 10504, '卡吨': 10505, '飘起来': 10506, '日趋': 10507, '提个': 10508, '硬壳': 10509, '屏香': 10510, '满布': 10511, '郭': 10512, '感高': 10513, '招待': 10514, '俺们': 10515, '图用': 10516, '耐打': 10517, '能冲': 10518, '宝是': 10519, '词': 10520, '现阶段': 10521, '地会': 10522, '特给力': 10523, 'ate': 10524, '早期': 10525, '样张': 10526, '打出': 10527, '高低音': 10528, '454000': 10529, '热乎': 10530, '十号': 10531, '鲨': 10532, '科幻': 10533, '当众': 10534, '素皮时': 10535, '黑乎乎': 10536, '一抢': 10537, '度日如年': 10538, '56': 10539, '机屏': 10540, '新添': 10541, '漂': 10542, '计': 10543, '瀑': 10544, '布': 10545, '档': 10546, '戏': 10547, '意': 10548, '支': 10549, '持': 10550, '冷翠': 10551, '项': 10552, '不输于': 10553, '总儿': 10554, '言': 10555, '窝': 10556, '持感': 10557, '三四十': 10558, 'm': 10559, '文档': 10560, '表格': 10561, '安卓备机': 10562, '易用性': 10563, '转为': 10564, '备机': 10565, '吸引住': 10566, '这不年': 10567, '亏待': 10568, '判定': 10569, '鼓捣': 10570, '略沉': 10571, '有够': 10572, '油': 10573, '高科技产品': 10574, '展示': 10575, '巧妙': 10576, '听孔': 10577, '美死': 10578, '养': 10579, '三角梅': 10580, '热烈': 10581, '快到候': 10582, '298': 10583, '100g': 10584, '折': 10585, '存储空间': 10586, '想加个': 10587, '开膛': 10588, '破肚': 10589, '五福': 10590, '一安': 10591, '但处': 10592, '电小二': 10593, '一去不复返了': 10594, 'exhibition': 10595, 'gms': 10596, '不逊于': 10597, '放水': 10598, '不厌其烦': 10599, '美如画': 10600, '看短': 10601, '很耐盘': 10602, '很怕': 10603, '客户端': 10604, '万能': 10605, '充且': 10606, '两块': 10607, '开车': 10608, '安全性': 10609, '囊括': 10610, '淘': 10611, '卖掉': 10612, '妥协': 10613, '1920': 10614, '轻快': 10615, '数据网络': 10616, 'ro': 10617, '梦想': 10618, '憋': 10619, '年头': 10620, '达成': 10621, '歌手': 10622, '人吐槽': 10623, '失色': 10624, '原色': 10625, '再者': 10626, '9500': 10627, '惠民': 10628, '入选': 10629, '有目共睹': 10630, '门禁': 10631, '中间价': 10632, '累计': 10633, '坊间': 10634, '传闻': 10635, '衣物': 10636, '一扫而空': 10637, '酷嘛': 10638, '京喜': 10639, '惨痛': 10640, '全保': 10641, '通讯': 10642, 'made30': 10643, '精益求精': 10644, '研制': 10645, '直觉': 10646, '道理': 10647, '回头率': 10648, '听不出来': 10649, '一下下': 10650, '上机': 10651, '懒癌': 10652, '借点': 10653, '封顶': 10654, '昨早': 10655, '打到': 10656, '感越': 10657, '身后': 10658, '一镜': 10659, '保驾护航': 10660, '主人': 10661, '头条': 10662, '选择性': 10663, '画到': 10664, '识图': 10665, '数上': 10666, '喜鹊': 10667, '连脚': 10668, '爪子': 10669, '随身': 10670, '寻思': 10671, '飞行速度': 10672, '分出': 10673, '胜负': 10674, '懂者': 10675, '自懂': 10676, '夫妻关系': 10677, '之会': 10678, '忘': 10679, '睡醒': 10680, '卖空': 10681, '认准': 10682, '大佬': 10683, '预交': 10684, '60m': 10685, '3m': 10686, '外扩': 10687, '无可厚非': 10688, '起级': 10689, '头条新闻': 10690, '666666666666666': 10691, '讶': 10692, '层楼': 10693, '累赘': 10694, '吓哭': 10695, '环绕声': 10696, '翠绿色': 10697, '润滑': 10698, '打响': 10699, '第一战': 10700, '起口': 10701, '多样化': 10702, '夺': 10703, '大众化': 10704, '听不出': 10705, '好了吧': 10706, '辅助工具': 10707, '只斗个': 10708, '地主': 10709, '听下': 10710, '那句': 10711, 'diss': 10712, '忠诚': 10713, '我国': 10714, '头用': 10715, '说了算': 10716, '美团': 10717, '这卡': 10718, '艰且': 10719, '服务费': 10720, '160': 10721, '告终': 10722, '壮大': 10723, '心大': 10724, '平安': 10725, '手机费': 10726, '手提袋': 10727, '配错': 10728, '对话': 10729, '算了吧': 10730, '刚买用': 10731, '卡券': 10732, '拉稀': 10733, '合约': 10734, '真狠': 10735, '掉包': 10736, '没差': 10737, '毁': 10738, '死慢': 10739, 'htcu11': 10740, '点待': 10741, '催才': 10742, '下错': 10743, '可气': 10744, '发退': 10745, '诱导': 10746, '实则': 10747, '维护': 10748, '好定': 10749, '老出': 10750, '凹点': 10751, '水泡': 10752, '印花': 10753, '痕': 10754, '垫点': 10755, '不垫': 10756, '那买': 10757, '一条线': 10758, '升段': 10759, '且不说': 10760, '帮慢': 10761, '角落': 10762, '实讲': 10763, '些小': 10764, '滑不动': 10765, '主业': 10766, '大发': 10767, '周二': 10768, '溢胶': 10769, '扣掉': 10770, '毛糙': 10771, '没底': 10772, '能防': 10773, '比比皆是': 10774, '边充': 10775, '边玩': 10776, '副作用': 10777, '高速度': 10778, '一二百块': 10779, '证据': 10780, '床边': 10781, '第一点': 10782, '为例': 10783, '出现异常': 10784, '过快': 10785, '低级': 10786, '插曲': 10787, '贴不紧': 10788, '陕西': 10789, '剩一星': 10790, '草': 10791, '买早': 10792, '怠慢': 10793, '撞伤': 10794, '态度恶劣': 10795, 'md': 10796, '保阶': 10797, '天理不容': 10798, '太抗': 10799, '青天': 10800, '掐': 10801, '发火': 10802, 'д': 10803, '检测费': 10804, '送错': 10805, '坑店': 10806, '福气': 10807, '下文': 10808, '领': 10809, '往下掉': 10810, '九号': 10811, '滚': 10812, '见鬼': 10813, '卡退': 10814, '突发': 10815, '算不算': 10816, '初': 10817, '劝想': 10818, '成新': 10819, '退机': 10820, 'r': 10821, '说加': 10822, '第七天': 10823, '快照': 10824, '全给': 10825, '错过去': 10826, '卖货': 10827, '贵出': 10828, '448': 10829, '到头来': 10830, '大头': 10831, '没人来': 10832, '零分': 10833, '165': 10834, '阻尼': 10835, '软绵绵': 10836, '太吊': 10837, '工号': 10838, '10511': 10839, '可想而知': 10840, '不弹': 10841, '真无语': 10842, '百般刁难': 10843, '哪一条': 10844, '欺人': 10845, '显示器': 10846, '推卸': 10847, '价保整': 10848, '送京豆': 10849, '最高点': 10850, '问会': 10851, '推来推去': 10852, '省电': 10853, '伤痕累累': 10854, '刚过去': 10855, '4288': 10856, '缺钱': 10857, '缺到': 10858, '这份': 10859, '钱活': 10860, '用不起': 10861, '只补': 10862, '只值': 10863, '多于': 10864, '一同': 10865, '每转': 10866, '因买时': 10867, '赚品': 10868, '但卡': 10869, '几十块': 10870, '分明': 10871, '许诺': 10872, '货给': 10873, '说券': 10874, '仍无发': 10875, '抬举': 10876, '脱胶': 10877, '丝': 10878, '头发丝': 10879, '一扯': 10880, '封胶': 10881, '愤青': 10882, '破灭': 10883, '第三块': 10884, '变慢': 10885, '血压': 10886, '赤裸裸': 10887, '透支': 10888, '六个月': 10889, '屏险算': 10890, '扯皮': 10891, '大打折扣': 10892, '一个劲': 10893, '退不出': 10894, '退过': 10895, '牵强': 10896, '认清': 10897, 'si': 10898, '侵犯': 10899, '有史以来': 10900, '我机': 10901, '骂娘': 10902, '我截': 10903, '三点': 10904, '究竟': 10905, '十一号': 10906, '十三号': 10907, '十七号': 10908, '比样': 10909, '直说': 10910, '直营': 10911, '一时冲动': 10912, '综合性': 10913, '竟是': 10914, '八年': 10915, '天零': 10916, 'vivox21': 10917, '行内': 10918, '俢': 10919, '不清': 10920, '爱理不理': 10921, '已花': 10922, '已成': 10923, '个人爱好': 10924, '鸟样': 10925, '几倍': 10926, '没管': 10927, '直营店': 10928, '紧急': 10929, '十几': 10930, '过期': 10931, '太不经': 10932, '叫声': 10933, '真实情况': 10934, '何年': 10935, '马月': 10936, '最迟': 10937, '节': 10938, '用大': 10939, '破壁': 10940, '系统化': 10941, '刻意': 10942, '第九天': 10943, '恍然': 10944, '很坑': 10945, '不知情': 10946, '不选': 10947, '一地': 10948, '天疏': 10949, '货换': 10950, '米处': 10951, '语气': 10952, '责任感': 10953, '身上': 10954, '打车': 10955, '报销': 10956, '车费': 10957, '中老': 10958, '废话': 10959, '默默': 10960, '长处': 10961, '担待': 10962, '玩烂': 10963, '两万多': 10964, '草率': 10965, '裹': 10966, '咣当': 10967, '百思不得其解': 10968, '员会': 10969, '轻放': 10970, 'wafl': 10971, '说到底': 10972, '同类产品': 10973, '价格调整': 10974, '险要': 10975, '屏版': 10976, '188': 10977, '白菜价': 10978, '摔过': 10979, '没选': 10980, '心灵': 10981, '遭受': 10982, '重创': 10983, '辣鸡屏': 10984, '398': 10985, '538': 10986, '8plus': 10987, '几道': 10988, '快双': 10989, '分流': 10990, '玛德': 10991, '售前': 10992, '笔记本电脑': 10993, '赶着': 10994, '率太低': 10995, '通电话': 10996, '怪到': 10997, '买单': 10998, '换卡': 10999, '多分钟': 11000, '女盆友': 11001, '卡得': 11002, '软件应用': 11003, '期限': 11004, '强硬': 11005, '天知道': 11006, '机有': 11007, '4700': 11008, '读图': 11009, '官方语言': 11010, '说些': 11011, '大道理': 11012, '过用': 11013, '工作日内': 11014, '有事没事': 11015, '再查': 11016, '断掉': 11017, '调都': 11018, '苍白无力': 11019, '专坑': 11020, '不长': 11021, '会用': 11022, '清空': 11023, '还卡顿': 11024, '最让人': 11025, '狗屎': 11026, '八次': 11027, '亲爹': 11028, '完有': 11029, '时付': 11030, '新一轮': 11031, '哪来': 11032, '自信': 11033, '区里': 11034, '赔付': 11035, '那儿': 11036, '水货': 11037, '两段': 11038, '2009': 11039, '聊到': 11040, '以便': 11041, '箭头': 11042, '澄清': 11043, '电一宿': 11044, '十多个': 11045, '点付': 11046, '分付': 11047, '消费品': 11048, '借钱': 11049, '2sim': 11050, '好几种': 11051, '后来者': 11052, '前段时间': 11053, '249': 11054, '209': 11055, '4998': 11056, '洞': 11057, '车充': 11058, '磨破': 11059, '沙土': 11060, '压箱底': 11061, '签字': 11062, '中件': 11063, '袋套': 11064, '压坏': 11065, '想补': 11066, '百般': 11067, '卖出': 11068, '刚满': 11069, '未曾': 11070, '虚影': 11071, '太毁': 11072, '元档': 11073, '匿': 11074, '清除': 11075, '可说': 11076, '再吐槽': 11077, 'kindle': 11078, '这颗': 11079, '推辞': 11080, '号发': 11081, '打发': 11082, '美名': 11083, '曰': 11084, '额度': 11085, '鸽': 11086, '滑天下之大稽': 11087, '作何解释': 11088, '牛仔裤': 11089, '很心': 11090, '折磨': 11091, '放假': 11092, '催件': 11093, '一捏': 11094, '假机': 11095, '用后感': 11096, '太批': 11097, '太噪': 11098, '老年': 11099, '1k': 11100, '玩弄': 11101, '边漏': 11102, '绿光': 11103, '条条': 11104, '晕车': 11105, '朝贡': 11106, '有钱': 11107, '包坏': 11108, '节省': 11109, '力气': 11110, '一两千块': 11111, 'boe': 11112, '电割': 11113, '感不佳': 11114, '竞品': 11115, '浅黄色': 11116, '拍成': 11117, '羽毛': 11118, '799': 11119, '拜托': 11120, '架不住': 11121, '西安': 11122, '下雨': 11123, '瘫痪': 11124, '国家兴亡': 11125, '匹夫有责': 11126, '半左右': 11127, '省省': 11128, '单看': 11129, '一丁点': 11130, '别看': 11131, '摆': 11132, '一溜': 11133, '两代': 11134, '打脸': 11135, '啪啪': 11136, '实用价值': 11137, '作息': 11138, '血淋淋': 11139, '买曲屏': 11140, '试验机': 11141, '高下': 11142, '立判': 11143, '强推': 11144, '绝不会': 11145, '①': 11146, '转角': 11147, '③': 11148, '④': 11149, '⑤': 11150, '会痛': 11151, '电掉': 11152, '片区': 11153, '标明': 11154, '单单': 11155, '进程': 11156, '选个': 11157, '看多远': 11158, '哭笑不得': 11159, '低头': 11160, '附加': 11161, '时主': 11162, '自始至终': 11163, '周期性': 11164, '所卖': 11165, '合法': 11166, '实事': 11167, '法律': 11168, '侵害': 11169, '权益法': 11170, '总金额': 11171, '据实': 11172, '01096315': 11173, '贵不贵': 11174, '进不了': 11175, '几十公里': 11176, '闹着玩': 11177, '反光': 11178, '暖色': 11179, '偏移': 11180, '倾斜': 11181, '960': 11182, '845': 11183, '1080p60': 11184, '惨不忍睹': 11185, '175': 11186, '有所改善': 11187, '锐度': 11188, '几百元': 11189, '狗头': 11190, '骗钱': 11191, '一群': 11192, '乱骂': 11193, '碰水': 11194, '默认设置': 11195, '内放': 11196, '傲慢': 11197, '出具': 11198, '声称': 11199, '粗鲁': 11200, '打断': 11201, '申述': 11202, '威胁': 11203, '按原': 11204, '恳求': 11205, '求证': 11206, '位': 11207, '音讯': 11208, '一肚子气': 11209, '手机号码': 11210, '面脱': 11211, '一刮': 11212, '刮印': 11213, '闲情': 11214, '写太多': 11215, '治好': 11216, '4888': 11217, 'ma': 11218, '完过': 11219, '没爱': 11220, '158': 11221, '先别': 11222, '阳逻': 11223, '开发区': 11224, '监督管理': 11225, '已于': 11226, '金德': 11227, '贸易': 11228, '有限公司': 11229, '人作': 11230, '价保时': 11231, '扣除': 11232, '人未': 11233, '巨慢': 11234, '差屏': 11235, '摔痕': 11236, '十八代': 11237, '保改': 11238, '用话术': 11239, '爆胎': 11240, '帐号': 11241, '屏后': 11242, '网络连接': 11243, '太水': 11244, '最多能': 11245, '一次次': 11246, '金立用': 11247, '驴唇不对马嘴': 11248, '某项': 11249, '相差不多': 11250, '几大百': 11251, '暴击': 11252, '鄙视': 11253, '炖': 11254, '失控': 11255, '鸟': 11256, '要十来': 11257, '扯蛋': 11258, '弄出来': 11259, '窝心': 11260, '哪好': 11261, '保点值': 11262, '天找': 11263, '没补': 11264, '立贴': 11265, '誓': 11266, '推三阻四': 11267, '办好': 11268, '体谅': 11269, '不接': 11270, '鬼信': 11271, '人人': 11272, '玩忽职守': 11273, '这人': 11274, '口齿不清': 11275, '限': 11276, '零星': 11277, '圈钱': 11278, '抢个': 11279, '五千块': 11280, '散': 11281, '多半': 11282, '一度': 11283, '理解能力': 11284, '完蛋': 11285, '天不退': 11286, '我过': 11287, '碍事': 11288, '裂纹': 11289, '因事': 11290, '天都': 11291, '理赔': 11292, '改到': 11293, '地道': 11294, '真不缺': 11295, '三十块': 11296, '天河': 11297, '东圃': 11298, '大马路': 11299, '赶人': 11300, '不好受': 11301, '一等': 11302, '二十多天': 11303, '接二连三': 11304, '银行': 11305, '多人付': 11306, '资金': 11307, '攥': 11308, '一问三不知': 11309, '单早': 11310, '号会': 11311, '填': 11312, '高铁': 11313, '工商': 11314, '举报': 11315, '起机': 11316, '全换': 11317, '换回来': 11318, '小圈圈': 11319, '松散': 11320, '变了样': 11321, '连保膜': 11322, '后售': 11323, '纯差评': 11324, '5478': 11325, '里外': 11326, '同胞们': 11327, '奇慢': 11328, '几经': 11329, '马桶': 11330, '测试环境': 11331, '挂机': 11332, '剪辑': 11333, '弹回': 11334, '重装': 11335, '有发': 11336, '遐思': 11337, '见光': 11338, '一做': 11339, '波动': 11340, '充不进': 11341, '我加': 11342, '这事能': 11343, '一刚': 11344, '哪些': 11345, '阴阳': 11346, '手写笔': 11347, '有所改进': 11348, '进货': 11349, '屏太难': 11350, '百分之三': 11351, '一分钟': 11352, '五四': 11353, '四九': 11354, '五一': 11355, '零零': 11356, '屏险值': 11357, '原地踏步': 11358, '滴水': 11359, '加水': 11360, '一坨': 11361, '手菜': 11362, '立帖': 11363, '迟延': 11364, '过窄': 11365, '孤': 11366, '划下动': 11367, '套数': 11368, '擦亮眼睛': 11369, '进坑': 11370, '早知': 11371, '腰身': 11372, '付费': 11373, '真大果': 11374, '奇差': 11375, '瑕不掩瑜': 11376, '满格满': 11377, '堵墙': 11378, '扎实': 11379, '啰嗦': 11380, '人之常情': 11381, '指出': 11382, '测出': 11383, '并无二致': 11384, '因素': 11385, '好转': 11386, '变烂': 11387, '出了名': 11388, '非长': 11389, '吸灰': 11390, '新线': 11391, '提问': 11392, '不耐烦': 11393, '问着': 11394, '够慢': 11395, '信用度': 11396, '差多': 11397, '百分之一百': 11398, '268': 11399, '中平': 11400, '没贴': 11401, '补图': 11402, '羊毛出在羊身上': 11403, '普普通通': 11404, '经亲测': 11405, '老发': 11406, '感覺還': 11407, '什麼': 11408, '個': 11409, '裸機': 11410, '一樣': 11411, '仿生': 11412, '烦': 11413, '蒙': 11414, '保险箱': 11415, '耐热': 11416, '发烧': 11417, '毛绒': 11418, '台买': 11419, '好差': 11420, '晕死': 11421, '好烦': 11422, '多发': 11423, '貨': 11424, '假期': 11425, '夸大其词': 11426, '小痛': 11427, '不太值': 11428, '直播间': 11429, '赠送礼品': 11430, '完刚': 11431, '一推': 11432, '补补': 11433, '措施': 11434, '心脏': 11435, '四百多': 11436, '刮手': 11437, '交款': 11438, '暖手': 11439, '我长': 11440, '难以辨认': 11441, '注册': 11442, '爱机': 11443, '50o': 11444, '税': 11445, '1500': 11446, '抽检': 11447, '信不信': 11448, '孔处': 11449, '不语': 11450, '中强': 11451, '训问': 11452, '几处': 11453, 'x9': 11454, '撕下来': 11455, '仔细观察': 11456, '扫个': 11457, '人品问题': 11458, '理过': 11459, '悟': 11460, '发过来': 11461, '第六部': 11462, '真低': 11463, '完才': 11464, '银行卡': 11465, '塑料包装': 11466, '两道': 11467, '真远': 11468, '有色': 11469, '个别': 11470, '安裝': 11471, '內存': 11472, '經常卡': 11473, '動不動': 11474, '冒': 11475, '框框': 11476, '無反應': 11477, '充電快': 11478, '耗電': 11479, '打遊戲': 11480, '滿電': 11481, '三四': 11482, '點就得': 11483, '充電': 11484, '噪點': 11485, '京東': 11486, '自營': 11487, '較': 11488, '這次': 11489, '不滿': 11490, '兩天': 11491, '開始': 11492, '卡頓': 11493, '簡直': 11494, '懷疑': 11495, '這是': 11496, '機': 11497, '买平': 11498, 'cc9': 11499, '途中': 11500, '分拣': 11501, '没说': 11502, '拍下来': 11503, '实际效果': 11504, '艰难': 11505, 'iphonexs': 11506, '切网': 11507, '漂白': 11508, '电到': 11509, '越高': 11510, '下雨天': 11511, '湿': 11512, '期免': 11513, '二百块': 11514, '看能': 11515, '太省': 11516, '一装': 11517, '那京粉': 11518, '实名': 11519, '赠送给': 11520, '针插': 11521, '中旬': 11522, '年三十': 11523, '处取': 11524, '正月': 11525, '十六': 11526, '远焦': 11527, '拖拖': 11528, '下车时': 11529, '纸糊': 11530, '盒角': 11531, '装着': 11532, '吧唧': 11533, '防刮花': 11534, '扫进去': 11535, '后过': 11536, '39956': 11537, '保护性': 11538, '物太少': 11539, '自动播放': 11540, 'hw': 11541, '点错': 11542, '4299': 11543, '基准': 11544, '望要': 11545, '二十块': 11546, '头带': 11547, '疼死': 11548, '不求': 11549, '强点': 11550, '尖': 11551, '显白': 11552, '两米': 11553, '名不副实': 11554, '我非': 11555, '滴滴': 11556, '员换': 11557, '滞后': 11558, '打滴': 11559, '不发火': 11560, '太渣': 11561, '拍下': 11562, '无人': 11563, '触': 11564, '说修': 11565, '无理取闹': 11566, '替代': 11567, '徒有其表': 11568, '高层': 11569, '第一张': 11570, '第二张': 11571, '何用': 11572, '冲动': 11573, 'av': 11574, '能卖': 11575, '加点': 11576, '主机': 11577, '轨件': 11578, '不退': 11579, '不换': 11580, '心好': 11581, '说安卓机': 11582, '剥': 11583, '石榴': 11584, '可行': 11585, '抓紧': 11586, '左面': 11587, '右面': 11588, '单发': 11589, '火后': 11590, '七折': 11591, '八折': 11592, '使者': 11593, '彩票': 11594, 'yen': 11595, 'kkm': 11596, '5480': 11597, '包个': 11598, '毛毛': 11599, '大局': 11600, '拍同': 11601, '显色': 11602, '涉及': 11603, '试图': 11604, '干扰': 11605, 'nokiax7': 11606, 'motozplay': 11607, '动不动': 11608, '最堵': 11609, '京': 11610, '照旧': 11611, '无论如何': 11612, 'vertu': 11613, '英国': 11614, 'kreta': 11615, '转变': 11616, '世间': 11617, '勇气': 11618, '共同': 11619, '勉励': 11620, '月经': 11621, '玩得': 11622, '更慢': 11623, '格子': 11624, '跳动': 11625, '产量': 11626, '12345678910': 11627, '玩死': 11628, '崩': 11629, '太窄': 11630, '象征性': 11631, '防止': 11632, '积点': 11633, '挺厚': 11634, '粍': 11635, '提示音': 11636, '打死': 11637, '推陈出新': 11638, '120': 11639, '污点': 11640, '再告': 11641, '仁慈': 11642, '韵达': 11643, '中通': 11644, '之流': 11645, '现金': 11646, '方是': 11647, '很抖': 11648, '尖尖': 11649, '角边': 11650, '哪位': 11651, '贵店': 11652, '答案': 11653, '知名度': 11654, '损害': 11655, '谋生': 11656, '谨': 11657, '广大客户': 11658, '慎买': 11659, '接光': 11660, '色感': 11661, '烦人': 11662, '看得出': 11663, '忍受': 11664, '苍白': 11665, '心思': 11666, '机经用': 11667, '中民': 11668, '共鸣': 11669, '不补': 11670, '补给': 11671, '买延保': 11672, '瞎搞': 11673, '补价': 11674, '切身体会': 11675, '算不得': 11676, '6vs30': 11677, '叠加': 11678, '一万': 11679, '降阶太快': 11680, '几遍': 11681, '潜规则': 11682, '个人信息': 11683, '一价保': 11684, '套话': 11685, '强加': 11686, '说白了': 11687, '问个问题': 11688, '贵太多': 11689, '螃蟹': 11690, '购物券': 11691, '2880': 11692, '所购': 11693, '骗局': 11694, '就价': 11695, '漏光': 11696, '一年半载': 11697, '我查': 11698, '评是': 11699, '高高兴兴': 11700, '发高烧': 11701, '标价': 11702, '3288': 11703, '博': 11704, '搞出': 11705, '后经': 11706, '卖不出去': 11707, '看快': 11708, '660': 11709, '差额': 11710, '3100': 11711, '多能': 11712, '标到': 11713, '含': 11714, '拍虚焦': 11715, '给你个': 11716, '时大时': 11717, '想买个': 11718, '最新版': 11719, '铺天盖地': 11720, '最心': 11721, 'word': 11722, '购写': 11723, '记不清': 11724, '家电产品': 11725, '糟': 11726, '肤色': 11727, '娃娃': 11728, '粉红': 11729, '脸蛋': 11730, '眉毛': 11731, 'vivox9': 11732, '锅': 11733, '出显': 11734, '尘': 11735, '修好': 11736, '屏坏': 11737, '1070': 11738, '元换': 11739, '出钱': 11740, '洗坏': 11741, '穷': 11742, '每期': 11743, '359': 11744, '4068': 11745, '数学': 11746, '没算': 11747, '乐呵呵': 11748, '少来': 11749, '与其说': 11750, '不如说': 11751, '不贴': 11752, '只发': 11753, '送不起': 11754, '送算': 11755, '才值': 11756, '159': 11757, '商真': 11758, '傻子': 11759, '西': 11760, '泪': 11761, '要困': 11762, 'maet9': 11763, '没次': 11764, '登个': 11765, '与否': 11766, '需设': 11767, '要分': 11768, '好价': 11769, '保有': 11770, '支个': 11771, '招': 11772, '说句': 11773, '淹没': 11774, '浪潮': 11775, '没人会': 11776, '翻出': 11777, '宁愿': 11778, '黏贴': 11779, '维修费': 11780, '冤枉': 11781, '脑子里': 11782, '218': 11783, '别弄': 11784, '198': 11785, '送自': 11786, '拍杆': 11787, 'phone': 11788, '线上': 11789, '贪': 11790, '好自为之': 11791, '别虚高': 11792, '吵得': 11793, '高管': 11794, '扭曲': 11795, '步步高': 11796, '偷梁换柱': 11797, '两件套': 11798, '铁锅': 11799, '收完': 11800, '楼下': 11801, '别怪': 11802, '也罢': 11803, '我佛': 11804, '人回': 11805, '差死': 11806, '是否是': 11807, '查下': 11808, 'sn': 11809, '一二': 11810, '通话记录': 11811, '挂断': 11812, '怎样才能': 11813, '价连膜': 11814, '挡住': 11815, '眼是': 11816, '对齐': 11817, '断节': 11818, '联字': 11819, '沦落': 11820, '快餐': 11821, '孔位': 11822, '拍微': 11823, '距': 11824, '256m': 11825, '128m': 11826, '不然的话': 11827, '贵买': 11828, '白送': 11829, '火死': 11830, '倆': 11831, '元京豆': 11832, '没查': 11833, '能骗': 11834, '送真': 11835, '强词夺理': 11836, '贵叁': 11837, '力点': 11838, '太脆': 11839, '黑频': 11840, '恕我直言': 11841, '收费': 11842, '真令人': 11843, '内才': 11844, '还发': 11845, '嫌疑': 11846, '确是': 11847, '未见': 11848, '推到': 11849, '不周到': 11850, '送人用': 11851, '换购': 11852, '慢不说': 11853, '还放人': 11854, '鸽子': 11855, '坑太大': 11856, '多台': 11857, '形同虚设': 11858, 'oppor9s': 11859, '略胜一筹': 11860, '负面影响': 11861, '老半天': 11862, '更本': 11863, '拉中': 11864, '扣费': 11865, '会到': 11866, '条子': 11867, '吃饱': 11868, '货算': 11869, '比看': 11870, '标清': 11871, '加快': 11872, '左耳': 11873, '堵心': 11874, '天数': 11875, '偏暗': 11876, '电耗': 11877, '本体': 11878, '烘烤': 11879, '凹凸感': 11880, '承担': 11881, '太大太反': 11882, '放不下': 11883, 'volte': 11884, '一打': 11885, '防不胜防': 11886, '开槽': 11887, '下架': 11888, '明摆着': 11889, '可赠': 11890, '旗号': 11891, '此生': 11892, '摇杆': 11893, '一单': 11894, '过换': 11895, '灵': 11896, '男': 11897, '从不': 11898, '872': 11899, '哼哼': 11900, '保温杯': 11901, '摇一摇': 11902, '盒匡匡': 11903, '作响': 11904, '总有': 11905, '尚且': 11906, '少件': 11907, '还莎莎': 11908, '原件': 11909, '偷金': 11910, '取巧': 11911, '老余': 11912, '一晚': 11913, '时有时无': 11914, '拔卡': 11915, '试问': 11916, '作何': 11917, '感想': 11918, '抬起': 11919, '贪便宜': 11920, '精明': 11921, '公然': 11922, '当猴': 11923, '245499': 11924, '666666666': 11925, '有差': 11926, '维修站': 11927, '吹捧': 11928, '市价': 11929, '我付': 11930, '死活': 11931, '一本': 11932, '正气': 11933, '嘴里': 11934, '上帝': 11935, '甚选': 11936, '补丁': 11937, '沙哑': 11938, '只出': 11939, '暂停': 11940, '普遍存在': 11941, '团队': 11942, '邮到': 11943, '主页': 11944, '面上': 11945, '揭去': 11946, '有法': 11947, '亮显': 11948, '或教': 11949, '399': 11950, '详情页': 11951, '1333173735': 11952, '顶上去': 11953, '公道': 11954, '整糊': 11955, '一百米': 11956, '贵在': 11957, '下国際': 11958, '周掉': 11959, '天买': 11960, '插不上': 11961, '小卡顿': 11962, '玩游': 11963, '玄乎': 11964, '人满': 11965, '撞坏': 11966, '郁闷死': 11967, 'uc': 11968, '秒左右': 11969, '连拨': 11970, '店去': 11971, '其二': 11972, '其三': 11973, '识': 11974, '跟本': 11975, '毫米': 11976, '乞丐': 11977, '屏才': 11978, '可别': 11979, '真够': 11980, '太早': 11981, '这货': 11982, '很烦': 11983, '几千元': 11984, '塑料套': 11985, '一破': 11986, '5399': 11987, '抽烟': 11988, '拉大': 11989, '打白条': 11990, '历史记录': 11991, '千牛': 11992, '静': 11993, '没辙': 11994, '机后': 11995, '减配': 11996, '九次': 11997, '结果显示': 11998, '不美观': 11999, '欠妥': 12000, '店内开': 12001, '店内': 12002, '权利': 12003, '压伤': 12004, '当场': 12005, '碎屑': 12006, '我持': 12007, '拉开': 12008, '工厂': 12009, '品控能': 12010, '焦点': 12011, '跟景': 12012, '糊涂': 12013, '澳门': 12014, '敲店': 12015, '不关': 12016, '转圈圈': 12017, '真烂': 12018, '传送': 12019, '一想': 12020, '货员': 12021, 'yy': 12022, '大户': 12023, '来评': 12024, '凉快': 12025, '回放': 12026, '未读': 12027, '一波三折': 12028, '响铃': 12029, '未激活': 12030, '不在乎': 12031, '单卡': 12032, '我头': 12033, '缶': 12034, '天过': 12035, '怨念': 12036, '哀怨': 12037, '再进': 12038, '难拆': 12039, '满星': 12040, '某为': 12041, '膨胀': 12042, '异物': 12043, '底气': 12044, '座充': 12045, '上拉': 12046, '二十四时': 12047, '小窗': 12048, '两冲': 12049, '好心': 12050, '膈': 12051, '应人': 12052, '穿衣服': 12053, '好贵': 12054, 'lt': 12055, '错乱': 12056, '次数': 12057, '7399': 12058, '键触': 12059, '试完': 12060, '卸': 12061, '素皮款': 12062, '热胀冷缩': 12063, '完必': 12064, '订金': 12065, '60hz': 12066, '电容': 12067, '满脸': 12068, '马赛克': 12069, '蛮大': 12070, '打了个': 12071, '活': 12072, '衬托': 12073, '错误率': 12074, '焦比': 12075, 'fmrs': 12076, '飞越': 12077, '会带': 12078, '另购': 12079, '寻找': 12080, '没看': 12081, '污污': 12082, '炫技': 12083, '双扬': 12084, '独此一家': 12085, '完去': 12086, '比老': 12087, '幌子': 12088, '龟速': 12089, '打官腔': 12090, '准信': 12091, '禁止': 12092, '钱付': 12093, '所诉': 12094, '六千块': 12095, '放个': 12096, '四五次': 12097, '加满': 12098, '增添': 12099, '书本上': 12100, '老哥': 12101, '文本': 12102, '分打': 12103, '闭合': 12104, '不严': 12105, '看齐': 12106, '有喜有忧': 12107, '启屏': 12108, '偏低': 12109, '对比度': 12110, '电会': 12111, '刚冲': 12112, '百分之九十': 12113, '塑胶': 12114, '合成革': 12115, '紧疼': 12116, '拓展': 12117, '塑胶袋': 12118, '凹下去': 12119, '整理': 12120, '量大能': 12121, '磕坏': 12122, '罢选': 12123, 'lr': 12124, '订米': 12125, '一小块': 12126, '留用': 12127, '称不上': 12128, '色饱和度': 12129, '网卡': 12130, '闪点': 12131, '3o': 12132, '看天': 12133, '好脏': 12134, '掠慢': 12135, 'shi': 12136, '保不齐': 12137, '十月底': 12138, '速递': 12139, '好几处': 12140, '尘土': 12141, '中弄': 12142, 'ycc365': 12143, '虽作': 12144, '仍会': 12145, '几何': 12146, '绿变': 12147, '我信': 12148, '概率': 12149, '漂了': 12150, '多买个': 12151, '有谷歌': 12152, 'lastpass': 12153, 'authenticator': 12154, '震得': 12155, '害死': 12156, '患者': 12157, '那天': 12158, '气人': 12159, '贰': 12160, '手東': 12161, '震手': 12162, '刚玩': 12163, '很空': 12164, '没加': 12165, '七千块': 12166, '满给力': 12167, '满快': 12168, '少许': 12169, '比相较': 12170, '闷闷': 12171, '玩崩': 12172, '绿化': 12173, '二星': 12174, '冲突': 12175, '零颗': 12176, '公开': 12177, '猫腻': 12178, '后盖会': 12179, '堂而皇之': 12180, '统一': 12181, '后道': 12182, '赶货': 12183, '花眼': 12184, '很辣鸡': 12185, '机都': 12186, '象征': 12187, '三八': 12188, '清明': 12189, '偶发性': 12190, '新效': 12191, 'nova2s': 12192, '顶多': 12193, '分给': 12194, '图像识别': 12195, '辣鸡辣': 12196, '鸡辣鸡': 12197, '后盖振': 12198, '大卡': 12199, '四千五': 12200, '一订': 12201, '至此': 12202, '标': 12203, '说完': 12204, '挺乱': 12205, '丑到': 12206, '更丑': 12207, '但选': 12208, '要选': 12209, '学一学': 12210, '恪手': 12211, '自由': 12212, '调动': 12213, '字数': 12214, '精灵': 12215, '你妹': 12216, '五百多': 12217, '真扯': 12218, '玩意儿': 12219, '出入': 12220, '时常': 12221, '休眠': 12222, '畅连': 12223, '包边': 12224, '天没到': 12225, '星是': 12226, '顶得住': 12227, '小坑': 12228, '送品': 12229, '十个': 12230, '不经用': 12231, '一般化': 12232, '原则': 12233, '摇': 12234, '470': 12235, '这上': 12236, '挺坑': 12237, '有缝': 12238, '咋办': 12239, '封装': 12240, '多出': 12241, '套上去': 12242, '下不来': 12243, '键贼': 12244, '指南针': 12245, '两样': 12246, '轻中度': 12247, '团少': 12248, '受人': 12249, '歧视': 12250, '买时': 12251, '方向键': 12252, '运单': 12253, '寄给': 12254, '没买时': 12255, '组装机': 12256, '差好': 12257, 'nex': 12258, '第一代': 12259, '家国': 12260, 'freebuds3': 12261, '巨亏': 12262, '验快': 12263, '135': 12264, '酷狗': 12265, '连发': 12266, '音乐手机': 12267, '全变': 12268, '爹': 12269, '都行': 12270, '上会': 12271, '会泛': 12272, '定时': 12273, '闹钟': 12274, '故': 12275, '咚咚': 12276, '咚': 12277, '不吐槽': 12278, '掏出': 12279, '来解': 12280, '要解': 12281, '崩裂': 12282, '补不补': 12283, '差大得': 12284, '后尘': 12285, '图库': 12286, '2071': 12287, '门面': 12288, '边边角角': 12289, '自动隐藏': 12290, '自配': 12291, '放手': 12292, '小盒子': 12293, '想放': 12294, '剪刀': 12295, '剪坏': 12296, '生生': 12297, '积压': 12298, '好几万': 12299, '快够': 12300, '私募': 12301, '基金': 12302, '等待时间': 12303, '改一改': 12304, '同情': 12305, '是非': 12306, '二话不说': 12307, '套上': 12308, '三百多': 12309, '还震得': 12310, '比安卓香': 12311, '对称': 12312, '延伸': 12313, '左高右': 12314, '左低': 12315, '高等': 12316, '拍新': 12317, '1100': 12318, '尿崩': 12319, '粘牢': 12320, '七买': 12321, '25cm': 12322, 'ipx': 12323, '新怡': 12324, '先贴': 12325, '拿法': 12326, '金边': 12327, '氧化': 12328, '脱落': 12329, '脱手': 12330, '诸位': 12331, '保质': 12332, '九年': 12333, '有白道': 12334, '狭长': 12335, '我于': 12336, '编号': 12337, '106618063791': 12338, '再下': 12339, '太大意': 12340, '质检': 12341, '德国人': 12342, '哪里找': 12343, '20p': 12344, '不太稳': 12345, '同一时间': 12346, '普通班': 12347, '观赏性': 12348, '甚远': 12349, '令人堪忧': 12350, '三合一': 12351, '一千五百多': 12352, '再坏': 12353, '买补': 12354, '漆笔': 12355, '太刺': 12356, '视力': 12357, '调暖': 12358, '调淡': 12359, '疼得': 12360, '均佳': 12361, '理悲': 12362, '炫目': 12363, '随即': 12364, '得查': 12365, '青黛得': 12366, '凸现': 12367, '暖炉': 12368, '尿点': 12369, '认可度': 12370, '玩龙族': 12371, '幻想': 12372, '开极': 12373, '高画质': 12374, '挤': 12375, '偏慢': 12376, '人缘': 12377, '不戴上': 12378, '不女': 12379, '30x': 12380, '功放': 12381, '30por': 12382, '杂': 12383, '能令': 12384, '有安卓': 12385, '这老贵': 12386, '后解': 12387, '度娘': 12388, '两编': 12389, 'pro5g': 12390, '原带': 12391, '会断': 12392, '对准': 12393, '毫无意义': 12394, '诚实': 12395, '光度': 12396, 'the': 12397, '2240': 12398, '会降': 12399, '出错率': 12400, '用开': 12401, '靠近': 12402, '做操': 12403, '让我拿': 12404, '靠谱点': 12405, '开得': 12406, '捉': 12407, '不太大': 12408, '万快': 12409, '侍候': 12410, '必碎': 12411, '下光': 12412, '部位': 12413, '拖动': 12414, '除此之外': 12415, '130': 12416, '余大嘴': 12417, '于安卓': 12418, '中风': 12419, '危险': 12420, '偷听': 12421, '搞鬼': 12422, '误超作': 12423, '叼': 12424, '样': 12425, '包好': 12426, '开多': 12427, '如果说': 12428, '谈不上': 12429, '打个比方': 12430, '比方': 12431, '一两下': 12432, '翻完': 12433, '我关': 12434, '个把月': 12435, '没录': 12436, '符合要求': 12437, '内心': 12438, '频频': 12439, '屏而': 12440, '纸盒装': 12441, '很穷': 12442, '拎不清': 12443, '总回': 12444, '点子': 12445, '外行': 12446, '下班时间': 12447, '换不换': 12448, '起初': 12449, '第一轮': 12450, '不死心': 12451, '说一说': 12452, '最具': 12453, '标志性': 12454, '位于': 12455, '整齐有序': 12456, '圆环': 12457, '深沉': 12458, '印衬': 12459, '得以': 12460, '姿态': 12461, '感应器': 12462, '元器件': 12463, '借此': 12464, '敲屏': 12465, '还够用': 12466, '卡着': 12467, '英特尔': 12468, '自驾游': 12469, '键后': 12470, '最小': 12471, '只开': 12472, '较慢': 12473, '几行字': 12474, '就点': 12475, '原手': 12476, '花瓶': 12477, '果机': 12478, '尼码': 12479, '请教': 12480, '赫然': 12481, '频道': 12482, '无心': 12483, 'iphone3': 12484, '体统': 12485, '友好度': 12486, 'ins': 12487, '八千': 12488, '画蛇添足': 12489, '弄巧成拙': 12490, '纸袋': 12491, '塑料薄膜': 12492, '登陆': 12493, '口号': 12494, '用得久': 12495, '黑不黑': 12496, '聋': 12497, '改差评': 12498, '烦躁': 12499, '健太': 12500, '七百多': 12501, '难点': 12502, '价保过': 12503, '六千': 12504, '充会': 12505, '笨': 12506, '太丑': 12507, '涨': 12508, '点算': 12509, '一纸': 12510, 'epsilon': 12511, '卡装': 12512, '龙卷风': 12513, '大伙': 12514, '别急': 12515, '只保': 12516, '壳面': 12517, '缩减': 12518, '太抖': 12519, '鸡卡': 12520, '退回来': 12521, '品品': 12522, '画个': 12523, '叉': 12524, '记号': 12525, '出售': 12526, '叫店': 12527, '导': 12528, '说京': 12529, '东线': 12530, '转动': 12531, '卒': 12532, '发回去': 12533, '不声不响': 12534, '生成': 12535, '逼死': 12536, '全跑': 12537, '舒': 12538, '跳色': 12539, '内防': 12540, '鼓包': 12541, '粗暴': 12542, '海军陆战队': 12543, '第十天': 12544, '能往': 12545, '左偏': 12546, '真气坏': 12547, '塑料布': 12548, '区分': 12549, '低落': 12550, '外交辞令': 12551, '同理': 12552, '脱不出': 12553, '非人类': 12554, '搜不出': 12555, '商圈': 12556, '代名词': 12557, '一腔热血': 12558, '扮演': 12559, '角色': 12560, '实质': 12561, '管理体系': 12562, '绊脚石': 12563, '拼命': 12564, '拉低': 12565, '视而不见': 12566, '尽于': 12567, '掂量': 12568, '货一看': 12569, '一个点': 12570, '栏挤': 12571, '戴送': 12572, '情理之中': 12573, '汤': 12574, '别入': 12575, '走不动': 12576, '新货': 12577, '能顶': 12578, '无线连接': 12579, '条杠': 12580, '摇来': 12581, '摇去': 12582, '下点': 12583, '三期': 12584, '商铺': 12585, '要花': 12586, 'mata20': 12587, '算好': 12588, '分货点': 12589, '车出': 12590, '未到': 12591, '分练处': 12592, '第六天': 12593, '扣俩': 12594, '麻将': 12595, '觉对': 12596, '就断': 12597, '货用': 12598, 'play': 12599, '意味着': 12600, '竖线': 12601, '二年': 12602, 'mate1': 12603, '十二个': 12604, '玩同': 12605, '打的好': 12606, '费力': 12607, '可取': 12608, '三千块': 12609, '聊胜于无': 12610, '坐在': 12611, '蛮横': 12612, '6900': 12613, '差钱': 12614, '只次': 12615, '路边': 12616, '预付': 12617, '星差评': 12618, '吝啬': 12619, '甄别': 12620, '下套': 12621, '坐电梯': 12622, '拦着': 12623, '假白': 12624, '不太像': 12625, '言尽于此': 12626, '很亏': 12627, '后盖震': 12628, '总值': 12629, '付出': 12630, '雪花': 12631, '外裹': 12632, '封口': 12633, '粘胶': 12634, '差有': 12635, '眼见': 12636, '人能': 12637, '不像样': 12638, '普通机': 12639, '介于': 12640, '一个个': 12641, '心来': 12642, '原路': 12643, '电容量': 12644, '增大': 12645, '自动更新': 12646, '上官': 12647, '网买': 12648, '预先': 12649, '好几十个': 12650, '拿久': 12651, '手腕': 12652, '何原因': 12653, '凑合着': 12654, '劣质': 12655, '按到': 12656, '锁住': 12657, '卡成': 12658, '5300': 12659, '拿走': 12660, '互换': 12661, '激烈': 12662, '背锅': 12663, '纸质': 12664, '多处': 12665, '皱纹': 12666, '撕裂': 12667, '黑糊糊': 12668, '显厚': 12669, '边沿': 12670, '反观': 12671, '第二件': 12672, '第二手': 12673, '聚': 12674, '抓拍': 12675, '很锐': 12676, '伊': 12677, '屈屏': 12678, '没破过': 12679, '泥妈': 12680, '买防': 12681, '299': 12682, '含后': 12683, '279': 12684, '保前': 12685, '质是': 12686, '用辣': 12687, '鸡来': 12688, '天黑': 12689, '贴得': 12690, '英魂': 12691, '之刃': 12692, '副本': 12693, '结算': 12694, '烧屏': 12695, '拉黑': 12696, '犬东': 12697, '白来': 12698, '460': 12699, '最初': 12700, '定货': 12701, '计算': 12702, '老有': 12703, '缓存': 12704, '音调': 12705, '大后': 12706, '黄光': 12707, '你息屏': 12708, '切屏': 12709, '多键': 12710, '打团': 12711, '你品': 12712, '细品': 12713, '演示': 12714, '好几遍': 12715, '太闲': 12716, '活儿': 12717, '不干': 12718, '眼光': 12719, '发散': 12720, '最多到': 12721, '感超差': 12722, '玩久': 12723, '手酸': 12724, '大多': 12725, '手抖': 12726, '配发': 12727, '电线': 12728, '硬化': 12729, '电源线': 12730, '好无语': 12731, '压仓': 12732, '吊样': 12733, '这代': 12734, '磁吸': 12735, '拍不出': 12736, '账单': 12737, '老带': 12738, '指敲': 12739, '时灵时': 12740, '反厂': 12741, '慌': 12742, '刚开': 12743, '内存卡': 12744, '定论': 12745, '主观': 12746, '两分': 12747, '员取': 12748, '『': 12749, '』': 12750, '东来': 12751, '没黑边': 12752, '全民': 12753, '带不带': 12754, '我录': 12755, '换取': 12756, '真不多': 12757, '留点': 12758, '泄露': 12759, '个人隐私': 12760, '机率': 12761, '回事': 12762, '波折': 12763, '喷音': 12764, '手拿久': 12765, '手麻': 12766, '不应': 12767, '坚硬': 12768, '预防': 12769, '块砖': 12770, '回安卓机': 12771, '太多太杂': 12772, '选膜': 12773, '操碎心': 12774, '很行': 12775, '一亿': 12776, '外圈': 12777, '粉转': 12778, '结论': 12779, '心声': 12780, '远高于': 12781, '和果': 12782, '底噪': 12783, '耳放': 12784, '自本': 12785, '成立': 12786, '荒诞': 12787, '自查': 12788, '196': 12789, 'cytus2': 12790, '音游时': 12791, '外部环境': 12792, '音时': 12793, '手头': 12794, '稍后': 12795, '评发': 12796, '下无此': 12797, '报': 12798, '爱奇艺': 12799, '按摩': 12800, '果厂': 12801, '1300': 12802, '客套话': 12803, '网络服务': 12804, '释然': 12805, '皮面': 12806, '凸点': 12807, '反回': 12808, '塞进': 12809, 'a4': 12810, '拼': 12811, '人品': 12812, '喷子': 12813, '还踏马': 12814, '某音': 12815, '损友': 12816, '四颗星': 12817, '后退': 12818, '版刷': 12819, '这要': 12820, '耳聋': 12821, '很麻手': 12822, 'orz': 12823, '有太大': 12824, '6999': 12825, '来路不明': 12826, '串货': 12827, '轻掉': 12828, '裂屏': 12829, '木地板': 12830, '发个': 12831, '改不了': 12832, '一点两点': 12833, '改改': 12834, '只能靠': 12835, '美其名曰': 12836, '沈阳': 12837, '拒收': 12838, '明目张胆': 12839, '作证': 12840, '犯': 12841, '没有用完': 12842, '怪怪的': 12843, '很松': 12844, '密实': 12845, '下楼去': 12846, '无言以对': 12847, '个人行为': 12848, '服务质量': 12849, '下压': 12850, '窗口': 12851, '气疯': 12852, '我换个': 12853, '昧着良心': 12854, '手震麻': 12855, '电刷': 12856, '比较严重': 12857, '一站': 12858, '人格': 12859, 'emmmmm': 12860, '部门': 12861, '原定': 12862, '受辱': 12863, '安抚': 12864, '其所受': 12865, '流行色': 12866, '空余': 12867, '截到': 12868, '密度': 12869, '预览': 12870, '任然': 12871, '不相上下': 12872, '不妥': 12873, '冲个': 12874, '十来个': 12875, '没人用': 12876, '比喻': 12877, '说起': 12878, '煎': 12879, '鸡蛋': 12880, '不宜': 12881, '并不比': 12882, '水桶': 12883, '屏贼': 12884, '就是说': 12885, '黑猫': 12886, '录完': 12887, '好换': 12888, '公分': 12889, '真不高': 12890, '最烂': 12891, '无脑': 12892, '言过其实': 12893, '压不住': 12894, '已送': 12895, '两尔旧': 12896, '拔号': 12897, '拔不出': 12898, '此店': 12899, '6splus': 12900, '背景音乐': 12901, '换种': 12902, '分割': 12903, '念念': 12904, '半点': 12905, '抢手货': 12906, '破旧': 12907, '普遍现象': 12908, '右上方': 12909, '强退': 12910, '横着': 12911, '想吐槽': 12912, '经常性': 12913, '狂点': 12914, '紧接着': 12915, '张纸': 12916, '那有': 12917, '弥补': 12918, '昂贵': 12919, '振麻': 12920, '看些': 12921, '几十张': 12922, '一端': 12923, '再导': 12924, '上级': 12925, '滑才行': 12926, '惯': 12927, '评判': 12928, '纯小白': 12929, '等候': 12930, '便捷性': 12931, '机比': 12932, '搞坏': 12933, '挺爽': 12934, '两只手': 12935, '擦拭': 12936, '打分': 12937, '早些': 12938, '灾难': 12939, '虎牙': 12940, '比赛': 12941, '地买': 12942, '两指': 12943, '优缺': 12944, '慢达': 12945, '重缺': 12946, '买膜': 12947, '所定': 12948, '测速': 12949, '网来测': 12950, '以旧': 12951, '充新': 12952, '变国粉': 12953, '妥善解决': 12954, '踢足球': 12955, '踢': 12956, '自行解决': 12957, '换国粉': 12958, '别找我': 12959, '翡翠色': 12960, '厌恶': 12961, '几秒': 12962, '按不动': 12963, '松开': 12964, '本质区别': 12965, '系统安全': 12966, '略大': 12967, '滑能': 12968, '爱国主义': 12969, '接入': 12970, '讲用': 12971, '混在': 12972, '一两次': 12973, '7999': 12974, '看成': 12975, '还慢': 12976, '传言': 12977, '12g': 12978, '灵异': 12979, '亮斑': 12980, '安兔': 12981, '兔': 12982, '65w': 12983, '头干': 12984, '鸡猴': 12985, '属相': 12986, '相冲': 12987, '谈恋爱': 12988, '雷猴': 12989, '孙': 12990, '这用': 12991, '近视': 12992, '摘': 12993, '眼镜': 12994, '富家': 12995, '公子': 12996, '虐如狗': 12997, '一大部分': 12998, '盘上': 12999, '盘老卡': 13000, '2500': 13001, '读': 13002, '读不出': 13003, '你查': 13004, '卡断': 13005, '别提': 13006, '滋滋': 13007, '⑦': 13008, '麽': 13009, '一個': 13010, '遭心': 13011, '爷': 13012, '整吐': 13013, '真给': 13014, '星送': 13015, '同城': 13016, '悲伤': 13017, '打人': 13018, '周降': 13019, '绝望': 13020, '900': 13021, '很气': 13022, '果转来': 13023, '刀刃': 13024, '历史': 13025, '开开': 13026, '傻瓜相机': 13027, '比新出': 13028, '体重': 13029, '秤': 13030, '过不去': 13031, '面包': 13032, '摄裂': 13033, '发红': 13034, '白光': 13035, '七八百': 13036, '花都': 13037, '谢': 13038, '保卡到': 13039, '疑惑': 13040, '欠费': 13041, '黛颜值': 13042, '必': 13043, '吸血': 13044, '耍够': 13045, '只服': 13046, '看似': 13047, '关键问题': 13048, '拖影': 13049, '大师级': 13050, '稳居': 13051, '用公模': 13052, '开倒车': 13053, '随随便便': 13054, '从友商': 13055, '评区': 13056, '三番五次': 13057, '盼星星': 13058, '喜悦感': 13059, '不了了之': 13060, 'oppor17': 13061, '山黛': 13062, '赶不上': 13063, '暗红': 13064, '鲜红': 13065, '造工': 13066, '两则': 13067, '有花': 13068, '须要': 13069, '四至': 13070, '怕麻烦': 13071, '木': 13072, '我太难': 13073, '行不行': 13074, '来拉低': 13075, '装逼': 13076, '祖传': 13077, '劳资': 13078, 'p20pr': 13079, '奉上': 13080, '发觉': 13081, '一两分钟': 13082, '模糊不清': 13083, '同性恋': 13084, '分手': 13085, '屏调': 13086, 'e': 13087, '雷': 13088, '布斯': 13089, '张让': 13090, '张买': 13091, '一处': 13092, '单送': 13093, '局域网': 13094, '电脑操作': 13095, '德行': 13096, '傻快': 13097, '备足': 13098, '有带': 13099, 'iphone8p': 13100, '杀死': 13101, '后台程序': 13102, '相差不远': 13103, '自动开机': 13104, '闪下': 13105, '酥皮': 13106, '一变': 13107, '毛线': 13108, '图来': 13109, '问度娘': 13110, '没福': 13111, '消受': 13112, '称之为': 13113, '器': 13114, '二代': 13115, '度曲': 13116, '难免': 13117, '有泛': 13118, '国皇': 13119, '亦': 13120, '湿手': 13121, '瞎闹': 13122, '中才': 13123, '个个': 13124, '成相': 13125, '暂时性': 13126, '对付': 13127, '充快': 13128, '30w': 13129, '如有': 13130, '密封胶': 13131, '十几号': 13132, '寄个': 13133, '玩尼妈': 13134, '保单': 13135, '亏死': 13136, '保护圈': 13137, '不爱': 13138, '神马': 13139, '赠个': 13140, '刮伤': 13141, '易坏': 13142, '店差': 13143, '闹': 13144, '点不上': 13145, '改没得': 13146, '老火': 13147, '拆分': 13148, '说望': 13149, '谅解': 13150, '贵个': 13151, '节日期间': 13152, '漆有': 13153, '充都': 13154, '角全裂': 13155, '约定': 13156, '如期': 13157, '370': 13158, '有理有据': 13159, '令人信服': 13160, '没货发': 13161, '靠边': 13162, '汽车': 13163, '诸多': 13164, '握到': 13165, '侧有': 13166, '疑问': 13167, '徒有虚名': 13168, '后盖灯': 13169, '缝': 13170, '上下跳动': 13171, '皱痕': 13172, '禁得住': 13173, '6299': 13174, '退单': 13175, '泡泡糖': 13176, '放映': 13177, '别要': 13178, '擦伤': 13179, '插痕': 13180, '网好': 13181, '卷加': 13182, '鲁': 13183, '质差': 13184, '扶不起': 13185, '镀铬': 13186, '亮条': 13187, '欺瞒': 13188, '似是': 13189, '手握手': 13190, '修完': 13191, '又坏了': 13192, '预售版': 13193, '用回': 13194, '莫有': 13195, '友友': 13196, '不合算': 13197, '停住': 13198, '不续': 13199, '机还行': 13200, '买亏': 13201, '重新启动': 13202, '机是': 13203, '不思进取': 13204, '含有': 13205, '扁平': 13206, '标注': 13207, '先得': 13208, '代鸡': 13209, '啥子': 13210, '90hz': 13211, '样样': 13212, '遭': 13213, '通天': 13214, '欢迎': 13215, '不太爽': 13216, '点不动': 13217, '包覆': 13218, '强烈要求': 13219, '中大奖': 13220, '发成': 13221, '一时间': 13222, '名送': 13223, '全送': 13224, '坐上': 13225, '揭开': 13226, '陪相': 13227, '供着': 13228, '抄': 13229, '作出': 13230, '委屈': 13231, '我点': 13232, '发抖': 13233, '别收': 13234, '无赖': 13235, '心哇凉': 13236, '键坏': 13237, '素皮版用': 13238, '拆下来': 13239, '6800': 13240, '稀碎': 13241, '够玩': 13242, '专票': 13243, '黝黑': 13244, '装卡针': 13245, '包装纸': 13246, '弯折': 13247, '丰': 13248, '摆放': 13249, '凌乱': 13250, '底面': 13251, '压塌': 13252, '包装品': 13253, '夸大': 13254, '顶卡槽': 13255, '插针': 13256, '免提': 13257, '场合': 13258, '免提通话': 13259, '尬': 13260, '有什': 13261, '用刀': 13262, '讹': 13263, '某个': 13264, 'z': 13265, '揭膜': 13266, '邮': 13267, '心得体会': 13268, '秒钟': 13269, 'm10': 13270, '人有': 13271, '风雨无阻': 13272, '缺乏': 13273, '真实性': 13274, '写时': 13275, '自欺欺人': 13276, '破卡': 13277, '搞点': 13278, '哪去': 13279, '啥时候': 13280, '还贵': 13281, '取之于民': 13282, '用之于民': 13283, '石头': 13284, '一码事': 13285, '壳平': 13286, '屏处': 13287, '常绿': 13288, '买不起': 13289, '紧': 13290, '人用': 13291, '装配': 13292, '苗条': 13293, '钢化玻璃': 13294, '手机带': 13295, '还会卡': 13296, '度不高': 13297, '还会出': 13298, '破烂': 13299, '回收': 13300, '吃一堑长一智': 13301, '下限': 13302, '生音': 13303, '点卡': 13304, '半途': 13305, '圈碎': 13306, '流海屏': 13307, '97': 13308, '滑屏': 13309, '做以': 13310, '01': 13311, '开交': 13312, '几号': 13313, '纸板盒': 13314, '屏真': 13315, '积灰': 13316, '后发': 13317, '单子': 13318, '下回': 13319, '长窄': 13320, '问候': 13321, '瑕': 13322, '没双': 13323, '未能': 13324, '白平衡': 13325, '漂移': 13326, '飞行': 13327, '手去': 13328, '压感': 13329, '不太足': 13330, '救': 13331, '细水长流': 13332, '瞎吹': 13333, '西湖': 13334, '边录': 13335, '屏太曲': 13336, '手掌': 13337, '托住': 13338, '仓促': 13339, '赶工': 13340, '三大': 13341, '地点': 13342, '现有': 13343, '三家': 13344, '北邮': 13345, '那位': 13346, '复现': 13347, '贡献': 13348, '孟晚': 13349, '舟': 13350, '完降': 13351, '跳楼': 13352, '全额': 13353, '说太多': 13354, 'mmp': 13355, '真信': 13356, '敷衍了事': 13357, '专吭': 13358, '令人发指': 13359, '过来人': 13360, '丫降': 13361, '甭': 13362, '傲慢无礼': 13363, '连一加': 13364, '多方面': 13365, '日前': 13366, '太暗': 13367, '款型': 13368, '测验': 13369, '永州': 13370, '亲口': 13371, '皮球': 13372, '图手': 13373, '坑人': 13374, '熟': 13375, '就裂': 13376, '原谅': 13377, '太扯': 13378, '课程': 13379, '池': 13380, '捡破烂': 13381, '碎了心': 13382, '返': 13383, '十二天': 13384, '全年': 13385, '没买前': 13386, '不降': 13387, '胡': 13388, '说配': 13389, '能值': 13390, '推着': 13391, '起价': 13392, '二月': 13393, '十七日': 13394, '五日': 13395, '竟': 13396, '竞争': 13397, '不管不顾': 13398, '人坑': 13399, '词汇': 13400, '去往': 13401, '贴金': 13402, 'out': 13403, '一心': 13404, '一过': 13405, '一无是处': 13406, '多会': 13407, '问话': 13408, '钱买个': 13409, '人话': 13410, '鸡毛': 13411, '太空': 13412, '申诉': 13413, '措手不及': 13414, '一百多': 13415, '害': 13416, '冒险': 13417, '酱紫': 13418, '慎入': 13419, '送出': 13420, '花个': 13421, '滋味': 13422, '保真': 13423, '天到': 13424, '六百': 13425, '残废': 13426, '咬文嚼字': 13427, '说不清楚': 13428, '连动': 13429, '没动': 13430, '四十多分钟': 13431, '百分之七': 13432, '死差': 13433, '专柜': 13434, '开关机': 13435, '回弹': 13436, '怀着': 13437, '放首': 13438, '含糊其辞': 13439, '理睬': 13440, '差不说': 13441, '永远都是': 13442, '特查': 13443, '礼品券': 13444, '就别': 13445, '不爱理': 13446, '几日': 13447, '哥': 13448, '虚价': 13449, '事宜': 13450, '态度强硬': 13451, '找人': 13452, '从头到尾': 13453, '序': 13454, '核实': 13455, '别处': 13456, '无厘头': 13457, '单有': 13458, '一问': 13459, '非说': 13460, '符合条件': 13461, '大差评': 13462, '弯': 13463, '苏州': 13464, '玛': 13465, '服用': 13466, '没货收': 13467, '预付款': 13468, '又款': 13469, '无数个': 13470, '带理': 13471, '一个半月': 13472, '全包险': 13473, '慢才': 13474, '买且': 13475, '五百名': 13476, '休息': 13477, '样品': 13478, '高帽子': 13479, '没本事': 13480, '外包': 13481, '我求': 13482, '赠完': 13483, '即止': 13484, '窟窿': 13485, '门卫': 13486, '碰着': 13487, '未开': 13488, '一口气': 13489, '热销': 13490, '领悟': 13491, '服从': 13492, '号变': 13493, '错信': 13494, '多问': 13495, '脾气': 13496, '还酸': 13497, '不拉几': 13498, '浮动': 13499, '到家后': 13500, '折过': 13501, '气氛': 13502, '全没': 13503, '纯亏': 13504, '领会到': 13505, '天大': 13506, '安卓真': 13507, '老老实实': 13508, '出生': 13509, '换人': 13510, '前前后后': 13511, '京准': 13512, '期有息': 13513, '人为刀俎': 13514, '我为鱼肉': 13515, '逛时': 13516, '道别': 13517, '屏太坑': 13518, '险才': 13519, '久久': 13520, '吞': 13521, '苍蝇': 13522, '怀念': 13523, '闭': 13524, '做鬼脸': 13525, '首个': 13526, '须': 13527, '了不起': 13528, '真缺': 13529, '互相推诿': 13530, '至无语': 13531, '无辜': 13532, '抬价': 13533, '亲身经历': 13534, '赠碎': 13535, '探针': 13536, '出卖': 13537, '三千': 13538, '七八': 13539}\n"
     ]
    }
   ],
   "source": [
    "print(word_index)"
   ]
  },
  {
   "cell_type": "code",
   "execution_count": 28,
   "metadata": {},
   "outputs": [],
   "source": [
    "# 把对应的情感标记，存储到标记序列 labels 中\n",
    "labels = np.array(df.score)"
   ]
  },
  {
   "cell_type": "code",
   "execution_count": 29,
   "metadata": {},
   "outputs": [
    {
     "data": {
      "text/plain": [
       "array([1, 1, 1, ..., 0, 0, 0], dtype=int64)"
      ]
     },
     "execution_count": 29,
     "metadata": {},
     "output_type": "execute_result"
    }
   ],
   "source": [
    "labels"
   ]
  },
  {
   "cell_type": "code",
   "execution_count": 30,
   "metadata": {},
   "outputs": [],
   "source": [
    "# 划分训练集和测试集，把序号随机化，但保持数据和标记之间的一致性\n",
    "indices = np.arange(data.shape[0])\n",
    "np.random.shuffle(indices)\n",
    "data = data[indices]\n",
    "labels = labels[indices]"
   ]
  },
  {
   "cell_type": "code",
   "execution_count": 31,
   "metadata": {},
   "outputs": [
    {
     "data": {
      "text/plain": [
       "array([1, 1, 1, ..., 1, 1, 1], dtype=int64)"
      ]
     },
     "execution_count": 31,
     "metadata": {},
     "output_type": "execute_result"
    }
   ],
   "source": [
    "labels"
   ]
  },
  {
   "cell_type": "code",
   "execution_count": 32,
   "metadata": {},
   "outputs": [],
   "source": [
    "#训练集占 80% ，验证集占 20%。根据总数，计算一下两者的实际个数\n",
    "training_samples = int(len(indices) * .8)\n",
    "validation_samples = len(indices) - training_samples"
   ]
  },
  {
   "cell_type": "code",
   "execution_count": 33,
   "metadata": {},
   "outputs": [
    {
     "data": {
      "text/plain": [
       "11830"
      ]
     },
     "execution_count": 33,
     "metadata": {},
     "output_type": "execute_result"
    }
   ],
   "source": [
    "# 训练集和验证集的个数\n",
    "training_samples"
   ]
  },
  {
   "cell_type": "code",
   "execution_count": 34,
   "metadata": {},
   "outputs": [
    {
     "data": {
      "text/plain": [
       "2958"
      ]
     },
     "execution_count": 34,
     "metadata": {},
     "output_type": "execute_result"
    }
   ],
   "source": [
    "validation_samples"
   ]
  },
  {
   "cell_type": "code",
   "execution_count": 35,
   "metadata": {},
   "outputs": [],
   "source": [
    "# 正式划分数据\n",
    "X_train = data[:training_samples]\n",
    "y_train = labels[:training_samples]\n",
    "X_valid = data[training_samples: training_samples + validation_samples]\n",
    "y_valid = labels[training_samples: training_samples + validation_samples]"
   ]
  },
  {
   "cell_type": "code",
   "execution_count": 36,
   "metadata": {},
   "outputs": [
    {
     "data": {
      "text/plain": [
       "array([[   0,    0,    0, ...,   50,   18,    1],\n",
       "       [   0,    0,    0, ...,   33,   54,    4],\n",
       "       [   0,    0,    0, ...,    3,   11,   46],\n",
       "       ...,\n",
       "       [   0,    0,    0, ...,  326,  339, 2251],\n",
       "       [   0,    0,    0, ...,    3,    6,   49],\n",
       "       [   0,    0,    0, ...,  114,  583,   55]])"
      ]
     },
     "execution_count": 36,
     "metadata": {},
     "output_type": "execute_result"
    }
   ],
   "source": [
    "X_train"
   ]
  },
  {
   "cell_type": "code",
   "execution_count": 37,
   "metadata": {},
   "outputs": [],
   "source": [
    "# 安装 gensim 软件包，以便使用 Facebook 提供的 fasttext 词嵌入预训练模型\n",
    "import gensim\n",
    "from gensim.models import KeyedVectors"
   ]
  },
  {
   "cell_type": "code",
   "execution_count": 38,
   "metadata": {
    "scrolled": true
   },
   "outputs": [],
   "source": [
    "# 读入词嵌入预训练模型数据\n",
    "zh_model = KeyedVectors.load_word2vec_format('zh.vec')"
   ]
  },
  {
   "cell_type": "code",
   "execution_count": 39,
   "metadata": {},
   "outputs": [
    {
     "data": {
      "text/plain": [
       "array([ 8.6988e-02,  9.1123e-02,  3.0722e-02,  3.4160e-03,  2.7568e-02,\n",
       "        5.4995e-03,  1.0905e-01,  4.9999e-02, -1.9161e-01,  4.2729e-02,\n",
       "        1.3284e-01, -4.2997e-02,  4.4196e-02, -4.6042e-02,  5.2395e-02,\n",
       "       -1.3002e-01,  1.1440e-01, -1.5359e-01,  5.7565e-02,  1.3344e-01,\n",
       "       -6.4197e-02,  5.3679e-02,  1.3349e-01,  6.1268e-02, -2.4911e-03,\n",
       "        1.9382e-01,  4.4253e-02, -2.0858e-02, -8.0714e-02,  1.0053e-01,\n",
       "        5.8553e-02,  6.3155e-02, -2.9961e-02, -3.1906e-02,  5.6153e-02,\n",
       "        5.1014e-02,  1.0752e-01, -7.4407e-02,  9.1990e-02,  1.7744e-01,\n",
       "       -5.9959e-02,  1.4046e-01, -8.0201e-02,  4.3989e-02, -9.5205e-02,\n",
       "        1.3022e-02,  9.1900e-02,  2.4317e-02, -7.0992e-02, -1.5179e-01,\n",
       "       -3.0031e-02,  1.0344e-01, -5.8155e-02,  3.5950e-02, -5.5085e-02,\n",
       "        4.7587e-02, -1.4251e-01, -1.3986e-01, -1.3891e-01,  6.9042e-03,\n",
       "        9.0945e-02, -5.5156e-02,  6.8180e-02,  1.1948e-01,  7.8577e-03,\n",
       "        1.0014e-01, -4.2805e-02,  2.2362e-01, -2.6212e-02, -3.5302e-02,\n",
       "       -6.2687e-03, -1.0843e-01,  1.0872e-01,  2.8890e-02, -3.5473e-03,\n",
       "       -1.9498e-01, -7.5138e-02,  8.5332e-03, -1.0061e-01, -1.7855e-02,\n",
       "       -1.5515e-01,  5.3034e-02,  5.6923e-02,  1.2199e-01,  4.6883e-02,\n",
       "        2.1629e-02,  1.0586e-01,  1.6561e-01, -6.9487e-02,  5.4721e-02,\n",
       "       -3.8894e-02,  5.7113e-02,  1.3905e-02,  7.9968e-03,  2.0372e-02,\n",
       "        3.3724e-02,  8.9571e-02, -6.1825e-02,  8.8606e-02, -5.5677e-04,\n",
       "       -3.8857e-02, -4.9158e-02, -1.6729e-01, -1.8883e-02, -8.5901e-02,\n",
       "        5.5962e-02,  2.5990e-04, -9.9389e-02, -3.0678e-02,  1.9205e-01,\n",
       "       -1.5735e-01, -1.0431e-01,  8.2319e-02,  1.2595e-02,  9.2085e-02,\n",
       "       -5.6538e-02,  1.4844e-02,  9.3501e-02,  1.4248e-02,  7.2259e-02,\n",
       "       -5.5934e-02,  1.1639e-02, -5.8573e-02, -1.3317e-02,  6.1250e-02,\n",
       "       -5.5100e-02,  5.6260e-02,  1.2347e-01, -3.2506e-02,  3.3067e-02,\n",
       "       -2.5218e-02,  1.0814e-01, -5.6682e-02,  8.7505e-03, -4.8172e-02,\n",
       "       -6.4899e-02,  1.6328e-01, -7.9505e-02,  2.7262e-03,  1.3690e-01,\n",
       "       -6.1343e-02, -9.6471e-02,  1.5359e-01, -9.9349e-02,  4.0632e-03,\n",
       "       -1.9113e-01,  8.2199e-02, -2.5211e-02,  1.3088e-01, -3.7268e-02,\n",
       "        1.1964e-01,  8.6707e-02,  4.2749e-02, -1.5924e-03, -1.7589e-02,\n",
       "        4.7354e-02,  8.3091e-02, -6.5673e-03, -7.3253e-02, -1.0561e-01,\n",
       "       -9.5948e-02,  3.5908e-03,  8.2236e-02, -6.5011e-02,  2.0903e-02,\n",
       "       -4.8451e-02, -5.2236e-02, -8.7794e-02, -1.0255e-01,  1.1870e-02,\n",
       "       -5.4561e-02, -1.1820e-01,  6.9707e-02,  1.1088e-01,  4.9565e-02,\n",
       "       -1.6908e-01, -2.5972e-02,  1.7717e-01,  1.2777e-02, -2.1880e-01,\n",
       "       -3.6761e-02,  6.8808e-02, -3.7581e-02,  1.9503e-04, -7.8141e-03,\n",
       "        8.1960e-02, -1.0362e-01, -1.2003e-01, -5.1110e-02,  2.8537e-02,\n",
       "        1.0095e-01,  1.5120e-01, -4.0180e-02,  5.0266e-02,  7.5779e-03,\n",
       "       -4.2154e-02,  1.2446e-01,  1.2966e-01, -1.2152e-01,  3.6949e-02,\n",
       "       -1.5425e-01, -1.1030e-01,  1.3733e-02,  1.4245e-01,  1.3199e-02,\n",
       "        1.2274e-01,  6.2722e-02, -9.5067e-02,  1.1852e-01, -5.2969e-02,\n",
       "       -4.3863e-02, -8.2138e-02, -1.0900e-01, -1.2394e-01,  2.1520e-02,\n",
       "       -4.8022e-02, -7.6740e-02,  3.9333e-03,  2.7155e-02, -8.4467e-02,\n",
       "       -4.5000e-03, -5.6752e-02,  5.6311e-02, -2.7916e-02, -9.6325e-04,\n",
       "       -2.9923e-02,  2.1275e-01,  5.1629e-02,  6.0354e-02,  9.2330e-02,\n",
       "        7.5225e-03,  1.4324e-01,  5.3696e-02,  2.8918e-04, -1.1208e-01,\n",
       "       -1.4720e-02, -5.7640e-03,  3.5396e-02, -2.5289e-02, -1.4953e-02,\n",
       "        3.8573e-03, -5.4327e-02, -1.0364e-01,  7.9213e-02,  1.1286e-01,\n",
       "        2.8222e-01,  1.2950e-01,  4.0886e-02,  3.6691e-02,  5.1253e-02,\n",
       "        4.7032e-02,  3.4693e-02,  5.4439e-02,  1.2965e-01,  7.7064e-02,\n",
       "       -1.0494e-01,  1.3365e-03, -1.1190e-01, -1.0400e-03,  8.7689e-02,\n",
       "        3.5548e-02,  9.7216e-02, -9.7204e-02, -2.5457e-02, -4.9834e-02,\n",
       "       -2.9047e-02, -9.1388e-02, -2.3864e-02,  9.9744e-02, -8.0191e-02,\n",
       "        5.4590e-02,  2.3268e-02, -8.3031e-02, -8.0196e-02,  2.2590e-03,\n",
       "        9.1633e-02,  1.9678e-02, -6.8804e-02,  5.1628e-02,  3.0844e-02,\n",
       "       -1.8965e-01, -3.0205e-02, -9.2076e-04, -1.0805e-01,  1.4195e-02,\n",
       "        2.6702e-02, -8.9089e-02,  4.0170e-02, -1.9595e-02,  1.7595e-04,\n",
       "        1.6760e-01, -6.8750e-02,  8.3131e-02,  1.2923e-01,  1.1810e-01,\n",
       "       -1.4765e-03, -1.7965e-02,  1.0950e-01, -5.3695e-02,  3.3823e-02],\n",
       "      dtype=float32)"
      ]
     },
     "execution_count": 39,
     "metadata": {},
     "output_type": "execute_result"
    }
   ],
   "source": [
    "# 看看其中的第一个向量\n",
    "zh_model.vectors[0]"
   ]
  },
  {
   "cell_type": "code",
   "execution_count": 40,
   "metadata": {},
   "outputs": [
    {
     "data": {
      "text/plain": [
       "['的', '</s>', '在', '是', '年']"
      ]
     },
     "execution_count": 40,
     "metadata": {},
     "output_type": "execute_result"
    }
   ],
   "source": [
    "# 看看前五个词汇\n",
    "list(iter(zh_model.vocab))[:5]"
   ]
  },
  {
   "cell_type": "code",
   "execution_count": 41,
   "metadata": {},
   "outputs": [
    {
     "data": {
      "text/plain": [
       "300"
      ]
     },
     "execution_count": 41,
     "metadata": {},
     "output_type": "execute_result"
    }
   ],
   "source": [
    "# 一个向量中，包含多少个数字\n",
    "len(zh_model[next(iter(zh_model.vocab))])"
   ]
  },
  {
   "cell_type": "code",
   "execution_count": 42,
   "metadata": {},
   "outputs": [],
   "source": [
    "#把这个向量长度，进行保存\n",
    "embedding_dim = len(zh_model[next(iter(zh_model.vocab))])"
   ]
  },
  {
   "cell_type": "code",
   "execution_count": 43,
   "metadata": {},
   "outputs": [],
   "source": [
    "# 然后，以我们规定的字典最大长度，以及每个标记对应向量长度，建立一个随机矩阵\n",
    "embedding_matrix = np.random.rand(max_words, embedding_dim)"
   ]
  },
  {
   "cell_type": "code",
   "execution_count": 44,
   "metadata": {},
   "outputs": [
    {
     "data": {
      "text/plain": [
       "array([[0.81177671, 0.35769904, 0.64477984, ..., 0.05282566, 0.16509018,\n",
       "        0.48347073],\n",
       "       [0.77008079, 0.26944009, 0.8750395 , ..., 0.46733951, 0.94532857,\n",
       "        0.9895263 ],\n",
       "       [0.60658867, 0.74351933, 0.17487181, ..., 0.36717793, 0.75967047,\n",
       "        0.57370875],\n",
       "       ...,\n",
       "       [0.91938648, 0.56982513, 0.13483952, ..., 0.78135649, 0.95080846,\n",
       "        0.32890666],\n",
       "       [0.1254642 , 0.0935171 , 0.34268355, ..., 0.77315973, 0.91471807,\n",
       "        0.94781083],\n",
       "       [0.21833864, 0.38036555, 0.05218983, ..., 0.04036847, 0.648161  ,\n",
       "        0.78828207]])"
      ]
     },
     "execution_count": 44,
     "metadata": {},
     "output_type": "execute_result"
    }
   ],
   "source": [
    "embedding_matrix"
   ]
  },
  {
   "cell_type": "code",
   "execution_count": 45,
   "metadata": {},
   "outputs": [
    {
     "data": {
      "text/plain": [
       "array([[ 0.62355341, -0.28460192,  0.28955968, ..., -0.89434868,\n",
       "        -0.66981963, -0.03305853],\n",
       "       [ 0.54016158, -0.46111982,  0.750079  , ..., -0.06532097,\n",
       "         0.89065715,  0.9790526 ],\n",
       "       [ 0.21317734,  0.48703867, -0.65025638, ..., -0.26564415,\n",
       "         0.51934093,  0.1474175 ],\n",
       "       ...,\n",
       "       [ 0.83877296,  0.13965026, -0.73032096, ...,  0.56271298,\n",
       "         0.90161691, -0.34218669],\n",
       "       [-0.7490716 , -0.8129658 , -0.3146329 , ...,  0.54631946,\n",
       "         0.82943615,  0.89562167],\n",
       "       [-0.56332272, -0.2392689 , -0.89562034, ..., -0.91926306,\n",
       "         0.296322  ,  0.57656414]])"
      ]
     },
     "execution_count": 45,
     "metadata": {},
     "output_type": "execute_result"
    }
   ],
   "source": [
    "#矩阵进行一下数学转换\n",
    "embedding_matrix = (embedding_matrix - 0.5) * 2\n",
    "embedding_matrix"
   ]
  },
  {
   "cell_type": "code",
   "execution_count": 46,
   "metadata": {},
   "outputs": [
    {
     "data": {
      "text/plain": [
       "array([ 8.6988e-02,  9.1123e-02,  3.0722e-02,  3.4160e-03,  2.7568e-02,\n",
       "        5.4995e-03,  1.0905e-01,  4.9999e-02, -1.9161e-01,  4.2729e-02,\n",
       "        1.3284e-01, -4.2997e-02,  4.4196e-02, -4.6042e-02,  5.2395e-02,\n",
       "       -1.3002e-01,  1.1440e-01, -1.5359e-01,  5.7565e-02,  1.3344e-01,\n",
       "       -6.4197e-02,  5.3679e-02,  1.3349e-01,  6.1268e-02, -2.4911e-03,\n",
       "        1.9382e-01,  4.4253e-02, -2.0858e-02, -8.0714e-02,  1.0053e-01,\n",
       "        5.8553e-02,  6.3155e-02, -2.9961e-02, -3.1906e-02,  5.6153e-02,\n",
       "        5.1014e-02,  1.0752e-01, -7.4407e-02,  9.1990e-02,  1.7744e-01,\n",
       "       -5.9959e-02,  1.4046e-01, -8.0201e-02,  4.3989e-02, -9.5205e-02,\n",
       "        1.3022e-02,  9.1900e-02,  2.4317e-02, -7.0992e-02, -1.5179e-01,\n",
       "       -3.0031e-02,  1.0344e-01, -5.8155e-02,  3.5950e-02, -5.5085e-02,\n",
       "        4.7587e-02, -1.4251e-01, -1.3986e-01, -1.3891e-01,  6.9042e-03,\n",
       "        9.0945e-02, -5.5156e-02,  6.8180e-02,  1.1948e-01,  7.8577e-03,\n",
       "        1.0014e-01, -4.2805e-02,  2.2362e-01, -2.6212e-02, -3.5302e-02,\n",
       "       -6.2687e-03, -1.0843e-01,  1.0872e-01,  2.8890e-02, -3.5473e-03,\n",
       "       -1.9498e-01, -7.5138e-02,  8.5332e-03, -1.0061e-01, -1.7855e-02,\n",
       "       -1.5515e-01,  5.3034e-02,  5.6923e-02,  1.2199e-01,  4.6883e-02,\n",
       "        2.1629e-02,  1.0586e-01,  1.6561e-01, -6.9487e-02,  5.4721e-02,\n",
       "       -3.8894e-02,  5.7113e-02,  1.3905e-02,  7.9968e-03,  2.0372e-02,\n",
       "        3.3724e-02,  8.9571e-02, -6.1825e-02,  8.8606e-02, -5.5677e-04,\n",
       "       -3.8857e-02, -4.9158e-02, -1.6729e-01, -1.8883e-02, -8.5901e-02,\n",
       "        5.5962e-02,  2.5990e-04, -9.9389e-02, -3.0678e-02,  1.9205e-01,\n",
       "       -1.5735e-01, -1.0431e-01,  8.2319e-02,  1.2595e-02,  9.2085e-02,\n",
       "       -5.6538e-02,  1.4844e-02,  9.3501e-02,  1.4248e-02,  7.2259e-02,\n",
       "       -5.5934e-02,  1.1639e-02, -5.8573e-02, -1.3317e-02,  6.1250e-02,\n",
       "       -5.5100e-02,  5.6260e-02,  1.2347e-01, -3.2506e-02,  3.3067e-02,\n",
       "       -2.5218e-02,  1.0814e-01, -5.6682e-02,  8.7505e-03, -4.8172e-02,\n",
       "       -6.4899e-02,  1.6328e-01, -7.9505e-02,  2.7262e-03,  1.3690e-01,\n",
       "       -6.1343e-02, -9.6471e-02,  1.5359e-01, -9.9349e-02,  4.0632e-03,\n",
       "       -1.9113e-01,  8.2199e-02, -2.5211e-02,  1.3088e-01, -3.7268e-02,\n",
       "        1.1964e-01,  8.6707e-02,  4.2749e-02, -1.5924e-03, -1.7589e-02,\n",
       "        4.7354e-02,  8.3091e-02, -6.5673e-03, -7.3253e-02, -1.0561e-01,\n",
       "       -9.5948e-02,  3.5908e-03,  8.2236e-02, -6.5011e-02,  2.0903e-02,\n",
       "       -4.8451e-02, -5.2236e-02, -8.7794e-02, -1.0255e-01,  1.1870e-02,\n",
       "       -5.4561e-02, -1.1820e-01,  6.9707e-02,  1.1088e-01,  4.9565e-02,\n",
       "       -1.6908e-01, -2.5972e-02,  1.7717e-01,  1.2777e-02, -2.1880e-01,\n",
       "       -3.6761e-02,  6.8808e-02, -3.7581e-02,  1.9503e-04, -7.8141e-03,\n",
       "        8.1960e-02, -1.0362e-01, -1.2003e-01, -5.1110e-02,  2.8537e-02,\n",
       "        1.0095e-01,  1.5120e-01, -4.0180e-02,  5.0266e-02,  7.5779e-03,\n",
       "       -4.2154e-02,  1.2446e-01,  1.2966e-01, -1.2152e-01,  3.6949e-02,\n",
       "       -1.5425e-01, -1.1030e-01,  1.3733e-02,  1.4245e-01,  1.3199e-02,\n",
       "        1.2274e-01,  6.2722e-02, -9.5067e-02,  1.1852e-01, -5.2969e-02,\n",
       "       -4.3863e-02, -8.2138e-02, -1.0900e-01, -1.2394e-01,  2.1520e-02,\n",
       "       -4.8022e-02, -7.6740e-02,  3.9333e-03,  2.7155e-02, -8.4467e-02,\n",
       "       -4.5000e-03, -5.6752e-02,  5.6311e-02, -2.7916e-02, -9.6325e-04,\n",
       "       -2.9923e-02,  2.1275e-01,  5.1629e-02,  6.0354e-02,  9.2330e-02,\n",
       "        7.5225e-03,  1.4324e-01,  5.3696e-02,  2.8918e-04, -1.1208e-01,\n",
       "       -1.4720e-02, -5.7640e-03,  3.5396e-02, -2.5289e-02, -1.4953e-02,\n",
       "        3.8573e-03, -5.4327e-02, -1.0364e-01,  7.9213e-02,  1.1286e-01,\n",
       "        2.8222e-01,  1.2950e-01,  4.0886e-02,  3.6691e-02,  5.1253e-02,\n",
       "        4.7032e-02,  3.4693e-02,  5.4439e-02,  1.2965e-01,  7.7064e-02,\n",
       "       -1.0494e-01,  1.3365e-03, -1.1190e-01, -1.0400e-03,  8.7689e-02,\n",
       "        3.5548e-02,  9.7216e-02, -9.7204e-02, -2.5457e-02, -4.9834e-02,\n",
       "       -2.9047e-02, -9.1388e-02, -2.3864e-02,  9.9744e-02, -8.0191e-02,\n",
       "        5.4590e-02,  2.3268e-02, -8.3031e-02, -8.0196e-02,  2.2590e-03,\n",
       "        9.1633e-02,  1.9678e-02, -6.8804e-02,  5.1628e-02,  3.0844e-02,\n",
       "       -1.8965e-01, -3.0205e-02, -9.2076e-04, -1.0805e-01,  1.4195e-02,\n",
       "        2.6702e-02, -8.9089e-02,  4.0170e-02, -1.9595e-02,  1.7595e-04,\n",
       "        1.6760e-01, -6.8750e-02,  8.3131e-02,  1.2923e-01,  1.1810e-01,\n",
       "       -1.4765e-03, -1.7965e-02,  1.0950e-01, -5.3695e-02,  3.3823e-02],\n",
       "      dtype=float32)"
      ]
     },
     "execution_count": 46,
     "metadata": {},
     "output_type": "execute_result"
    }
   ],
   "source": [
    "# 尝试，对某个特定标记，读取预训练的向量结果\n",
    "zh_model.get_vector('的')"
   ]
  },
  {
   "cell_type": "code",
   "execution_count": 47,
   "metadata": {},
   "outputs": [],
   "source": [
    "# 判断一下，如果无法获得对应的词向量，我们就干脆跳过，使用默认的随机向量\n",
    "for word, i in word_index.items():\n",
    "    if i < max_words:\n",
    "        try:\n",
    "          embedding_vector = zh_model.get_vector(word)\n",
    "          embedding_matrix[i] = embedding_vector\n",
    "        except:\n",
    "          pass"
   ]
  },
  {
   "cell_type": "code",
   "execution_count": 48,
   "metadata": {},
   "outputs": [
    {
     "data": {
      "text/plain": [
       "array([[ 0.62355341, -0.28460192,  0.28955968, ..., -0.89434868,\n",
       "        -0.66981963, -0.03305853],\n",
       "       [ 0.54016158, -0.46111982,  0.750079  , ..., -0.06532097,\n",
       "         0.89065715,  0.9790526 ],\n",
       "       [ 0.086988  ,  0.091123  ,  0.030722  , ...,  0.1095    ,\n",
       "        -0.053695  ,  0.033823  ],\n",
       "       ...,\n",
       "       [ 0.16067   ,  0.042613  ,  0.063104  , ...,  0.0018621 ,\n",
       "        -0.30768999,  0.25022   ],\n",
       "       [ 0.15899   , -0.032987  ,  0.097759  , ...,  0.11637   ,\n",
       "         0.23063   , -0.040541  ],\n",
       "       [ 0.14001   , -0.037011  ,  0.071167  , ...,  0.27531001,\n",
       "         0.22153001,  0.097541  ]])"
      ]
     },
     "execution_count": 48,
     "metadata": {},
     "output_type": "execute_result"
    }
   ],
   "source": [
    "embedding_matrix"
   ]
  },
  {
   "cell_type": "markdown",
   "metadata": {},
   "source": [
    "至此，我们就开始搭建模型"
   ]
  },
  {
   "cell_type": "code",
   "execution_count": 49,
   "metadata": {},
   "outputs": [
    {
     "name": "stdout",
     "output_type": "stream",
     "text": [
      "Model: \"sequential\"\n",
      "_________________________________________________________________\n",
      "Layer (type)                 Output Shape              Param #   \n",
      "=================================================================\n",
      "embedding (Embedding)        (None, None, 300)         3000000   \n",
      "_________________________________________________________________\n",
      "lstm (LSTM)                  (None, 32)                42624     \n",
      "_________________________________________________________________\n",
      "dense (Dense)                (None, 1)                 33        \n",
      "=================================================================\n",
      "Total params: 3,042,657\n",
      "Trainable params: 3,042,657\n",
      "Non-trainable params: 0\n",
      "_________________________________________________________________\n"
     ]
    }
   ],
   "source": [
    "\n",
    "\n",
    "units = 32\n",
    "\n",
    "model = Sequential()\n",
    "model.add(Embedding(max_words, embedding_dim))\n",
    "model.add(LSTM(units))\n",
    "model.add(Dense(1, activation='sigmoid'))\n",
    "model.summary()"
   ]
  },
  {
   "cell_type": "code",
   "execution_count": 50,
   "metadata": {},
   "outputs": [],
   "source": [
    "# 把刚刚构建的词嵌入矩阵导入\n",
    "model.layers[0].set_weights([embedding_matrix])\n",
    "model.layers[0].trainable = False"
   ]
  },
  {
   "cell_type": "code",
   "execution_count": 51,
   "metadata": {},
   "outputs": [
    {
     "name": "stdout",
     "output_type": "stream",
     "text": [
      "Train on 11830 samples, validate on 2958 samples\n",
      "Epoch 1/10\n",
      "11830/11830 [==============================] - 14s 1ms/sample - loss: 0.3827 - acc: 0.8421 - val_loss: 0.3130 - val_acc: 0.8810\n",
      "Epoch 2/10\n",
      "11830/11830 [==============================] - 8s 656us/sample - loss: 0.2947 - acc: 0.8847 - val_loss: 0.3112 - val_acc: 0.8810\n",
      "Epoch 3/10\n",
      "11830/11830 [==============================] - 8s 651us/sample - loss: 0.2661 - acc: 0.8970 - val_loss: 0.2801 - val_acc: 0.8908\n",
      "Epoch 4/10\n",
      "11830/11830 [==============================] - 8s 669us/sample - loss: 0.2376 - acc: 0.9103 - val_loss: 0.3056 - val_acc: 0.8915s - lo\n",
      "Epoch 5/10\n",
      "11830/11830 [==============================] - 8s 654us/sample - loss: 0.2228 - acc: 0.9171 - val_loss: 0.3035 - val_acc: 0.8824\n",
      "Epoch 6/10\n",
      "11830/11830 [==============================] - 8s 648us/sample - loss: 0.2027 - acc: 0.9227 - val_loss: 0.3101 - val_acc: 0.8911\n",
      "Epoch 7/10\n",
      "11830/11830 [==============================] - 8s 645us/sample - loss: 0.1873 - acc: 0.9306 - val_loss: 0.2742 - val_acc: 0.8986\n",
      "Epoch 8/10\n",
      "11830/11830 [==============================] - 8s 640us/sample - loss: 0.1748 - acc: 0.9356 - val_loss: 0.2925 - val_acc: 0.8807\n",
      "Epoch 9/10\n",
      "11830/11830 [==============================] - 8s 643us/sample - loss: 0.1612 - acc: 0.9413 - val_loss: 0.3014 - val_acc: 0.8966\n",
      "Epoch 10/10\n",
      "11830/11830 [==============================] - 8s 642us/sample - loss: 0.1476 - acc: 0.9455 - val_loss: 0.2921 - val_acc: 0.8966\n"
     ]
    }
   ],
   "source": [
    "# 开始训练\n",
    "model.compile(optimizer='rmsprop',\n",
    "              loss='binary_crossentropy',\n",
    "              metrics=['acc'])\n",
    "history = model.fit(X_train, y_train,\n",
    "                    epochs=10,\n",
    "                    batch_size=32,\n",
    "                    validation_data=(X_valid, y_valid))\n",
    "model.save(\"mymodel.h5\")"
   ]
  },
  {
   "cell_type": "markdown",
   "metadata": {},
   "source": [
    "查看数据训练过程中，损失与准确率的变化情况"
   ]
  },
  {
   "cell_type": "code",
   "execution_count": 52,
   "metadata": {},
   "outputs": [
    {
     "data": {
      "image/png": "[encoded data removed]",
      "text/plain": [
       "<Figure size 432x288 with 1 Axes>"
      ]
     },
     "metadata": {
      "needs_background": "light"
     },
     "output_type": "display_data"
    },
    {
     "data": {
      "image/png": "[encoded data removed]",
      "text/plain": [
       "<Figure size 432x288 with 1 Axes>"
      ]
     },
     "metadata": {
      "needs_background": "light"
     },
     "output_type": "display_data"
    }
   ],
   "source": [
    "acc = history.history['acc']\n",
    "val_acc = history.history['val_acc']\n",
    "loss = history.history['loss']\n",
    "val_loss = history.history['val_loss']\n",
    "\n",
    "epochs = range(1, len(acc) + 1)\n",
    "\n",
    "plt.plot(epochs, acc, 'bo', label='Training acc')\n",
    "plt.plot(epochs, val_acc, 'b', label='Validation acc')\n",
    "plt.title('Training and validation accuracy')\n",
    "plt.legend()\n",
    "\n",
    "plt.figure()\n",
    "\n",
    "plt.plot(epochs, loss, 'bo', label='Training loss')\n",
    "plt.plot(epochs, val_loss, 'b', label='Validation loss')\n",
    "plt.title('Training and validation loss')\n",
    "plt.legend()\n",
    "\n",
    "plt.show()"
   ]
  },
  {
   "cell_type": "markdown",
   "metadata": {},
   "source": [
    "出现这种情况，表明模型出现过拟合的现象了，追其原因，是因为数据量太小"
   ]
  },
  {
   "cell_type": "code",
   "execution_count": null,
   "metadata": {},
   "outputs": [],
   "source": []
  }
 ],
 "metadata": {
  "kernelspec": {
   "display_name": "Python 3",
   "language": "python",
   "name": "python3"
  },
  "language_info": {
   "codemirror_mode": {
    "name": "ipython",
    "version": 3
   },
   "file_extension": ".py",
   "mimetype": "text/x-python",
   "name": "python",
   "nbconvert_exporter": "python",
   "pygments_lexer": "ipython3",
   "version": "3.7.4"
  }
 },
 "nbformat": 4,
 "nbformat_minor": 2
}
